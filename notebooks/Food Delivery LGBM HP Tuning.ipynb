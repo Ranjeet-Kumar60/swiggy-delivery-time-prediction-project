{
 "cells": [
  {
   "cell_type": "code",
   "execution_count": 1,
   "metadata": {
    "executionInfo": {
     "elapsed": 3179,
     "status": "ok",
     "timestamp": 1732873502993,
     "user": {
      "displayName": "Himanshu Arora",
      "userId": "03026800847751892488"
     },
     "user_tz": -330
    },
    "id": "Kje27pyKIlRO"
   },
   "outputs": [],
   "source": [
    "import numpy as np\n",
    "import pandas as pd\n",
    "import data_clean_utils\n",
    "from sklearn.pipeline import Pipeline\n",
    "from sklearn.compose import ColumnTransformer\n",
    "from sklearn.impute import SimpleImputer, KNNImputer, MissingIndicator\n",
    "from sklearn.preprocessing import OneHotEncoder, StandardScaler, LabelEncoder, MinMaxScaler, PowerTransformer, OrdinalEncoder\n",
    "from sklearn.model_selection import train_test_split\n",
    "import joblib"
   ]
  },
  {
   "cell_type": "code",
   "execution_count": 2,
   "metadata": {},
   "outputs": [
    {
     "name": "stdout",
     "output_type": "stream",
     "text": [
      "Requirement already satisfied: joblib in c:\\users\\admin\\anaconda3\\envs\\swiggy_project_env\\lib\\site-packages (1.5.2)\n",
      "Note: you may need to restart the kernel to use updated packages.\n"
     ]
    }
   ],
   "source": [
    "pip install joblib"
   ]
  },
  {
   "cell_type": "code",
   "execution_count": 3,
   "metadata": {
    "colab": {
     "base_uri": "https://localhost:8080/",
     "height": 66
    },
    "executionInfo": {
     "elapsed": 854,
     "status": "ok",
     "timestamp": 1732873512888,
     "user": {
      "displayName": "Himanshu Arora",
      "userId": "03026800847751892488"
     },
     "user_tz": -330
    },
    "id": "RslgFwABsa6k",
    "outputId": "19c3a2b5-6f26-4015-b1b6-8612d5dd86e0"
   },
   "outputs": [
    {
     "data": {
      "text/html": [
       "<pre style=\"white-space:pre;overflow-x:auto;line-height:normal;font-family:Menlo,'DejaVu Sans Mono',consolas,'Courier New',monospace\">Accessing as Ranjeet-Kumar60\n",
       "</pre>\n"
      ],
      "text/plain": [
       "Accessing as Ranjeet-Kumar60\n"
      ]
     },
     "metadata": {},
     "output_type": "display_data"
    },
    {
     "data": {
      "text/html": [
       "<pre style=\"white-space:pre;overflow-x:auto;line-height:normal;font-family:Menlo,'DejaVu Sans Mono',consolas,'Courier New',monospace\">Initialized MLflow to track repo <span style=\"color: #008000; text-decoration-color: #008000\">\"Ranjeet-Kumar60/swiggy-delivery-time-prediction-project\"</span>\n",
       "</pre>\n"
      ],
      "text/plain": [
       "Initialized MLflow to track repo \u001b[32m\"Ranjeet-Kumar60/swiggy-delivery-time-prediction-project\"\u001b[0m\n"
      ]
     },
     "metadata": {},
     "output_type": "display_data"
    },
    {
     "data": {
      "text/html": [
       "<pre style=\"white-space:pre;overflow-x:auto;line-height:normal;font-family:Menlo,'DejaVu Sans Mono',consolas,'Courier New',monospace\">Repository Ranjeet-Kumar60/swiggy-delivery-time-prediction-project initialized!\n",
       "</pre>\n"
      ],
      "text/plain": [
       "Repository Ranjeet-Kumar60/swiggy-delivery-time-prediction-project initialized!\n"
      ]
     },
     "metadata": {},
     "output_type": "display_data"
    }
   ],
   "source": [
    "import dagshub\n",
    "dagshub.init(repo_owner='Ranjeet-Kumar60', repo_name='swiggy-delivery-time-prediction-project', mlflow=True)"
   ]
  },
  {
   "cell_type": "code",
   "execution_count": 4,
   "metadata": {
    "executionInfo": {
     "elapsed": 1786,
     "status": "ok",
     "timestamp": 1732873514669,
     "user": {
      "displayName": "Himanshu Arora",
      "userId": "03026800847751892488"
     },
     "user_tz": -330
    },
    "id": "Z_BcwFkgsyht"
   },
   "outputs": [],
   "source": [
    "import mlflow"
   ]
  },
  {
   "cell_type": "code",
   "execution_count": 5,
   "metadata": {
    "executionInfo": {
     "elapsed": 45,
     "status": "ok",
     "timestamp": 1732873514671,
     "user": {
      "displayName": "Himanshu Arora",
      "userId": "03026800847751892488"
     },
     "user_tz": -330
    },
    "id": "jB813z9Zsu3S"
   },
   "outputs": [],
   "source": [
    "# set the tracking server\n",
    "\n",
    "mlflow.set_tracking_uri(\"https://dagshub.com/Ranjeet-Kumar60/swiggy-delivery-time-prediction-project.mlflow\")"
   ]
  },
  {
   "cell_type": "code",
   "execution_count": 6,
   "metadata": {
    "colab": {
     "base_uri": "https://localhost:8080/"
    },
    "executionInfo": {
     "elapsed": 41,
     "status": "ok",
     "timestamp": 1732873514672,
     "user": {
      "displayName": "Himanshu Arora",
      "userId": "03026800847751892488"
     },
     "user_tz": -330
    },
    "id": "kGIckb5ws2jb",
    "outputId": "f11cd0d3-ea9c-4ff0-8f20-4e563812bf9c"
   },
   "outputs": [
    {
     "data": {
      "text/plain": [
       "<Experiment: artifact_location='mlflow-artifacts:/71b0d6896bf04f54a921261d6bb6984e', creation_time=1758302801940, experiment_id='4', last_update_time=1758302801940, lifecycle_stage='active', name='Exp 4 - LGBM Hyperparameters Tuning', tags={}>"
      ]
     },
     "execution_count": 6,
     "metadata": {},
     "output_type": "execute_result"
    }
   ],
   "source": [
    "# mlflow experiment\n",
    "\n",
    "mlflow.set_experiment(\"Exp 4 - LGBM Hyperparameters Tuning\")"
   ]
  },
  {
   "cell_type": "code",
   "execution_count": 7,
   "metadata": {
    "executionInfo": {
     "elapsed": 13,
     "status": "ok",
     "timestamp": 1732873514672,
     "user": {
      "displayName": "Himanshu Arora",
      "userId": "03026800847751892488"
     },
     "user_tz": -330
    },
    "id": "r7eob7mfjxgl"
   },
   "outputs": [],
   "source": [
    "from sklearn import set_config\n",
    "\n",
    "set_config(transform_output=\"pandas\")"
   ]
  },
  {
   "cell_type": "markdown",
   "metadata": {
    "id": "1vFGURsDVtnH"
   },
   "source": [
    "# Load the Data"
   ]
  },
  {
   "cell_type": "code",
   "execution_count": 8,
   "metadata": {
    "colab": {
     "base_uri": "https://localhost:8080/",
     "height": 461
    },
    "executionInfo": {
     "elapsed": 939,
     "status": "ok",
     "timestamp": 1732873515604,
     "user": {
      "displayName": "Himanshu Arora",
      "userId": "03026800847751892488"
     },
     "user_tz": -330
    },
    "id": "BVMYEJ2OYjRW",
    "outputId": "4f126c7d-b05f-43f0-af56-feea30588db2"
   },
   "outputs": [
    {
     "data": {
      "text/html": [
       "<div>\n",
       "<style scoped>\n",
       "    .dataframe tbody tr th:only-of-type {\n",
       "        vertical-align: middle;\n",
       "    }\n",
       "\n",
       "    .dataframe tbody tr th {\n",
       "        vertical-align: top;\n",
       "    }\n",
       "\n",
       "    .dataframe thead th {\n",
       "        text-align: right;\n",
       "    }\n",
       "</style>\n",
       "<table border=\"1\" class=\"dataframe\">\n",
       "  <thead>\n",
       "    <tr style=\"text-align: right;\">\n",
       "      <th></th>\n",
       "      <th>ID</th>\n",
       "      <th>Delivery_person_ID</th>\n",
       "      <th>Delivery_person_Age</th>\n",
       "      <th>Delivery_person_Ratings</th>\n",
       "      <th>Restaurant_latitude</th>\n",
       "      <th>Restaurant_longitude</th>\n",
       "      <th>Delivery_location_latitude</th>\n",
       "      <th>Delivery_location_longitude</th>\n",
       "      <th>Order_Date</th>\n",
       "      <th>Time_Orderd</th>\n",
       "      <th>Time_Order_picked</th>\n",
       "      <th>Weatherconditions</th>\n",
       "      <th>Road_traffic_density</th>\n",
       "      <th>Vehicle_condition</th>\n",
       "      <th>Type_of_order</th>\n",
       "      <th>Type_of_vehicle</th>\n",
       "      <th>multiple_deliveries</th>\n",
       "      <th>Festival</th>\n",
       "      <th>City</th>\n",
       "      <th>Time_taken(min)</th>\n",
       "    </tr>\n",
       "  </thead>\n",
       "  <tbody>\n",
       "    <tr>\n",
       "      <th>0</th>\n",
       "      <td>0x4607</td>\n",
       "      <td>INDORES13DEL02</td>\n",
       "      <td>37</td>\n",
       "      <td>4.9</td>\n",
       "      <td>22.745049</td>\n",
       "      <td>75.892471</td>\n",
       "      <td>22.765049</td>\n",
       "      <td>75.912471</td>\n",
       "      <td>19-03-2022</td>\n",
       "      <td>11:30:00</td>\n",
       "      <td>11:45:00</td>\n",
       "      <td>conditions Sunny</td>\n",
       "      <td>High</td>\n",
       "      <td>2</td>\n",
       "      <td>Snack</td>\n",
       "      <td>motorcycle</td>\n",
       "      <td>0</td>\n",
       "      <td>No</td>\n",
       "      <td>Urban</td>\n",
       "      <td>(min) 24</td>\n",
       "    </tr>\n",
       "    <tr>\n",
       "      <th>1</th>\n",
       "      <td>0xb379</td>\n",
       "      <td>BANGRES18DEL02</td>\n",
       "      <td>34</td>\n",
       "      <td>4.5</td>\n",
       "      <td>12.913041</td>\n",
       "      <td>77.683237</td>\n",
       "      <td>13.043041</td>\n",
       "      <td>77.813237</td>\n",
       "      <td>25-03-2022</td>\n",
       "      <td>19:45:00</td>\n",
       "      <td>19:50:00</td>\n",
       "      <td>conditions Stormy</td>\n",
       "      <td>Jam</td>\n",
       "      <td>2</td>\n",
       "      <td>Snack</td>\n",
       "      <td>scooter</td>\n",
       "      <td>1</td>\n",
       "      <td>No</td>\n",
       "      <td>Metropolitian</td>\n",
       "      <td>(min) 33</td>\n",
       "    </tr>\n",
       "    <tr>\n",
       "      <th>2</th>\n",
       "      <td>0x5d6d</td>\n",
       "      <td>BANGRES19DEL01</td>\n",
       "      <td>23</td>\n",
       "      <td>4.4</td>\n",
       "      <td>12.914264</td>\n",
       "      <td>77.678400</td>\n",
       "      <td>12.924264</td>\n",
       "      <td>77.688400</td>\n",
       "      <td>19-03-2022</td>\n",
       "      <td>08:30:00</td>\n",
       "      <td>08:45:00</td>\n",
       "      <td>conditions Sandstorms</td>\n",
       "      <td>Low</td>\n",
       "      <td>0</td>\n",
       "      <td>Drinks</td>\n",
       "      <td>motorcycle</td>\n",
       "      <td>1</td>\n",
       "      <td>No</td>\n",
       "      <td>Urban</td>\n",
       "      <td>(min) 26</td>\n",
       "    </tr>\n",
       "    <tr>\n",
       "      <th>3</th>\n",
       "      <td>0x7a6a</td>\n",
       "      <td>COIMBRES13DEL02</td>\n",
       "      <td>38</td>\n",
       "      <td>4.7</td>\n",
       "      <td>11.003669</td>\n",
       "      <td>76.976494</td>\n",
       "      <td>11.053669</td>\n",
       "      <td>77.026494</td>\n",
       "      <td>05-04-2022</td>\n",
       "      <td>18:00:00</td>\n",
       "      <td>18:10:00</td>\n",
       "      <td>conditions Sunny</td>\n",
       "      <td>Medium</td>\n",
       "      <td>0</td>\n",
       "      <td>Buffet</td>\n",
       "      <td>motorcycle</td>\n",
       "      <td>1</td>\n",
       "      <td>No</td>\n",
       "      <td>Metropolitian</td>\n",
       "      <td>(min) 21</td>\n",
       "    </tr>\n",
       "    <tr>\n",
       "      <th>4</th>\n",
       "      <td>0x70a2</td>\n",
       "      <td>CHENRES12DEL01</td>\n",
       "      <td>32</td>\n",
       "      <td>4.6</td>\n",
       "      <td>12.972793</td>\n",
       "      <td>80.249982</td>\n",
       "      <td>13.012793</td>\n",
       "      <td>80.289982</td>\n",
       "      <td>26-03-2022</td>\n",
       "      <td>13:30:00</td>\n",
       "      <td>13:45:00</td>\n",
       "      <td>conditions Cloudy</td>\n",
       "      <td>High</td>\n",
       "      <td>1</td>\n",
       "      <td>Snack</td>\n",
       "      <td>scooter</td>\n",
       "      <td>1</td>\n",
       "      <td>No</td>\n",
       "      <td>Metropolitian</td>\n",
       "      <td>(min) 30</td>\n",
       "    </tr>\n",
       "    <tr>\n",
       "      <th>...</th>\n",
       "      <td>...</td>\n",
       "      <td>...</td>\n",
       "      <td>...</td>\n",
       "      <td>...</td>\n",
       "      <td>...</td>\n",
       "      <td>...</td>\n",
       "      <td>...</td>\n",
       "      <td>...</td>\n",
       "      <td>...</td>\n",
       "      <td>...</td>\n",
       "      <td>...</td>\n",
       "      <td>...</td>\n",
       "      <td>...</td>\n",
       "      <td>...</td>\n",
       "      <td>...</td>\n",
       "      <td>...</td>\n",
       "      <td>...</td>\n",
       "      <td>...</td>\n",
       "      <td>...</td>\n",
       "      <td>...</td>\n",
       "    </tr>\n",
       "    <tr>\n",
       "      <th>45588</th>\n",
       "      <td>0x7c09</td>\n",
       "      <td>JAPRES04DEL01</td>\n",
       "      <td>30</td>\n",
       "      <td>4.8</td>\n",
       "      <td>26.902328</td>\n",
       "      <td>75.794257</td>\n",
       "      <td>26.912328</td>\n",
       "      <td>75.804257</td>\n",
       "      <td>24-03-2022</td>\n",
       "      <td>11:35:00</td>\n",
       "      <td>11:45:00</td>\n",
       "      <td>conditions Windy</td>\n",
       "      <td>High</td>\n",
       "      <td>1</td>\n",
       "      <td>Meal</td>\n",
       "      <td>motorcycle</td>\n",
       "      <td>0</td>\n",
       "      <td>No</td>\n",
       "      <td>Metropolitian</td>\n",
       "      <td>(min) 32</td>\n",
       "    </tr>\n",
       "    <tr>\n",
       "      <th>45589</th>\n",
       "      <td>0xd641</td>\n",
       "      <td>AGRRES16DEL01</td>\n",
       "      <td>21</td>\n",
       "      <td>4.6</td>\n",
       "      <td>0.000000</td>\n",
       "      <td>0.000000</td>\n",
       "      <td>0.070000</td>\n",
       "      <td>0.070000</td>\n",
       "      <td>16-02-2022</td>\n",
       "      <td>19:55:00</td>\n",
       "      <td>20:10:00</td>\n",
       "      <td>conditions Windy</td>\n",
       "      <td>Jam</td>\n",
       "      <td>0</td>\n",
       "      <td>Buffet</td>\n",
       "      <td>motorcycle</td>\n",
       "      <td>1</td>\n",
       "      <td>No</td>\n",
       "      <td>Metropolitian</td>\n",
       "      <td>(min) 36</td>\n",
       "    </tr>\n",
       "    <tr>\n",
       "      <th>45590</th>\n",
       "      <td>0x4f8d</td>\n",
       "      <td>CHENRES08DEL03</td>\n",
       "      <td>30</td>\n",
       "      <td>4.9</td>\n",
       "      <td>13.022394</td>\n",
       "      <td>80.242439</td>\n",
       "      <td>13.052394</td>\n",
       "      <td>80.272439</td>\n",
       "      <td>11-03-2022</td>\n",
       "      <td>23:50:00</td>\n",
       "      <td>00:05:00</td>\n",
       "      <td>conditions Cloudy</td>\n",
       "      <td>Low</td>\n",
       "      <td>1</td>\n",
       "      <td>Drinks</td>\n",
       "      <td>scooter</td>\n",
       "      <td>0</td>\n",
       "      <td>No</td>\n",
       "      <td>Metropolitian</td>\n",
       "      <td>(min) 16</td>\n",
       "    </tr>\n",
       "    <tr>\n",
       "      <th>45591</th>\n",
       "      <td>0x5eee</td>\n",
       "      <td>COIMBRES11DEL01</td>\n",
       "      <td>20</td>\n",
       "      <td>4.7</td>\n",
       "      <td>11.001753</td>\n",
       "      <td>76.986241</td>\n",
       "      <td>11.041753</td>\n",
       "      <td>77.026241</td>\n",
       "      <td>07-03-2022</td>\n",
       "      <td>13:35:00</td>\n",
       "      <td>13:40:00</td>\n",
       "      <td>conditions Cloudy</td>\n",
       "      <td>High</td>\n",
       "      <td>0</td>\n",
       "      <td>Snack</td>\n",
       "      <td>motorcycle</td>\n",
       "      <td>1</td>\n",
       "      <td>No</td>\n",
       "      <td>Metropolitian</td>\n",
       "      <td>(min) 26</td>\n",
       "    </tr>\n",
       "    <tr>\n",
       "      <th>45592</th>\n",
       "      <td>0x5fb2</td>\n",
       "      <td>RANCHIRES09DEL02</td>\n",
       "      <td>23</td>\n",
       "      <td>4.9</td>\n",
       "      <td>23.351058</td>\n",
       "      <td>85.325731</td>\n",
       "      <td>23.431058</td>\n",
       "      <td>85.405731</td>\n",
       "      <td>02-03-2022</td>\n",
       "      <td>17:10:00</td>\n",
       "      <td>17:15:00</td>\n",
       "      <td>conditions Fog</td>\n",
       "      <td>Medium</td>\n",
       "      <td>2</td>\n",
       "      <td>Snack</td>\n",
       "      <td>scooter</td>\n",
       "      <td>1</td>\n",
       "      <td>No</td>\n",
       "      <td>Metropolitian</td>\n",
       "      <td>(min) 36</td>\n",
       "    </tr>\n",
       "  </tbody>\n",
       "</table>\n",
       "<p>45593 rows × 20 columns</p>\n",
       "</div>"
      ],
      "text/plain": [
       "            ID Delivery_person_ID Delivery_person_Age Delivery_person_Ratings  \\\n",
       "0      0x4607     INDORES13DEL02                   37                     4.9   \n",
       "1      0xb379     BANGRES18DEL02                   34                     4.5   \n",
       "2      0x5d6d     BANGRES19DEL01                   23                     4.4   \n",
       "3      0x7a6a    COIMBRES13DEL02                   38                     4.7   \n",
       "4      0x70a2     CHENRES12DEL01                   32                     4.6   \n",
       "...        ...                ...                 ...                     ...   \n",
       "45588  0x7c09      JAPRES04DEL01                   30                     4.8   \n",
       "45589  0xd641      AGRRES16DEL01                   21                     4.6   \n",
       "45590  0x4f8d     CHENRES08DEL03                   30                     4.9   \n",
       "45591  0x5eee    COIMBRES11DEL01                   20                     4.7   \n",
       "45592  0x5fb2   RANCHIRES09DEL02                   23                     4.9   \n",
       "\n",
       "       Restaurant_latitude  Restaurant_longitude  Delivery_location_latitude  \\\n",
       "0                22.745049             75.892471                   22.765049   \n",
       "1                12.913041             77.683237                   13.043041   \n",
       "2                12.914264             77.678400                   12.924264   \n",
       "3                11.003669             76.976494                   11.053669   \n",
       "4                12.972793             80.249982                   13.012793   \n",
       "...                    ...                   ...                         ...   \n",
       "45588            26.902328             75.794257                   26.912328   \n",
       "45589             0.000000              0.000000                    0.070000   \n",
       "45590            13.022394             80.242439                   13.052394   \n",
       "45591            11.001753             76.986241                   11.041753   \n",
       "45592            23.351058             85.325731                   23.431058   \n",
       "\n",
       "       Delivery_location_longitude  Order_Date Time_Orderd Time_Order_picked  \\\n",
       "0                        75.912471  19-03-2022    11:30:00          11:45:00   \n",
       "1                        77.813237  25-03-2022    19:45:00          19:50:00   \n",
       "2                        77.688400  19-03-2022    08:30:00          08:45:00   \n",
       "3                        77.026494  05-04-2022    18:00:00          18:10:00   \n",
       "4                        80.289982  26-03-2022    13:30:00          13:45:00   \n",
       "...                            ...         ...         ...               ...   \n",
       "45588                    75.804257  24-03-2022    11:35:00          11:45:00   \n",
       "45589                     0.070000  16-02-2022    19:55:00          20:10:00   \n",
       "45590                    80.272439  11-03-2022    23:50:00          00:05:00   \n",
       "45591                    77.026241  07-03-2022    13:35:00          13:40:00   \n",
       "45592                    85.405731  02-03-2022    17:10:00          17:15:00   \n",
       "\n",
       "           Weatherconditions Road_traffic_density  Vehicle_condition  \\\n",
       "0           conditions Sunny                High                   2   \n",
       "1          conditions Stormy                 Jam                   2   \n",
       "2      conditions Sandstorms                 Low                   0   \n",
       "3           conditions Sunny              Medium                   0   \n",
       "4          conditions Cloudy                High                   1   \n",
       "...                      ...                  ...                ...   \n",
       "45588       conditions Windy                High                   1   \n",
       "45589       conditions Windy                 Jam                   0   \n",
       "45590      conditions Cloudy                 Low                   1   \n",
       "45591      conditions Cloudy                High                   0   \n",
       "45592         conditions Fog              Medium                   2   \n",
       "\n",
       "      Type_of_order Type_of_vehicle multiple_deliveries Festival  \\\n",
       "0            Snack      motorcycle                    0      No    \n",
       "1            Snack         scooter                    1      No    \n",
       "2           Drinks      motorcycle                    1      No    \n",
       "3           Buffet      motorcycle                    1      No    \n",
       "4            Snack         scooter                    1      No    \n",
       "...             ...             ...                 ...      ...   \n",
       "45588         Meal      motorcycle                    0      No    \n",
       "45589       Buffet      motorcycle                    1      No    \n",
       "45590       Drinks         scooter                    0      No    \n",
       "45591        Snack      motorcycle                    1      No    \n",
       "45592        Snack         scooter                    1      No    \n",
       "\n",
       "                 City Time_taken(min)  \n",
       "0              Urban         (min) 24  \n",
       "1      Metropolitian         (min) 33  \n",
       "2              Urban         (min) 26  \n",
       "3      Metropolitian         (min) 21  \n",
       "4      Metropolitian         (min) 30  \n",
       "...               ...             ...  \n",
       "45588  Metropolitian         (min) 32  \n",
       "45589  Metropolitian         (min) 36  \n",
       "45590  Metropolitian         (min) 16  \n",
       "45591  Metropolitian         (min) 26  \n",
       "45592  Metropolitian         (min) 36  \n",
       "\n",
       "[45593 rows x 20 columns]"
      ]
     },
     "execution_count": 8,
     "metadata": {},
     "output_type": "execute_result"
    }
   ],
   "source": [
    "df = pd.read_csv(\"../data/raw/swiggy.csv\")\n",
    "df"
   ]
  },
  {
   "cell_type": "markdown",
   "metadata": {
    "id": "OQoORRdSYoWU"
   },
   "source": [
    "# Clean Data"
   ]
  },
  {
   "cell_type": "code",
   "execution_count": 9,
   "metadata": {
    "executionInfo": {
     "elapsed": 4812,
     "status": "ok",
     "timestamp": 1732873520385,
     "user": {
      "displayName": "Himanshu Arora",
      "userId": "03026800847751892488"
     },
     "user_tz": -330
    },
    "id": "YpqxpFOJYqgs"
   },
   "outputs": [],
   "source": [
    "swiggy_cleaned=data_clean_utils.perform_data_cleaning(df)"
   ]
  },
  {
   "cell_type": "code",
   "execution_count": 10,
   "metadata": {
    "colab": {
     "base_uri": "https://localhost:8080/",
     "height": 443
    },
    "executionInfo": {
     "elapsed": 995,
     "status": "ok",
     "timestamp": 1732873521376,
     "user": {
      "displayName": "Himanshu Arora",
      "userId": "03026800847751892488"
     },
     "user_tz": -330
    },
    "id": "I0fKq6d3Y2W2",
    "outputId": "c715969e-10e4-4406-95ea-0cae0cfba0f9"
   },
   "outputs": [
    {
     "data": {
      "text/html": [
       "<div>\n",
       "<style scoped>\n",
       "    .dataframe tbody tr th:only-of-type {\n",
       "        vertical-align: middle;\n",
       "    }\n",
       "\n",
       "    .dataframe tbody tr th {\n",
       "        vertical-align: top;\n",
       "    }\n",
       "\n",
       "    .dataframe thead th {\n",
       "        text-align: right;\n",
       "    }\n",
       "</style>\n",
       "<table border=\"1\" class=\"dataframe\">\n",
       "  <thead>\n",
       "    <tr style=\"text-align: right;\">\n",
       "      <th></th>\n",
       "      <th>rider_id</th>\n",
       "      <th>age</th>\n",
       "      <th>ratings</th>\n",
       "      <th>restaurant_latitude</th>\n",
       "      <th>restaurant_longitude</th>\n",
       "      <th>delivery_latitude</th>\n",
       "      <th>delivery_longitude</th>\n",
       "      <th>order_date</th>\n",
       "      <th>weather</th>\n",
       "      <th>traffic</th>\n",
       "      <th>...</th>\n",
       "      <th>city_name</th>\n",
       "      <th>order_day</th>\n",
       "      <th>order_month</th>\n",
       "      <th>order_day_of_week</th>\n",
       "      <th>is_weekend</th>\n",
       "      <th>pickup_time_minutes</th>\n",
       "      <th>order_time_hour</th>\n",
       "      <th>order_time_of_day</th>\n",
       "      <th>distance</th>\n",
       "      <th>distance_type</th>\n",
       "    </tr>\n",
       "  </thead>\n",
       "  <tbody>\n",
       "    <tr>\n",
       "      <th>0</th>\n",
       "      <td>INDORES13DEL02</td>\n",
       "      <td>37.0</td>\n",
       "      <td>4.9</td>\n",
       "      <td>22.745049</td>\n",
       "      <td>75.892471</td>\n",
       "      <td>22.765049</td>\n",
       "      <td>75.912471</td>\n",
       "      <td>2022-03-19</td>\n",
       "      <td>sunny</td>\n",
       "      <td>high</td>\n",
       "      <td>...</td>\n",
       "      <td>INDO</td>\n",
       "      <td>19</td>\n",
       "      <td>3</td>\n",
       "      <td>saturday</td>\n",
       "      <td>1</td>\n",
       "      <td>15.0</td>\n",
       "      <td>11.0</td>\n",
       "      <td>morning</td>\n",
       "      <td>3.025149</td>\n",
       "      <td>short</td>\n",
       "    </tr>\n",
       "    <tr>\n",
       "      <th>1</th>\n",
       "      <td>BANGRES18DEL02</td>\n",
       "      <td>34.0</td>\n",
       "      <td>4.5</td>\n",
       "      <td>12.913041</td>\n",
       "      <td>77.683237</td>\n",
       "      <td>13.043041</td>\n",
       "      <td>77.813237</td>\n",
       "      <td>2022-03-25</td>\n",
       "      <td>stormy</td>\n",
       "      <td>jam</td>\n",
       "      <td>...</td>\n",
       "      <td>BANG</td>\n",
       "      <td>25</td>\n",
       "      <td>3</td>\n",
       "      <td>friday</td>\n",
       "      <td>0</td>\n",
       "      <td>5.0</td>\n",
       "      <td>19.0</td>\n",
       "      <td>evening</td>\n",
       "      <td>20.183530</td>\n",
       "      <td>very_long</td>\n",
       "    </tr>\n",
       "    <tr>\n",
       "      <th>2</th>\n",
       "      <td>BANGRES19DEL01</td>\n",
       "      <td>23.0</td>\n",
       "      <td>4.4</td>\n",
       "      <td>12.914264</td>\n",
       "      <td>77.678400</td>\n",
       "      <td>12.924264</td>\n",
       "      <td>77.688400</td>\n",
       "      <td>2022-03-19</td>\n",
       "      <td>sandstorms</td>\n",
       "      <td>low</td>\n",
       "      <td>...</td>\n",
       "      <td>BANG</td>\n",
       "      <td>19</td>\n",
       "      <td>3</td>\n",
       "      <td>saturday</td>\n",
       "      <td>1</td>\n",
       "      <td>15.0</td>\n",
       "      <td>8.0</td>\n",
       "      <td>morning</td>\n",
       "      <td>1.552758</td>\n",
       "      <td>short</td>\n",
       "    </tr>\n",
       "    <tr>\n",
       "      <th>3</th>\n",
       "      <td>COIMBRES13DEL02</td>\n",
       "      <td>38.0</td>\n",
       "      <td>4.7</td>\n",
       "      <td>11.003669</td>\n",
       "      <td>76.976494</td>\n",
       "      <td>11.053669</td>\n",
       "      <td>77.026494</td>\n",
       "      <td>2022-04-05</td>\n",
       "      <td>sunny</td>\n",
       "      <td>medium</td>\n",
       "      <td>...</td>\n",
       "      <td>COIMB</td>\n",
       "      <td>5</td>\n",
       "      <td>4</td>\n",
       "      <td>tuesday</td>\n",
       "      <td>0</td>\n",
       "      <td>10.0</td>\n",
       "      <td>18.0</td>\n",
       "      <td>evening</td>\n",
       "      <td>7.790401</td>\n",
       "      <td>medium</td>\n",
       "    </tr>\n",
       "    <tr>\n",
       "      <th>4</th>\n",
       "      <td>CHENRES12DEL01</td>\n",
       "      <td>32.0</td>\n",
       "      <td>4.6</td>\n",
       "      <td>12.972793</td>\n",
       "      <td>80.249982</td>\n",
       "      <td>13.012793</td>\n",
       "      <td>80.289982</td>\n",
       "      <td>2022-03-26</td>\n",
       "      <td>cloudy</td>\n",
       "      <td>high</td>\n",
       "      <td>...</td>\n",
       "      <td>CHEN</td>\n",
       "      <td>26</td>\n",
       "      <td>3</td>\n",
       "      <td>saturday</td>\n",
       "      <td>1</td>\n",
       "      <td>15.0</td>\n",
       "      <td>13.0</td>\n",
       "      <td>afternoon</td>\n",
       "      <td>6.210138</td>\n",
       "      <td>medium</td>\n",
       "    </tr>\n",
       "    <tr>\n",
       "      <th>...</th>\n",
       "      <td>...</td>\n",
       "      <td>...</td>\n",
       "      <td>...</td>\n",
       "      <td>...</td>\n",
       "      <td>...</td>\n",
       "      <td>...</td>\n",
       "      <td>...</td>\n",
       "      <td>...</td>\n",
       "      <td>...</td>\n",
       "      <td>...</td>\n",
       "      <td>...</td>\n",
       "      <td>...</td>\n",
       "      <td>...</td>\n",
       "      <td>...</td>\n",
       "      <td>...</td>\n",
       "      <td>...</td>\n",
       "      <td>...</td>\n",
       "      <td>...</td>\n",
       "      <td>...</td>\n",
       "      <td>...</td>\n",
       "      <td>...</td>\n",
       "    </tr>\n",
       "    <tr>\n",
       "      <th>45588</th>\n",
       "      <td>JAPRES04DEL01</td>\n",
       "      <td>30.0</td>\n",
       "      <td>4.8</td>\n",
       "      <td>26.902328</td>\n",
       "      <td>75.794257</td>\n",
       "      <td>26.912328</td>\n",
       "      <td>75.804257</td>\n",
       "      <td>2022-03-24</td>\n",
       "      <td>windy</td>\n",
       "      <td>high</td>\n",
       "      <td>...</td>\n",
       "      <td>JAP</td>\n",
       "      <td>24</td>\n",
       "      <td>3</td>\n",
       "      <td>thursday</td>\n",
       "      <td>0</td>\n",
       "      <td>10.0</td>\n",
       "      <td>11.0</td>\n",
       "      <td>morning</td>\n",
       "      <td>1.489846</td>\n",
       "      <td>short</td>\n",
       "    </tr>\n",
       "    <tr>\n",
       "      <th>45589</th>\n",
       "      <td>AGRRES16DEL01</td>\n",
       "      <td>21.0</td>\n",
       "      <td>4.6</td>\n",
       "      <td>NaN</td>\n",
       "      <td>NaN</td>\n",
       "      <td>NaN</td>\n",
       "      <td>NaN</td>\n",
       "      <td>2022-02-16</td>\n",
       "      <td>windy</td>\n",
       "      <td>jam</td>\n",
       "      <td>...</td>\n",
       "      <td>AGR</td>\n",
       "      <td>16</td>\n",
       "      <td>2</td>\n",
       "      <td>wednesday</td>\n",
       "      <td>0</td>\n",
       "      <td>15.0</td>\n",
       "      <td>19.0</td>\n",
       "      <td>evening</td>\n",
       "      <td>NaN</td>\n",
       "      <td>NaN</td>\n",
       "    </tr>\n",
       "    <tr>\n",
       "      <th>45590</th>\n",
       "      <td>CHENRES08DEL03</td>\n",
       "      <td>30.0</td>\n",
       "      <td>4.9</td>\n",
       "      <td>13.022394</td>\n",
       "      <td>80.242439</td>\n",
       "      <td>13.052394</td>\n",
       "      <td>80.272439</td>\n",
       "      <td>2022-03-11</td>\n",
       "      <td>cloudy</td>\n",
       "      <td>low</td>\n",
       "      <td>...</td>\n",
       "      <td>CHEN</td>\n",
       "      <td>11</td>\n",
       "      <td>3</td>\n",
       "      <td>friday</td>\n",
       "      <td>0</td>\n",
       "      <td>15.0</td>\n",
       "      <td>23.0</td>\n",
       "      <td>night</td>\n",
       "      <td>4.657195</td>\n",
       "      <td>short</td>\n",
       "    </tr>\n",
       "    <tr>\n",
       "      <th>45591</th>\n",
       "      <td>COIMBRES11DEL01</td>\n",
       "      <td>20.0</td>\n",
       "      <td>4.7</td>\n",
       "      <td>11.001753</td>\n",
       "      <td>76.986241</td>\n",
       "      <td>11.041753</td>\n",
       "      <td>77.026241</td>\n",
       "      <td>2022-03-07</td>\n",
       "      <td>cloudy</td>\n",
       "      <td>high</td>\n",
       "      <td>...</td>\n",
       "      <td>COIMB</td>\n",
       "      <td>7</td>\n",
       "      <td>3</td>\n",
       "      <td>monday</td>\n",
       "      <td>0</td>\n",
       "      <td>5.0</td>\n",
       "      <td>13.0</td>\n",
       "      <td>afternoon</td>\n",
       "      <td>6.232393</td>\n",
       "      <td>medium</td>\n",
       "    </tr>\n",
       "    <tr>\n",
       "      <th>45592</th>\n",
       "      <td>RANCHIRES09DEL02</td>\n",
       "      <td>23.0</td>\n",
       "      <td>4.9</td>\n",
       "      <td>23.351058</td>\n",
       "      <td>85.325731</td>\n",
       "      <td>23.431058</td>\n",
       "      <td>85.405731</td>\n",
       "      <td>2022-03-02</td>\n",
       "      <td>fog</td>\n",
       "      <td>medium</td>\n",
       "      <td>...</td>\n",
       "      <td>RANCHI</td>\n",
       "      <td>2</td>\n",
       "      <td>3</td>\n",
       "      <td>wednesday</td>\n",
       "      <td>0</td>\n",
       "      <td>5.0</td>\n",
       "      <td>17.0</td>\n",
       "      <td>afternoon</td>\n",
       "      <td>12.074396</td>\n",
       "      <td>long</td>\n",
       "    </tr>\n",
       "  </tbody>\n",
       "</table>\n",
       "<p>45502 rows × 27 columns</p>\n",
       "</div>"
      ],
      "text/plain": [
       "                rider_id   age  ratings  restaurant_latitude  \\\n",
       "0        INDORES13DEL02   37.0      4.9            22.745049   \n",
       "1        BANGRES18DEL02   34.0      4.5            12.913041   \n",
       "2        BANGRES19DEL01   23.0      4.4            12.914264   \n",
       "3       COIMBRES13DEL02   38.0      4.7            11.003669   \n",
       "4        CHENRES12DEL01   32.0      4.6            12.972793   \n",
       "...                  ...   ...      ...                  ...   \n",
       "45588     JAPRES04DEL01   30.0      4.8            26.902328   \n",
       "45589     AGRRES16DEL01   21.0      4.6                  NaN   \n",
       "45590    CHENRES08DEL03   30.0      4.9            13.022394   \n",
       "45591   COIMBRES11DEL01   20.0      4.7            11.001753   \n",
       "45592  RANCHIRES09DEL02   23.0      4.9            23.351058   \n",
       "\n",
       "       restaurant_longitude  delivery_latitude  delivery_longitude order_date  \\\n",
       "0                 75.892471          22.765049           75.912471 2022-03-19   \n",
       "1                 77.683237          13.043041           77.813237 2022-03-25   \n",
       "2                 77.678400          12.924264           77.688400 2022-03-19   \n",
       "3                 76.976494          11.053669           77.026494 2022-04-05   \n",
       "4                 80.249982          13.012793           80.289982 2022-03-26   \n",
       "...                     ...                ...                 ...        ...   \n",
       "45588             75.794257          26.912328           75.804257 2022-03-24   \n",
       "45589                   NaN                NaN                 NaN 2022-02-16   \n",
       "45590             80.242439          13.052394           80.272439 2022-03-11   \n",
       "45591             76.986241          11.041753           77.026241 2022-03-07   \n",
       "45592             85.325731          23.431058           85.405731 2022-03-02   \n",
       "\n",
       "          weather traffic  ...  city_name order_day order_month  \\\n",
       "0           sunny    high  ...       INDO        19           3   \n",
       "1          stormy     jam  ...       BANG        25           3   \n",
       "2      sandstorms     low  ...       BANG        19           3   \n",
       "3           sunny  medium  ...      COIMB         5           4   \n",
       "4          cloudy    high  ...       CHEN        26           3   \n",
       "...           ...     ...  ...        ...       ...         ...   \n",
       "45588       windy    high  ...        JAP        24           3   \n",
       "45589       windy     jam  ...        AGR        16           2   \n",
       "45590      cloudy     low  ...       CHEN        11           3   \n",
       "45591      cloudy    high  ...      COIMB         7           3   \n",
       "45592         fog  medium  ...     RANCHI         2           3   \n",
       "\n",
       "       order_day_of_week is_weekend pickup_time_minutes  order_time_hour  \\\n",
       "0               saturday          1                15.0             11.0   \n",
       "1                 friday          0                 5.0             19.0   \n",
       "2               saturday          1                15.0              8.0   \n",
       "3                tuesday          0                10.0             18.0   \n",
       "4               saturday          1                15.0             13.0   \n",
       "...                  ...        ...                 ...              ...   \n",
       "45588           thursday          0                10.0             11.0   \n",
       "45589          wednesday          0                15.0             19.0   \n",
       "45590             friday          0                15.0             23.0   \n",
       "45591             monday          0                 5.0             13.0   \n",
       "45592          wednesday          0                 5.0             17.0   \n",
       "\n",
       "      order_time_of_day   distance  distance_type  \n",
       "0               morning   3.025149          short  \n",
       "1               evening  20.183530      very_long  \n",
       "2               morning   1.552758          short  \n",
       "3               evening   7.790401         medium  \n",
       "4             afternoon   6.210138         medium  \n",
       "...                 ...        ...            ...  \n",
       "45588           morning   1.489846          short  \n",
       "45589           evening        NaN            NaN  \n",
       "45590             night   4.657195          short  \n",
       "45591         afternoon   6.232393         medium  \n",
       "45592         afternoon  12.074396           long  \n",
       "\n",
       "[45502 rows x 27 columns]"
      ]
     },
     "execution_count": 10,
     "metadata": {},
     "output_type": "execute_result"
    }
   ],
   "source": [
    "swiggy_cleaned"
   ]
  },
  {
   "cell_type": "code",
   "execution_count": 11,
   "metadata": {
    "colab": {
     "base_uri": "https://localhost:8080/"
    },
    "executionInfo": {
     "elapsed": 7,
     "status": "ok",
     "timestamp": 1732873521376,
     "user": {
      "displayName": "Himanshu Arora",
      "userId": "03026800847751892488"
     },
     "user_tz": -330
    },
    "id": "06VhmH7Lb4xz",
    "outputId": "7873885c-4db2-413b-98c8-cb0ce400b201"
   },
   "outputs": [
    {
     "data": {
      "text/plain": [
       "Index(['rider_id', 'age', 'ratings', 'restaurant_latitude',\n",
       "       'restaurant_longitude', 'delivery_latitude', 'delivery_longitude',\n",
       "       'order_date', 'weather', 'traffic', 'vehicle_condition',\n",
       "       'type_of_order', 'type_of_vehicle', 'multiple_deliveries', 'festival',\n",
       "       'city_type', 'time_taken', 'city_name', 'order_day', 'order_month',\n",
       "       'order_day_of_week', 'is_weekend', 'pickup_time_minutes',\n",
       "       'order_time_hour', 'order_time_of_day', 'distance', 'distance_type'],\n",
       "      dtype='object')"
      ]
     },
     "execution_count": 11,
     "metadata": {},
     "output_type": "execute_result"
    }
   ],
   "source": [
    "swiggy_cleaned.columns"
   ]
  },
  {
   "cell_type": "code",
   "execution_count": 12,
   "metadata": {
    "colab": {
     "base_uri": "https://localhost:8080/",
     "height": 443
    },
    "executionInfo": {
     "elapsed": 439,
     "status": "ok",
     "timestamp": 1732873521813,
     "user": {
      "displayName": "Himanshu Arora",
      "userId": "03026800847751892488"
     },
     "user_tz": -330
    },
    "id": "R-UYeFPobyeh",
    "outputId": "a8c59894-2da9-42a4-ad18-9cebd221853c"
   },
   "outputs": [
    {
     "data": {
      "text/html": [
       "<div>\n",
       "<style scoped>\n",
       "    .dataframe tbody tr th:only-of-type {\n",
       "        vertical-align: middle;\n",
       "    }\n",
       "\n",
       "    .dataframe tbody tr th {\n",
       "        vertical-align: top;\n",
       "    }\n",
       "\n",
       "    .dataframe thead th {\n",
       "        text-align: right;\n",
       "    }\n",
       "</style>\n",
       "<table border=\"1\" class=\"dataframe\">\n",
       "  <thead>\n",
       "    <tr style=\"text-align: right;\">\n",
       "      <th></th>\n",
       "      <th>age</th>\n",
       "      <th>ratings</th>\n",
       "      <th>weather</th>\n",
       "      <th>traffic</th>\n",
       "      <th>vehicle_condition</th>\n",
       "      <th>type_of_order</th>\n",
       "      <th>type_of_vehicle</th>\n",
       "      <th>multiple_deliveries</th>\n",
       "      <th>festival</th>\n",
       "      <th>city_type</th>\n",
       "      <th>time_taken</th>\n",
       "      <th>is_weekend</th>\n",
       "      <th>pickup_time_minutes</th>\n",
       "      <th>order_time_of_day</th>\n",
       "      <th>distance</th>\n",
       "      <th>distance_type</th>\n",
       "    </tr>\n",
       "  </thead>\n",
       "  <tbody>\n",
       "    <tr>\n",
       "      <th>0</th>\n",
       "      <td>37.0</td>\n",
       "      <td>4.9</td>\n",
       "      <td>sunny</td>\n",
       "      <td>high</td>\n",
       "      <td>2</td>\n",
       "      <td>snack</td>\n",
       "      <td>motorcycle</td>\n",
       "      <td>0.0</td>\n",
       "      <td>no</td>\n",
       "      <td>urban</td>\n",
       "      <td>24</td>\n",
       "      <td>1</td>\n",
       "      <td>15.0</td>\n",
       "      <td>morning</td>\n",
       "      <td>3.025149</td>\n",
       "      <td>short</td>\n",
       "    </tr>\n",
       "    <tr>\n",
       "      <th>1</th>\n",
       "      <td>34.0</td>\n",
       "      <td>4.5</td>\n",
       "      <td>stormy</td>\n",
       "      <td>jam</td>\n",
       "      <td>2</td>\n",
       "      <td>snack</td>\n",
       "      <td>scooter</td>\n",
       "      <td>1.0</td>\n",
       "      <td>no</td>\n",
       "      <td>metropolitian</td>\n",
       "      <td>33</td>\n",
       "      <td>0</td>\n",
       "      <td>5.0</td>\n",
       "      <td>evening</td>\n",
       "      <td>20.183530</td>\n",
       "      <td>very_long</td>\n",
       "    </tr>\n",
       "    <tr>\n",
       "      <th>2</th>\n",
       "      <td>23.0</td>\n",
       "      <td>4.4</td>\n",
       "      <td>sandstorms</td>\n",
       "      <td>low</td>\n",
       "      <td>0</td>\n",
       "      <td>drinks</td>\n",
       "      <td>motorcycle</td>\n",
       "      <td>1.0</td>\n",
       "      <td>no</td>\n",
       "      <td>urban</td>\n",
       "      <td>26</td>\n",
       "      <td>1</td>\n",
       "      <td>15.0</td>\n",
       "      <td>morning</td>\n",
       "      <td>1.552758</td>\n",
       "      <td>short</td>\n",
       "    </tr>\n",
       "    <tr>\n",
       "      <th>3</th>\n",
       "      <td>38.0</td>\n",
       "      <td>4.7</td>\n",
       "      <td>sunny</td>\n",
       "      <td>medium</td>\n",
       "      <td>0</td>\n",
       "      <td>buffet</td>\n",
       "      <td>motorcycle</td>\n",
       "      <td>1.0</td>\n",
       "      <td>no</td>\n",
       "      <td>metropolitian</td>\n",
       "      <td>21</td>\n",
       "      <td>0</td>\n",
       "      <td>10.0</td>\n",
       "      <td>evening</td>\n",
       "      <td>7.790401</td>\n",
       "      <td>medium</td>\n",
       "    </tr>\n",
       "    <tr>\n",
       "      <th>4</th>\n",
       "      <td>32.0</td>\n",
       "      <td>4.6</td>\n",
       "      <td>cloudy</td>\n",
       "      <td>high</td>\n",
       "      <td>1</td>\n",
       "      <td>snack</td>\n",
       "      <td>scooter</td>\n",
       "      <td>1.0</td>\n",
       "      <td>no</td>\n",
       "      <td>metropolitian</td>\n",
       "      <td>30</td>\n",
       "      <td>1</td>\n",
       "      <td>15.0</td>\n",
       "      <td>afternoon</td>\n",
       "      <td>6.210138</td>\n",
       "      <td>medium</td>\n",
       "    </tr>\n",
       "    <tr>\n",
       "      <th>...</th>\n",
       "      <td>...</td>\n",
       "      <td>...</td>\n",
       "      <td>...</td>\n",
       "      <td>...</td>\n",
       "      <td>...</td>\n",
       "      <td>...</td>\n",
       "      <td>...</td>\n",
       "      <td>...</td>\n",
       "      <td>...</td>\n",
       "      <td>...</td>\n",
       "      <td>...</td>\n",
       "      <td>...</td>\n",
       "      <td>...</td>\n",
       "      <td>...</td>\n",
       "      <td>...</td>\n",
       "      <td>...</td>\n",
       "    </tr>\n",
       "    <tr>\n",
       "      <th>45588</th>\n",
       "      <td>30.0</td>\n",
       "      <td>4.8</td>\n",
       "      <td>windy</td>\n",
       "      <td>high</td>\n",
       "      <td>1</td>\n",
       "      <td>meal</td>\n",
       "      <td>motorcycle</td>\n",
       "      <td>0.0</td>\n",
       "      <td>no</td>\n",
       "      <td>metropolitian</td>\n",
       "      <td>32</td>\n",
       "      <td>0</td>\n",
       "      <td>10.0</td>\n",
       "      <td>morning</td>\n",
       "      <td>1.489846</td>\n",
       "      <td>short</td>\n",
       "    </tr>\n",
       "    <tr>\n",
       "      <th>45589</th>\n",
       "      <td>21.0</td>\n",
       "      <td>4.6</td>\n",
       "      <td>windy</td>\n",
       "      <td>jam</td>\n",
       "      <td>0</td>\n",
       "      <td>buffet</td>\n",
       "      <td>motorcycle</td>\n",
       "      <td>1.0</td>\n",
       "      <td>no</td>\n",
       "      <td>metropolitian</td>\n",
       "      <td>36</td>\n",
       "      <td>0</td>\n",
       "      <td>15.0</td>\n",
       "      <td>evening</td>\n",
       "      <td>NaN</td>\n",
       "      <td>NaN</td>\n",
       "    </tr>\n",
       "    <tr>\n",
       "      <th>45590</th>\n",
       "      <td>30.0</td>\n",
       "      <td>4.9</td>\n",
       "      <td>cloudy</td>\n",
       "      <td>low</td>\n",
       "      <td>1</td>\n",
       "      <td>drinks</td>\n",
       "      <td>scooter</td>\n",
       "      <td>0.0</td>\n",
       "      <td>no</td>\n",
       "      <td>metropolitian</td>\n",
       "      <td>16</td>\n",
       "      <td>0</td>\n",
       "      <td>15.0</td>\n",
       "      <td>night</td>\n",
       "      <td>4.657195</td>\n",
       "      <td>short</td>\n",
       "    </tr>\n",
       "    <tr>\n",
       "      <th>45591</th>\n",
       "      <td>20.0</td>\n",
       "      <td>4.7</td>\n",
       "      <td>cloudy</td>\n",
       "      <td>high</td>\n",
       "      <td>0</td>\n",
       "      <td>snack</td>\n",
       "      <td>motorcycle</td>\n",
       "      <td>1.0</td>\n",
       "      <td>no</td>\n",
       "      <td>metropolitian</td>\n",
       "      <td>26</td>\n",
       "      <td>0</td>\n",
       "      <td>5.0</td>\n",
       "      <td>afternoon</td>\n",
       "      <td>6.232393</td>\n",
       "      <td>medium</td>\n",
       "    </tr>\n",
       "    <tr>\n",
       "      <th>45592</th>\n",
       "      <td>23.0</td>\n",
       "      <td>4.9</td>\n",
       "      <td>fog</td>\n",
       "      <td>medium</td>\n",
       "      <td>2</td>\n",
       "      <td>snack</td>\n",
       "      <td>scooter</td>\n",
       "      <td>1.0</td>\n",
       "      <td>no</td>\n",
       "      <td>metropolitian</td>\n",
       "      <td>36</td>\n",
       "      <td>0</td>\n",
       "      <td>5.0</td>\n",
       "      <td>afternoon</td>\n",
       "      <td>12.074396</td>\n",
       "      <td>long</td>\n",
       "    </tr>\n",
       "  </tbody>\n",
       "</table>\n",
       "<p>45502 rows × 16 columns</p>\n",
       "</div>"
      ],
      "text/plain": [
       "        age  ratings     weather traffic  vehicle_condition type_of_order  \\\n",
       "0      37.0      4.9       sunny    high                  2         snack   \n",
       "1      34.0      4.5      stormy     jam                  2         snack   \n",
       "2      23.0      4.4  sandstorms     low                  0        drinks   \n",
       "3      38.0      4.7       sunny  medium                  0        buffet   \n",
       "4      32.0      4.6      cloudy    high                  1         snack   \n",
       "...     ...      ...         ...     ...                ...           ...   \n",
       "45588  30.0      4.8       windy    high                  1          meal   \n",
       "45589  21.0      4.6       windy     jam                  0        buffet   \n",
       "45590  30.0      4.9      cloudy     low                  1        drinks   \n",
       "45591  20.0      4.7      cloudy    high                  0         snack   \n",
       "45592  23.0      4.9         fog  medium                  2         snack   \n",
       "\n",
       "      type_of_vehicle  multiple_deliveries festival      city_type  \\\n",
       "0          motorcycle                  0.0       no          urban   \n",
       "1             scooter                  1.0       no  metropolitian   \n",
       "2          motorcycle                  1.0       no          urban   \n",
       "3          motorcycle                  1.0       no  metropolitian   \n",
       "4             scooter                  1.0       no  metropolitian   \n",
       "...               ...                  ...      ...            ...   \n",
       "45588      motorcycle                  0.0       no  metropolitian   \n",
       "45589      motorcycle                  1.0       no  metropolitian   \n",
       "45590         scooter                  0.0       no  metropolitian   \n",
       "45591      motorcycle                  1.0       no  metropolitian   \n",
       "45592         scooter                  1.0       no  metropolitian   \n",
       "\n",
       "       time_taken  is_weekend  pickup_time_minutes order_time_of_day  \\\n",
       "0              24           1                 15.0           morning   \n",
       "1              33           0                  5.0           evening   \n",
       "2              26           1                 15.0           morning   \n",
       "3              21           0                 10.0           evening   \n",
       "4              30           1                 15.0         afternoon   \n",
       "...           ...         ...                  ...               ...   \n",
       "45588          32           0                 10.0           morning   \n",
       "45589          36           0                 15.0           evening   \n",
       "45590          16           0                 15.0             night   \n",
       "45591          26           0                  5.0         afternoon   \n",
       "45592          36           0                  5.0         afternoon   \n",
       "\n",
       "        distance distance_type  \n",
       "0       3.025149         short  \n",
       "1      20.183530     very_long  \n",
       "2       1.552758         short  \n",
       "3       7.790401        medium  \n",
       "4       6.210138        medium  \n",
       "...          ...           ...  \n",
       "45588   1.489846         short  \n",
       "45589        NaN           NaN  \n",
       "45590   4.657195         short  \n",
       "45591   6.232393        medium  \n",
       "45592  12.074396          long  \n",
       "\n",
       "[45502 rows x 16 columns]"
      ]
     },
     "execution_count": 12,
     "metadata": {},
     "output_type": "execute_result"
    }
   ],
   "source": [
    "# drop columns not required for model input\n",
    "\n",
    "columns_to_drop =  ['rider_id',\n",
    "                    'restaurant_latitude',\n",
    "                    'restaurant_longitude',\n",
    "                    'delivery_latitude',\n",
    "                    'delivery_longitude',\n",
    "                    'order_date',\n",
    "                    \"order_time_hour\",\n",
    "                    \"order_day\",\n",
    "                    \"city_name\",\n",
    "                    \"order_day_of_week\",\n",
    "                    \"order_month\"]\n",
    "\n",
    "swiggy_cleaned.drop(columns=columns_to_drop, inplace=True)\n",
    "\n",
    "swiggy_cleaned"
   ]
  },
  {
   "cell_type": "code",
   "execution_count": 13,
   "metadata": {
    "colab": {
     "base_uri": "https://localhost:8080/",
     "height": 585
    },
    "executionInfo": {
     "elapsed": 528,
     "status": "ok",
     "timestamp": 1732873522325,
     "user": {
      "displayName": "Himanshu Arora",
      "userId": "03026800847751892488"
     },
     "user_tz": -330
    },
    "id": "IiOq4IO6cX4q",
    "outputId": "e27846c3-4209-483a-c898-6c861a025cee"
   },
   "outputs": [
    {
     "data": {
      "text/plain": [
       "age                    1854\n",
       "ratings                1908\n",
       "weather                 525\n",
       "traffic                 510\n",
       "vehicle_condition         0\n",
       "type_of_order             0\n",
       "type_of_vehicle           0\n",
       "multiple_deliveries     993\n",
       "festival                228\n",
       "city_type              1198\n",
       "time_taken                0\n",
       "is_weekend                0\n",
       "pickup_time_minutes    1640\n",
       "order_time_of_day      2070\n",
       "distance               3630\n",
       "distance_type          3630\n",
       "dtype: int64"
      ]
     },
     "execution_count": 13,
     "metadata": {},
     "output_type": "execute_result"
    }
   ],
   "source": [
    "# check for missing values\n",
    "\n",
    "swiggy_cleaned.isna().sum()"
   ]
  },
  {
   "cell_type": "code",
   "execution_count": 14,
   "metadata": {
    "colab": {
     "base_uri": "https://localhost:8080/"
    },
    "executionInfo": {
     "elapsed": 8,
     "status": "ok",
     "timestamp": 1732873522326,
     "user": {
      "displayName": "Himanshu Arora",
      "userId": "03026800847751892488"
     },
     "user_tz": -330
    },
    "id": "iHMDE9Mdcxno",
    "outputId": "cad9c1db-1d39-4ba0-a641-89d4f146b726"
   },
   "outputs": [
    {
     "data": {
      "text/plain": [
       "np.int64(0)"
      ]
     },
     "execution_count": 14,
     "metadata": {},
     "output_type": "execute_result"
    }
   ],
   "source": [
    "# check for duplicates\n",
    "\n",
    "swiggy_cleaned.duplicated().sum()"
   ]
  },
  {
   "cell_type": "code",
   "execution_count": 15,
   "metadata": {
    "colab": {
     "base_uri": "https://localhost:8080/",
     "height": 572
    },
    "executionInfo": {
     "elapsed": 3508,
     "status": "ok",
     "timestamp": 1732873525829,
     "user": {
      "displayName": "Himanshu Arora",
      "userId": "03026800847751892488"
     },
     "user_tz": -330
    },
    "id": "Q7bSLKIEc5-E",
    "outputId": "36ef7c04-1cb6-4eac-8325-88ff76994dd1"
   },
   "outputs": [
    {
     "data": {
      "text/plain": [
       "<Axes: >"
      ]
     },
     "execution_count": 15,
     "metadata": {},
     "output_type": "execute_result"
    },
    {
     "data": {
      "image/png": "[encoded data removed]",
      "text/plain": [
       "<Figure size 2500x1000 with 2 Axes>"
      ]
     },
     "metadata": {},
     "output_type": "display_data"
    }
   ],
   "source": [
    "import missingno as msno\n",
    "\n",
    "msno.matrix(swiggy_cleaned)"
   ]
  },
  {
   "cell_type": "code",
   "execution_count": 16,
   "metadata": {
    "colab": {
     "base_uri": "https://localhost:8080/"
    },
    "executionInfo": {
     "elapsed": 45,
     "status": "ok",
     "timestamp": 1732873525830,
     "user": {
      "displayName": "Himanshu Arora",
      "userId": "03026800847751892488"
     },
     "user_tz": -330
    },
    "id": "eAWElUOCi4Zk",
    "outputId": "383e88c3-d824-42e6-9128-c659d5461a83"
   },
   "outputs": [
    {
     "data": {
      "text/plain": [
       "Index(['age', 'ratings', 'weather', 'traffic', 'multiple_deliveries',\n",
       "       'festival', 'city_type', 'pickup_time_minutes', 'order_time_of_day',\n",
       "       'distance', 'distance_type'],\n",
       "      dtype='object')"
      ]
     },
     "execution_count": 16,
     "metadata": {},
     "output_type": "execute_result"
    }
   ],
   "source": [
    "# columns that have missing values\n",
    "\n",
    "missing_cols = (\n",
    "                    swiggy_cleaned\n",
    "                    .isna()\n",
    "                    .any(axis=0)\n",
    "                    .loc[lambda x: x]\n",
    "                    .index\n",
    "                )\n",
    "\n",
    "missing_cols"
   ]
  },
  {
   "cell_type": "markdown",
   "metadata": {
    "id": "A5BZQeJgkJAz"
   },
   "source": [
    "# Drop Missing values"
   ]
  },
  {
   "cell_type": "code",
   "execution_count": 17,
   "metadata": {
    "executionInfo": {
     "elapsed": 30,
     "status": "ok",
     "timestamp": 1732873525831,
     "user": {
      "displayName": "Himanshu Arora",
      "userId": "03026800847751892488"
     },
     "user_tz": -330
    },
    "id": "lo0g_AwrRelP"
   },
   "outputs": [],
   "source": [
    "temp_df = swiggy_cleaned.copy().dropna()"
   ]
  },
  {
   "cell_type": "code",
   "execution_count": 18,
   "metadata": {
    "colab": {
     "base_uri": "https://localhost:8080/",
     "height": 443
    },
    "executionInfo": {
     "elapsed": 30,
     "status": "ok",
     "timestamp": 1732873525832,
     "user": {
      "displayName": "Himanshu Arora",
      "userId": "03026800847751892488"
     },
     "user_tz": -330
    },
    "id": "usqGURjWRelQ",
    "outputId": "afff7f6b-64a5-448f-e87a-be5fe1502e0b"
   },
   "outputs": [
    {
     "data": {
      "text/html": [
       "<div>\n",
       "<style scoped>\n",
       "    .dataframe tbody tr th:only-of-type {\n",
       "        vertical-align: middle;\n",
       "    }\n",
       "\n",
       "    .dataframe tbody tr th {\n",
       "        vertical-align: top;\n",
       "    }\n",
       "\n",
       "    .dataframe thead th {\n",
       "        text-align: right;\n",
       "    }\n",
       "</style>\n",
       "<table border=\"1\" class=\"dataframe\">\n",
       "  <thead>\n",
       "    <tr style=\"text-align: right;\">\n",
       "      <th></th>\n",
       "      <th>age</th>\n",
       "      <th>ratings</th>\n",
       "      <th>weather</th>\n",
       "      <th>traffic</th>\n",
       "      <th>vehicle_condition</th>\n",
       "      <th>type_of_order</th>\n",
       "      <th>type_of_vehicle</th>\n",
       "      <th>multiple_deliveries</th>\n",
       "      <th>festival</th>\n",
       "      <th>city_type</th>\n",
       "      <th>is_weekend</th>\n",
       "      <th>pickup_time_minutes</th>\n",
       "      <th>order_time_of_day</th>\n",
       "      <th>distance</th>\n",
       "      <th>distance_type</th>\n",
       "    </tr>\n",
       "  </thead>\n",
       "  <tbody>\n",
       "    <tr>\n",
       "      <th>0</th>\n",
       "      <td>37.0</td>\n",
       "      <td>4.9</td>\n",
       "      <td>sunny</td>\n",
       "      <td>high</td>\n",
       "      <td>2</td>\n",
       "      <td>snack</td>\n",
       "      <td>motorcycle</td>\n",
       "      <td>0.0</td>\n",
       "      <td>no</td>\n",
       "      <td>urban</td>\n",
       "      <td>1</td>\n",
       "      <td>15.0</td>\n",
       "      <td>morning</td>\n",
       "      <td>3.025149</td>\n",
       "      <td>short</td>\n",
       "    </tr>\n",
       "    <tr>\n",
       "      <th>1</th>\n",
       "      <td>34.0</td>\n",
       "      <td>4.5</td>\n",
       "      <td>stormy</td>\n",
       "      <td>jam</td>\n",
       "      <td>2</td>\n",
       "      <td>snack</td>\n",
       "      <td>scooter</td>\n",
       "      <td>1.0</td>\n",
       "      <td>no</td>\n",
       "      <td>metropolitian</td>\n",
       "      <td>0</td>\n",
       "      <td>5.0</td>\n",
       "      <td>evening</td>\n",
       "      <td>20.183530</td>\n",
       "      <td>very_long</td>\n",
       "    </tr>\n",
       "    <tr>\n",
       "      <th>2</th>\n",
       "      <td>23.0</td>\n",
       "      <td>4.4</td>\n",
       "      <td>sandstorms</td>\n",
       "      <td>low</td>\n",
       "      <td>0</td>\n",
       "      <td>drinks</td>\n",
       "      <td>motorcycle</td>\n",
       "      <td>1.0</td>\n",
       "      <td>no</td>\n",
       "      <td>urban</td>\n",
       "      <td>1</td>\n",
       "      <td>15.0</td>\n",
       "      <td>morning</td>\n",
       "      <td>1.552758</td>\n",
       "      <td>short</td>\n",
       "    </tr>\n",
       "    <tr>\n",
       "      <th>3</th>\n",
       "      <td>38.0</td>\n",
       "      <td>4.7</td>\n",
       "      <td>sunny</td>\n",
       "      <td>medium</td>\n",
       "      <td>0</td>\n",
       "      <td>buffet</td>\n",
       "      <td>motorcycle</td>\n",
       "      <td>1.0</td>\n",
       "      <td>no</td>\n",
       "      <td>metropolitian</td>\n",
       "      <td>0</td>\n",
       "      <td>10.0</td>\n",
       "      <td>evening</td>\n",
       "      <td>7.790401</td>\n",
       "      <td>medium</td>\n",
       "    </tr>\n",
       "    <tr>\n",
       "      <th>4</th>\n",
       "      <td>32.0</td>\n",
       "      <td>4.6</td>\n",
       "      <td>cloudy</td>\n",
       "      <td>high</td>\n",
       "      <td>1</td>\n",
       "      <td>snack</td>\n",
       "      <td>scooter</td>\n",
       "      <td>1.0</td>\n",
       "      <td>no</td>\n",
       "      <td>metropolitian</td>\n",
       "      <td>1</td>\n",
       "      <td>15.0</td>\n",
       "      <td>afternoon</td>\n",
       "      <td>6.210138</td>\n",
       "      <td>medium</td>\n",
       "    </tr>\n",
       "    <tr>\n",
       "      <th>...</th>\n",
       "      <td>...</td>\n",
       "      <td>...</td>\n",
       "      <td>...</td>\n",
       "      <td>...</td>\n",
       "      <td>...</td>\n",
       "      <td>...</td>\n",
       "      <td>...</td>\n",
       "      <td>...</td>\n",
       "      <td>...</td>\n",
       "      <td>...</td>\n",
       "      <td>...</td>\n",
       "      <td>...</td>\n",
       "      <td>...</td>\n",
       "      <td>...</td>\n",
       "      <td>...</td>\n",
       "    </tr>\n",
       "    <tr>\n",
       "      <th>45587</th>\n",
       "      <td>35.0</td>\n",
       "      <td>4.2</td>\n",
       "      <td>windy</td>\n",
       "      <td>jam</td>\n",
       "      <td>2</td>\n",
       "      <td>drinks</td>\n",
       "      <td>motorcycle</td>\n",
       "      <td>1.0</td>\n",
       "      <td>no</td>\n",
       "      <td>metropolitian</td>\n",
       "      <td>0</td>\n",
       "      <td>10.0</td>\n",
       "      <td>night</td>\n",
       "      <td>16.600272</td>\n",
       "      <td>very_long</td>\n",
       "    </tr>\n",
       "    <tr>\n",
       "      <th>45588</th>\n",
       "      <td>30.0</td>\n",
       "      <td>4.8</td>\n",
       "      <td>windy</td>\n",
       "      <td>high</td>\n",
       "      <td>1</td>\n",
       "      <td>meal</td>\n",
       "      <td>motorcycle</td>\n",
       "      <td>0.0</td>\n",
       "      <td>no</td>\n",
       "      <td>metropolitian</td>\n",
       "      <td>0</td>\n",
       "      <td>10.0</td>\n",
       "      <td>morning</td>\n",
       "      <td>1.489846</td>\n",
       "      <td>short</td>\n",
       "    </tr>\n",
       "    <tr>\n",
       "      <th>45590</th>\n",
       "      <td>30.0</td>\n",
       "      <td>4.9</td>\n",
       "      <td>cloudy</td>\n",
       "      <td>low</td>\n",
       "      <td>1</td>\n",
       "      <td>drinks</td>\n",
       "      <td>scooter</td>\n",
       "      <td>0.0</td>\n",
       "      <td>no</td>\n",
       "      <td>metropolitian</td>\n",
       "      <td>0</td>\n",
       "      <td>15.0</td>\n",
       "      <td>night</td>\n",
       "      <td>4.657195</td>\n",
       "      <td>short</td>\n",
       "    </tr>\n",
       "    <tr>\n",
       "      <th>45591</th>\n",
       "      <td>20.0</td>\n",
       "      <td>4.7</td>\n",
       "      <td>cloudy</td>\n",
       "      <td>high</td>\n",
       "      <td>0</td>\n",
       "      <td>snack</td>\n",
       "      <td>motorcycle</td>\n",
       "      <td>1.0</td>\n",
       "      <td>no</td>\n",
       "      <td>metropolitian</td>\n",
       "      <td>0</td>\n",
       "      <td>5.0</td>\n",
       "      <td>afternoon</td>\n",
       "      <td>6.232393</td>\n",
       "      <td>medium</td>\n",
       "    </tr>\n",
       "    <tr>\n",
       "      <th>45592</th>\n",
       "      <td>23.0</td>\n",
       "      <td>4.9</td>\n",
       "      <td>fog</td>\n",
       "      <td>medium</td>\n",
       "      <td>2</td>\n",
       "      <td>snack</td>\n",
       "      <td>scooter</td>\n",
       "      <td>1.0</td>\n",
       "      <td>no</td>\n",
       "      <td>metropolitian</td>\n",
       "      <td>0</td>\n",
       "      <td>5.0</td>\n",
       "      <td>afternoon</td>\n",
       "      <td>12.074396</td>\n",
       "      <td>long</td>\n",
       "    </tr>\n",
       "  </tbody>\n",
       "</table>\n",
       "<p>37695 rows × 15 columns</p>\n",
       "</div>"
      ],
      "text/plain": [
       "        age  ratings     weather traffic  vehicle_condition type_of_order  \\\n",
       "0      37.0      4.9       sunny    high                  2         snack   \n",
       "1      34.0      4.5      stormy     jam                  2         snack   \n",
       "2      23.0      4.4  sandstorms     low                  0        drinks   \n",
       "3      38.0      4.7       sunny  medium                  0        buffet   \n",
       "4      32.0      4.6      cloudy    high                  1         snack   \n",
       "...     ...      ...         ...     ...                ...           ...   \n",
       "45587  35.0      4.2       windy     jam                  2        drinks   \n",
       "45588  30.0      4.8       windy    high                  1          meal   \n",
       "45590  30.0      4.9      cloudy     low                  1        drinks   \n",
       "45591  20.0      4.7      cloudy    high                  0         snack   \n",
       "45592  23.0      4.9         fog  medium                  2         snack   \n",
       "\n",
       "      type_of_vehicle  multiple_deliveries festival      city_type  \\\n",
       "0          motorcycle                  0.0       no          urban   \n",
       "1             scooter                  1.0       no  metropolitian   \n",
       "2          motorcycle                  1.0       no          urban   \n",
       "3          motorcycle                  1.0       no  metropolitian   \n",
       "4             scooter                  1.0       no  metropolitian   \n",
       "...               ...                  ...      ...            ...   \n",
       "45587      motorcycle                  1.0       no  metropolitian   \n",
       "45588      motorcycle                  0.0       no  metropolitian   \n",
       "45590         scooter                  0.0       no  metropolitian   \n",
       "45591      motorcycle                  1.0       no  metropolitian   \n",
       "45592         scooter                  1.0       no  metropolitian   \n",
       "\n",
       "       is_weekend  pickup_time_minutes order_time_of_day   distance  \\\n",
       "0               1                 15.0           morning   3.025149   \n",
       "1               0                  5.0           evening  20.183530   \n",
       "2               1                 15.0           morning   1.552758   \n",
       "3               0                 10.0           evening   7.790401   \n",
       "4               1                 15.0         afternoon   6.210138   \n",
       "...           ...                  ...               ...        ...   \n",
       "45587           0                 10.0             night  16.600272   \n",
       "45588           0                 10.0           morning   1.489846   \n",
       "45590           0                 15.0             night   4.657195   \n",
       "45591           0                  5.0         afternoon   6.232393   \n",
       "45592           0                  5.0         afternoon  12.074396   \n",
       "\n",
       "      distance_type  \n",
       "0             short  \n",
       "1         very_long  \n",
       "2             short  \n",
       "3            medium  \n",
       "4            medium  \n",
       "...             ...  \n",
       "45587     very_long  \n",
       "45588         short  \n",
       "45590         short  \n",
       "45591        medium  \n",
       "45592          long  \n",
       "\n",
       "[37695 rows x 15 columns]"
      ]
     },
     "execution_count": 18,
     "metadata": {},
     "output_type": "execute_result"
    }
   ],
   "source": [
    "# split into X and y\n",
    "\n",
    "X = temp_df.drop(columns='time_taken')\n",
    "y = temp_df['time_taken']\n",
    "\n",
    "X"
   ]
  },
  {
   "cell_type": "code",
   "execution_count": 19,
   "metadata": {
    "executionInfo": {
     "elapsed": 28,
     "status": "ok",
     "timestamp": 1732873525832,
     "user": {
      "displayName": "Himanshu Arora",
      "userId": "03026800847751892488"
     },
     "user_tz": -330
    },
    "id": "UcJAkX63RelS"
   },
   "outputs": [],
   "source": [
    "# train test split\n",
    "\n",
    "X_train, X_test, y_train, y_test = train_test_split(X,y,test_size=0.2,random_state=42)"
   ]
  },
  {
   "cell_type": "code",
   "execution_count": 20,
   "metadata": {
    "colab": {
     "base_uri": "https://localhost:8080/"
    },
    "executionInfo": {
     "elapsed": 35,
     "status": "ok",
     "timestamp": 1732873525841,
     "user": {
      "displayName": "Himanshu Arora",
      "userId": "03026800847751892488"
     },
     "user_tz": -330
    },
    "id": "uL9NQizbRelT",
    "outputId": "05a7a71a-b110-4dcc-d5a1-3aa722dd7e53"
   },
   "outputs": [
    {
     "name": "stdout",
     "output_type": "stream",
     "text": [
      "The size of train data is (30156, 15)\n",
      "The shape of test data is (7539, 15)\n"
     ]
    }
   ],
   "source": [
    "print(\"The size of train data is\",X_train.shape)\n",
    "print(\"The shape of test data is\",X_test.shape)"
   ]
  },
  {
   "cell_type": "code",
   "execution_count": 21,
   "metadata": {
    "colab": {
     "base_uri": "https://localhost:8080/",
     "height": 554
    },
    "executionInfo": {
     "elapsed": 632,
     "status": "ok",
     "timestamp": 1732873526441,
     "user": {
      "displayName": "Himanshu Arora",
      "userId": "03026800847751892488"
     },
     "user_tz": -330
    },
    "id": "DJzsaTRmR7XJ",
    "outputId": "bb9d1bfb-fd9b-4206-a494-749993986228"
   },
   "outputs": [
    {
     "data": {
      "text/plain": [
       "age                    0\n",
       "ratings                0\n",
       "weather                0\n",
       "traffic                0\n",
       "vehicle_condition      0\n",
       "type_of_order          0\n",
       "type_of_vehicle        0\n",
       "multiple_deliveries    0\n",
       "festival               0\n",
       "city_type              0\n",
       "is_weekend             0\n",
       "pickup_time_minutes    0\n",
       "order_time_of_day      0\n",
       "distance               0\n",
       "distance_type          0\n",
       "dtype: int64"
      ]
     },
     "execution_count": 21,
     "metadata": {},
     "output_type": "execute_result"
    }
   ],
   "source": [
    "# missing values in train data\n",
    "\n",
    "X_train.isna().sum()"
   ]
  },
  {
   "cell_type": "code",
   "execution_count": 22,
   "metadata": {
    "executionInfo": {
     "elapsed": 67,
     "status": "ok",
     "timestamp": 1732873526448,
     "user": {
      "displayName": "Himanshu Arora",
      "userId": "03026800847751892488"
     },
     "user_tz": -330
    },
    "id": "6FSRQQo_RelT"
   },
   "outputs": [],
   "source": [
    "# transform target column\n",
    "\n",
    "pt = PowerTransformer()\n",
    "\n",
    "y_train_pt = pt.fit_transform(y_train.values.reshape(-1,1))\n",
    "y_test_pt = pt.transform(y_test.values.reshape(-1,1))"
   ]
  },
  {
   "cell_type": "code",
   "execution_count": 23,
   "metadata": {
    "colab": {
     "base_uri": "https://localhost:8080/"
    },
    "executionInfo": {
     "elapsed": 66,
     "status": "ok",
     "timestamp": 1732873526448,
     "user": {
      "displayName": "Himanshu Arora",
      "userId": "03026800847751892488"
     },
     "user_tz": -330
    },
    "id": "TWPzIQCUj_74",
    "outputId": "c8ac86e8-4032-44fe-e230-af584eb1f0f6"
   },
   "outputs": [
    {
     "data": {
      "text/plain": [
       "Index(['age', 'ratings', 'weather', 'traffic', 'multiple_deliveries',\n",
       "       'festival', 'city_type', 'pickup_time_minutes', 'order_time_of_day',\n",
       "       'distance', 'distance_type'],\n",
       "      dtype='object')"
      ]
     },
     "execution_count": 23,
     "metadata": {},
     "output_type": "execute_result"
    }
   ],
   "source": [
    "missing_cols"
   ]
  },
  {
   "cell_type": "code",
   "execution_count": 24,
   "metadata": {
    "colab": {
     "base_uri": "https://localhost:8080/"
    },
    "executionInfo": {
     "elapsed": 63,
     "status": "ok",
     "timestamp": 1732873526448,
     "user": {
      "displayName": "Himanshu Arora",
      "userId": "03026800847751892488"
     },
     "user_tz": -330
    },
    "id": "SaXhVBXJu6mO",
    "outputId": "7acd934b-2c83-4df3-b6e5-0382f3d729cc"
   },
   "outputs": [
    {
     "data": {
      "text/plain": [
       "np.float64(0.0)"
      ]
     },
     "execution_count": 24,
     "metadata": {},
     "output_type": "execute_result"
    }
   ],
   "source": [
    "# percentage of rows in data having missing values\n",
    "\n",
    "(\n",
    "    X_train\n",
    "    .isna()\n",
    "    .any(axis=1)\n",
    "    .mean()\n",
    "    .round(2) * 100\n",
    ")\n"
   ]
  },
  {
   "cell_type": "markdown",
   "metadata": {
    "id": "QgGmD3bUeZNu"
   },
   "source": [
    "# Pre-Processing Pipeline"
   ]
  },
  {
   "cell_type": "code",
   "execution_count": 25,
   "metadata": {
    "executionInfo": {
     "elapsed": 61,
     "status": "ok",
     "timestamp": 1732873526449,
     "user": {
      "displayName": "Himanshu Arora",
      "userId": "03026800847751892488"
     },
     "user_tz": -330
    },
    "id": "84BqkPZdMlq8"
   },
   "outputs": [],
   "source": [
    "num_cols = [\"age\",\"ratings\",\"pickup_time_minutes\",\"distance\"]\n",
    "\n",
    "nominal_cat_cols = ['weather',\n",
    "                    'type_of_order',\n",
    "                    'type_of_vehicle',\n",
    "                    \"festival\",\n",
    "                    \"city_type\",\n",
    "                    \"is_weekend\",\n",
    "                    \"order_time_of_day\"]\n",
    "\n",
    "ordinal_cat_cols = [\"traffic\",\"distance_type\"]"
   ]
  },
  {
   "cell_type": "code",
   "execution_count": 26,
   "metadata": {
    "colab": {
     "base_uri": "https://localhost:8080/"
    },
    "executionInfo": {
     "elapsed": 61,
     "status": "ok",
     "timestamp": 1732873526449,
     "user": {
      "displayName": "Himanshu Arora",
      "userId": "03026800847751892488"
     },
     "user_tz": -330
    },
    "id": "fPXnF6NUlGRB",
    "outputId": "a3b5570b-f52e-4056-ae3a-49ebda1ea607"
   },
   "outputs": [
    {
     "data": {
      "text/plain": [
       "['weather',\n",
       " 'type_of_order',\n",
       " 'type_of_vehicle',\n",
       " 'festival',\n",
       " 'city_type',\n",
       " 'is_weekend',\n",
       " 'order_time_of_day']"
      ]
     },
     "execution_count": 26,
     "metadata": {},
     "output_type": "execute_result"
    }
   ],
   "source": [
    "nominal_cat_cols"
   ]
  },
  {
   "cell_type": "code",
   "execution_count": 27,
   "metadata": {
    "colab": {
     "base_uri": "https://localhost:8080/",
     "height": 554
    },
    "executionInfo": {
     "elapsed": 66,
     "status": "ok",
     "timestamp": 1732873526456,
     "user": {
      "displayName": "Himanshu Arora",
      "userId": "03026800847751892488"
     },
     "user_tz": -330
    },
    "id": "oUYxye7koxEk",
    "outputId": "41949c85-e49c-4ac1-88d3-f527488c3173"
   },
   "outputs": [
    {
     "data": {
      "text/plain": [
       "age                    0\n",
       "ratings                0\n",
       "weather                0\n",
       "traffic                0\n",
       "vehicle_condition      0\n",
       "type_of_order          0\n",
       "type_of_vehicle        0\n",
       "multiple_deliveries    0\n",
       "festival               0\n",
       "city_type              0\n",
       "is_weekend             0\n",
       "pickup_time_minutes    0\n",
       "order_time_of_day      0\n",
       "distance               0\n",
       "distance_type          0\n",
       "dtype: int64"
      ]
     },
     "execution_count": 27,
     "metadata": {},
     "output_type": "execute_result"
    }
   ],
   "source": [
    "X_train.isna().sum()"
   ]
  },
  {
   "cell_type": "code",
   "execution_count": 28,
   "metadata": {
    "executionInfo": {
     "elapsed": 89,
     "status": "ok",
     "timestamp": 1732873526486,
     "user": {
      "displayName": "Himanshu Arora",
      "userId": "03026800847751892488"
     },
     "user_tz": -330
    },
    "id": "CxotCZQykGzV"
   },
   "outputs": [],
   "source": [
    "# do basic preprocessing\n",
    "\n",
    "num_cols = [\"age\",\"ratings\",\"pickup_time_minutes\",\"distance\"]\n",
    "\n",
    "nominal_cat_cols = ['weather','type_of_order',\n",
    "                    'type_of_vehicle',\"festival\",\n",
    "                    \"city_type\",\n",
    "                    \"is_weekend\",\n",
    "                    \"order_time_of_day\"]\n",
    "\n",
    "ordinal_cat_cols = [\"traffic\",\"distance_type\"]"
   ]
  },
  {
   "cell_type": "code",
   "execution_count": 29,
   "metadata": {
    "executionInfo": {
     "elapsed": 89,
     "status": "ok",
     "timestamp": 1732873526487,
     "user": {
      "displayName": "Himanshu Arora",
      "userId": "03026800847751892488"
     },
     "user_tz": -330
    },
    "id": "1vXEw79MkGzW"
   },
   "outputs": [],
   "source": [
    "# generate order for ordinal encoding\n",
    "\n",
    "traffic_order = [\"low\",\"medium\",\"high\",\"jam\"]\n",
    "\n",
    "distance_type_order = [\"short\",\"medium\",\"long\",\"very_long\"]"
   ]
  },
  {
   "cell_type": "code",
   "execution_count": 30,
   "metadata": {
    "colab": {
     "base_uri": "https://localhost:8080/"
    },
    "executionInfo": {
     "elapsed": 90,
     "status": "ok",
     "timestamp": 1732873526488,
     "user": {
      "displayName": "Himanshu Arora",
      "userId": "03026800847751892488"
     },
     "user_tz": -330
    },
    "id": "Zdqxf1Kinfde",
    "outputId": "3686cc05-ecb5-4add-f9ce-7cccae7116d8"
   },
   "outputs": [
    {
     "name": "stdout",
     "output_type": "stream",
     "text": [
      "traffic ['jam' 'medium' 'high' 'low']\n",
      "distance_type ['medium', 'short', 'long', 'very_long']\n",
      "Categories (4, object): ['short' < 'medium' < 'long' < 'very_long']\n"
     ]
    }
   ],
   "source": [
    "# unique categories the ordinal columns\n",
    "\n",
    "for col in ordinal_cat_cols:\n",
    "    print(col,X_train[col].unique())"
   ]
  },
  {
   "cell_type": "code",
   "execution_count": 31,
   "metadata": {
    "colab": {
     "base_uri": "https://localhost:8080/",
     "height": 135
    },
    "executionInfo": {
     "elapsed": 87,
     "status": "ok",
     "timestamp": 1732873526488,
     "user": {
      "displayName": "Himanshu Arora",
      "userId": "03026800847751892488"
     },
     "user_tz": -330
    },
    "id": "IkSOLqvBkGzW",
    "outputId": "93473346-431d-4c2f-8f38-c038fc7aacf9"
   },
   "outputs": [
    {
     "data": {
      "text/html": [
       "<style>#sk-container-id-1 {\n",
       "  /* Definition of color scheme common for light and dark mode */\n",
       "  --sklearn-color-text: black;\n",
       "  --sklearn-color-line: gray;\n",
       "  /* Definition of color scheme for unfitted estimators */\n",
       "  --sklearn-color-unfitted-level-0: #fff5e6;\n",
       "  --sklearn-color-unfitted-level-1: #f6e4d2;\n",
       "  --sklearn-color-unfitted-level-2: #ffe0b3;\n",
       "  --sklearn-color-unfitted-level-3: chocolate;\n",
       "  /* Definition of color scheme for fitted estimators */\n",
       "  --sklearn-color-fitted-level-0: #f0f8ff;\n",
       "  --sklearn-color-fitted-level-1: #d4ebff;\n",
       "  --sklearn-color-fitted-level-2: #b3dbfd;\n",
       "  --sklearn-color-fitted-level-3: cornflowerblue;\n",
       "\n",
       "  /* Specific color for light theme */\n",
       "  --sklearn-color-text-on-default-background: var(--sg-text-color, var(--theme-code-foreground, var(--jp-content-font-color1, black)));\n",
       "  --sklearn-color-background: var(--sg-background-color, var(--theme-background, var(--jp-layout-color0, white)));\n",
       "  --sklearn-color-border-box: var(--sg-text-color, var(--theme-code-foreground, var(--jp-content-font-color1, black)));\n",
       "  --sklearn-color-icon: #696969;\n",
       "\n",
       "  @media (prefers-color-scheme: dark) {\n",
       "    /* Redefinition of color scheme for dark theme */\n",
       "    --sklearn-color-text-on-default-background: var(--sg-text-color, var(--theme-code-foreground, var(--jp-content-font-color1, white)));\n",
       "    --sklearn-color-background: var(--sg-background-color, var(--theme-background, var(--jp-layout-color0, #111)));\n",
       "    --sklearn-color-border-box: var(--sg-text-color, var(--theme-code-foreground, var(--jp-content-font-color1, white)));\n",
       "    --sklearn-color-icon: #878787;\n",
       "  }\n",
       "}\n",
       "\n",
       "#sk-container-id-1 {\n",
       "  color: var(--sklearn-color-text);\n",
       "}\n",
       "\n",
       "#sk-container-id-1 pre {\n",
       "  padding: 0;\n",
       "}\n",
       "\n",
       "#sk-container-id-1 input.sk-hidden--visually {\n",
       "  border: 0;\n",
       "  clip: rect(1px 1px 1px 1px);\n",
       "  clip: rect(1px, 1px, 1px, 1px);\n",
       "  height: 1px;\n",
       "  margin: -1px;\n",
       "  overflow: hidden;\n",
       "  padding: 0;\n",
       "  position: absolute;\n",
       "  width: 1px;\n",
       "}\n",
       "\n",
       "#sk-container-id-1 div.sk-dashed-wrapped {\n",
       "  border: 1px dashed var(--sklearn-color-line);\n",
       "  margin: 0 0.4em 0.5em 0.4em;\n",
       "  box-sizing: border-box;\n",
       "  padding-bottom: 0.4em;\n",
       "  background-color: var(--sklearn-color-background);\n",
       "}\n",
       "\n",
       "#sk-container-id-1 div.sk-container {\n",
       "  /* jupyter's `normalize.less` sets `[hidden] { display: none; }`\n",
       "     but bootstrap.min.css set `[hidden] { display: none !important; }`\n",
       "     so we also need the `!important` here to be able to override the\n",
       "     default hidden behavior on the sphinx rendered scikit-learn.org.\n",
       "     See: https://github.com/scikit-learn/scikit-learn/issues/21755 */\n",
       "  display: inline-block !important;\n",
       "  position: relative;\n",
       "}\n",
       "\n",
       "#sk-container-id-1 div.sk-text-repr-fallback {\n",
       "  display: none;\n",
       "}\n",
       "\n",
       "div.sk-parallel-item,\n",
       "div.sk-serial,\n",
       "div.sk-item {\n",
       "  /* draw centered vertical line to link estimators */\n",
       "  background-image: linear-gradient(var(--sklearn-color-text-on-default-background), var(--sklearn-color-text-on-default-background));\n",
       "  background-size: 2px 100%;\n",
       "  background-repeat: no-repeat;\n",
       "  background-position: center center;\n",
       "}\n",
       "\n",
       "/* Parallel-specific style estimator block */\n",
       "\n",
       "#sk-container-id-1 div.sk-parallel-item::after {\n",
       "  content: \"\";\n",
       "  width: 100%;\n",
       "  border-bottom: 2px solid var(--sklearn-color-text-on-default-background);\n",
       "  flex-grow: 1;\n",
       "}\n",
       "\n",
       "#sk-container-id-1 div.sk-parallel {\n",
       "  display: flex;\n",
       "  align-items: stretch;\n",
       "  justify-content: center;\n",
       "  background-color: var(--sklearn-color-background);\n",
       "  position: relative;\n",
       "}\n",
       "\n",
       "#sk-container-id-1 div.sk-parallel-item {\n",
       "  display: flex;\n",
       "  flex-direction: column;\n",
       "}\n",
       "\n",
       "#sk-container-id-1 div.sk-parallel-item:first-child::after {\n",
       "  align-self: flex-end;\n",
       "  width: 50%;\n",
       "}\n",
       "\n",
       "#sk-container-id-1 div.sk-parallel-item:last-child::after {\n",
       "  align-self: flex-start;\n",
       "  width: 50%;\n",
       "}\n",
       "\n",
       "#sk-container-id-1 div.sk-parallel-item:only-child::after {\n",
       "  width: 0;\n",
       "}\n",
       "\n",
       "/* Serial-specific style estimator block */\n",
       "\n",
       "#sk-container-id-1 div.sk-serial {\n",
       "  display: flex;\n",
       "  flex-direction: column;\n",
       "  align-items: center;\n",
       "  background-color: var(--sklearn-color-background);\n",
       "  padding-right: 1em;\n",
       "  padding-left: 1em;\n",
       "}\n",
       "\n",
       "\n",
       "/* Toggleable style: style used for estimator/Pipeline/ColumnTransformer box that is\n",
       "clickable and can be expanded/collapsed.\n",
       "- Pipeline and ColumnTransformer use this feature and define the default style\n",
       "- Estimators will overwrite some part of the style using the `sk-estimator` class\n",
       "*/\n",
       "\n",
       "/* Pipeline and ColumnTransformer style (default) */\n",
       "\n",
       "#sk-container-id-1 div.sk-toggleable {\n",
       "  /* Default theme specific background. It is overwritten whether we have a\n",
       "  specific estimator or a Pipeline/ColumnTransformer */\n",
       "  background-color: var(--sklearn-color-background);\n",
       "}\n",
       "\n",
       "/* Toggleable label */\n",
       "#sk-container-id-1 label.sk-toggleable__label {\n",
       "  cursor: pointer;\n",
       "  display: block;\n",
       "  width: 100%;\n",
       "  margin-bottom: 0;\n",
       "  padding: 0.5em;\n",
       "  box-sizing: border-box;\n",
       "  text-align: center;\n",
       "}\n",
       "\n",
       "#sk-container-id-1 label.sk-toggleable__label-arrow:before {\n",
       "  /* Arrow on the left of the label */\n",
       "  content: \"▸\";\n",
       "  float: left;\n",
       "  margin-right: 0.25em;\n",
       "  color: var(--sklearn-color-icon);\n",
       "}\n",
       "\n",
       "#sk-container-id-1 label.sk-toggleable__label-arrow:hover:before {\n",
       "  color: var(--sklearn-color-text);\n",
       "}\n",
       "\n",
       "/* Toggleable content - dropdown */\n",
       "\n",
       "#sk-container-id-1 div.sk-toggleable__content {\n",
       "  max-height: 0;\n",
       "  max-width: 0;\n",
       "  overflow: hidden;\n",
       "  text-align: left;\n",
       "  /* unfitted */\n",
       "  background-color: var(--sklearn-color-unfitted-level-0);\n",
       "}\n",
       "\n",
       "#sk-container-id-1 div.sk-toggleable__content.fitted {\n",
       "  /* fitted */\n",
       "  background-color: var(--sklearn-color-fitted-level-0);\n",
       "}\n",
       "\n",
       "#sk-container-id-1 div.sk-toggleable__content pre {\n",
       "  margin: 0.2em;\n",
       "  border-radius: 0.25em;\n",
       "  color: var(--sklearn-color-text);\n",
       "  /* unfitted */\n",
       "  background-color: var(--sklearn-color-unfitted-level-0);\n",
       "}\n",
       "\n",
       "#sk-container-id-1 div.sk-toggleable__content.fitted pre {\n",
       "  /* unfitted */\n",
       "  background-color: var(--sklearn-color-fitted-level-0);\n",
       "}\n",
       "\n",
       "#sk-container-id-1 input.sk-toggleable__control:checked~div.sk-toggleable__content {\n",
       "  /* Expand drop-down */\n",
       "  max-height: 200px;\n",
       "  max-width: 100%;\n",
       "  overflow: auto;\n",
       "}\n",
       "\n",
       "#sk-container-id-1 input.sk-toggleable__control:checked~label.sk-toggleable__label-arrow:before {\n",
       "  content: \"▾\";\n",
       "}\n",
       "\n",
       "/* Pipeline/ColumnTransformer-specific style */\n",
       "\n",
       "#sk-container-id-1 div.sk-label input.sk-toggleable__control:checked~label.sk-toggleable__label {\n",
       "  color: var(--sklearn-color-text);\n",
       "  background-color: var(--sklearn-color-unfitted-level-2);\n",
       "}\n",
       "\n",
       "#sk-container-id-1 div.sk-label.fitted input.sk-toggleable__control:checked~label.sk-toggleable__label {\n",
       "  background-color: var(--sklearn-color-fitted-level-2);\n",
       "}\n",
       "\n",
       "/* Estimator-specific style */\n",
       "\n",
       "/* Colorize estimator box */\n",
       "#sk-container-id-1 div.sk-estimator input.sk-toggleable__control:checked~label.sk-toggleable__label {\n",
       "  /* unfitted */\n",
       "  background-color: var(--sklearn-color-unfitted-level-2);\n",
       "}\n",
       "\n",
       "#sk-container-id-1 div.sk-estimator.fitted input.sk-toggleable__control:checked~label.sk-toggleable__label {\n",
       "  /* fitted */\n",
       "  background-color: var(--sklearn-color-fitted-level-2);\n",
       "}\n",
       "\n",
       "#sk-container-id-1 div.sk-label label.sk-toggleable__label,\n",
       "#sk-container-id-1 div.sk-label label {\n",
       "  /* The background is the default theme color */\n",
       "  color: var(--sklearn-color-text-on-default-background);\n",
       "}\n",
       "\n",
       "/* On hover, darken the color of the background */\n",
       "#sk-container-id-1 div.sk-label:hover label.sk-toggleable__label {\n",
       "  color: var(--sklearn-color-text);\n",
       "  background-color: var(--sklearn-color-unfitted-level-2);\n",
       "}\n",
       "\n",
       "/* Label box, darken color on hover, fitted */\n",
       "#sk-container-id-1 div.sk-label.fitted:hover label.sk-toggleable__label.fitted {\n",
       "  color: var(--sklearn-color-text);\n",
       "  background-color: var(--sklearn-color-fitted-level-2);\n",
       "}\n",
       "\n",
       "/* Estimator label */\n",
       "\n",
       "#sk-container-id-1 div.sk-label label {\n",
       "  font-family: monospace;\n",
       "  font-weight: bold;\n",
       "  display: inline-block;\n",
       "  line-height: 1.2em;\n",
       "}\n",
       "\n",
       "#sk-container-id-1 div.sk-label-container {\n",
       "  text-align: center;\n",
       "}\n",
       "\n",
       "/* Estimator-specific */\n",
       "#sk-container-id-1 div.sk-estimator {\n",
       "  font-family: monospace;\n",
       "  border: 1px dotted var(--sklearn-color-border-box);\n",
       "  border-radius: 0.25em;\n",
       "  box-sizing: border-box;\n",
       "  margin-bottom: 0.5em;\n",
       "  /* unfitted */\n",
       "  background-color: var(--sklearn-color-unfitted-level-0);\n",
       "}\n",
       "\n",
       "#sk-container-id-1 div.sk-estimator.fitted {\n",
       "  /* fitted */\n",
       "  background-color: var(--sklearn-color-fitted-level-0);\n",
       "}\n",
       "\n",
       "/* on hover */\n",
       "#sk-container-id-1 div.sk-estimator:hover {\n",
       "  /* unfitted */\n",
       "  background-color: var(--sklearn-color-unfitted-level-2);\n",
       "}\n",
       "\n",
       "#sk-container-id-1 div.sk-estimator.fitted:hover {\n",
       "  /* fitted */\n",
       "  background-color: var(--sklearn-color-fitted-level-2);\n",
       "}\n",
       "\n",
       "/* Specification for estimator info (e.g. \"i\" and \"?\") */\n",
       "\n",
       "/* Common style for \"i\" and \"?\" */\n",
       "\n",
       ".sk-estimator-doc-link,\n",
       "a:link.sk-estimator-doc-link,\n",
       "a:visited.sk-estimator-doc-link {\n",
       "  float: right;\n",
       "  font-size: smaller;\n",
       "  line-height: 1em;\n",
       "  font-family: monospace;\n",
       "  background-color: var(--sklearn-color-background);\n",
       "  border-radius: 1em;\n",
       "  height: 1em;\n",
       "  width: 1em;\n",
       "  text-decoration: none !important;\n",
       "  margin-left: 1ex;\n",
       "  /* unfitted */\n",
       "  border: var(--sklearn-color-unfitted-level-1) 1pt solid;\n",
       "  color: var(--sklearn-color-unfitted-level-1);\n",
       "}\n",
       "\n",
       ".sk-estimator-doc-link.fitted,\n",
       "a:link.sk-estimator-doc-link.fitted,\n",
       "a:visited.sk-estimator-doc-link.fitted {\n",
       "  /* fitted */\n",
       "  border: var(--sklearn-color-fitted-level-1) 1pt solid;\n",
       "  color: var(--sklearn-color-fitted-level-1);\n",
       "}\n",
       "\n",
       "/* On hover */\n",
       "div.sk-estimator:hover .sk-estimator-doc-link:hover,\n",
       ".sk-estimator-doc-link:hover,\n",
       "div.sk-label-container:hover .sk-estimator-doc-link:hover,\n",
       ".sk-estimator-doc-link:hover {\n",
       "  /* unfitted */\n",
       "  background-color: var(--sklearn-color-unfitted-level-3);\n",
       "  color: var(--sklearn-color-background);\n",
       "  text-decoration: none;\n",
       "}\n",
       "\n",
       "div.sk-estimator.fitted:hover .sk-estimator-doc-link.fitted:hover,\n",
       ".sk-estimator-doc-link.fitted:hover,\n",
       "div.sk-label-container:hover .sk-estimator-doc-link.fitted:hover,\n",
       ".sk-estimator-doc-link.fitted:hover {\n",
       "  /* fitted */\n",
       "  background-color: var(--sklearn-color-fitted-level-3);\n",
       "  color: var(--sklearn-color-background);\n",
       "  text-decoration: none;\n",
       "}\n",
       "\n",
       "/* Span, style for the box shown on hovering the info icon */\n",
       ".sk-estimator-doc-link span {\n",
       "  display: none;\n",
       "  z-index: 9999;\n",
       "  position: relative;\n",
       "  font-weight: normal;\n",
       "  right: .2ex;\n",
       "  padding: .5ex;\n",
       "  margin: .5ex;\n",
       "  width: min-content;\n",
       "  min-width: 20ex;\n",
       "  max-width: 50ex;\n",
       "  color: var(--sklearn-color-text);\n",
       "  box-shadow: 2pt 2pt 4pt #999;\n",
       "  /* unfitted */\n",
       "  background: var(--sklearn-color-unfitted-level-0);\n",
       "  border: .5pt solid var(--sklearn-color-unfitted-level-3);\n",
       "}\n",
       "\n",
       ".sk-estimator-doc-link.fitted span {\n",
       "  /* fitted */\n",
       "  background: var(--sklearn-color-fitted-level-0);\n",
       "  border: var(--sklearn-color-fitted-level-3);\n",
       "}\n",
       "\n",
       ".sk-estimator-doc-link:hover span {\n",
       "  display: block;\n",
       "}\n",
       "\n",
       "/* \"?\"-specific style due to the `<a>` HTML tag */\n",
       "\n",
       "#sk-container-id-1 a.estimator_doc_link {\n",
       "  float: right;\n",
       "  font-size: 1rem;\n",
       "  line-height: 1em;\n",
       "  font-family: monospace;\n",
       "  background-color: var(--sklearn-color-background);\n",
       "  border-radius: 1rem;\n",
       "  height: 1rem;\n",
       "  width: 1rem;\n",
       "  text-decoration: none;\n",
       "  /* unfitted */\n",
       "  color: var(--sklearn-color-unfitted-level-1);\n",
       "  border: var(--sklearn-color-unfitted-level-1) 1pt solid;\n",
       "}\n",
       "\n",
       "#sk-container-id-1 a.estimator_doc_link.fitted {\n",
       "  /* fitted */\n",
       "  border: var(--sklearn-color-fitted-level-1) 1pt solid;\n",
       "  color: var(--sklearn-color-fitted-level-1);\n",
       "}\n",
       "\n",
       "/* On hover */\n",
       "#sk-container-id-1 a.estimator_doc_link:hover {\n",
       "  /* unfitted */\n",
       "  background-color: var(--sklearn-color-unfitted-level-3);\n",
       "  color: var(--sklearn-color-background);\n",
       "  text-decoration: none;\n",
       "}\n",
       "\n",
       "#sk-container-id-1 a.estimator_doc_link.fitted:hover {\n",
       "  /* fitted */\n",
       "  background-color: var(--sklearn-color-fitted-level-3);\n",
       "}\n",
       "</style><div id=\"sk-container-id-1\" class=\"sk-top-container\"><div class=\"sk-text-repr-fallback\"><pre>ColumnTransformer(force_int_remainder_cols=False, n_jobs=-1,\n",
       "                  remainder=&#x27;passthrough&#x27;,\n",
       "                  transformers=[(&#x27;scale&#x27;, MinMaxScaler(),\n",
       "                                 [&#x27;age&#x27;, &#x27;ratings&#x27;, &#x27;pickup_time_minutes&#x27;,\n",
       "                                  &#x27;distance&#x27;]),\n",
       "                                (&#x27;nominal_encode&#x27;,\n",
       "                                 OneHotEncoder(drop=&#x27;first&#x27;,\n",
       "                                               handle_unknown=&#x27;ignore&#x27;,\n",
       "                                               sparse_output=False),\n",
       "                                 [&#x27;weather&#x27;, &#x27;type_of_order&#x27;, &#x27;type_of_vehicle&#x27;,\n",
       "                                  &#x27;festival&#x27;, &#x27;city_type&#x27;, &#x27;is_weekend&#x27;,\n",
       "                                  &#x27;order_time_of_day&#x27;]),\n",
       "                                (&#x27;ordinal_encode&#x27;,\n",
       "                                 OrdinalEncoder(categories=[[&#x27;low&#x27;, &#x27;medium&#x27;,\n",
       "                                                             &#x27;high&#x27;, &#x27;jam&#x27;],\n",
       "                                                            [&#x27;short&#x27;, &#x27;medium&#x27;,\n",
       "                                                             &#x27;long&#x27;,\n",
       "                                                             &#x27;very_long&#x27;]],\n",
       "                                                encoded_missing_value=-999,\n",
       "                                                handle_unknown=&#x27;use_encoded_value&#x27;,\n",
       "                                                unknown_value=-1),\n",
       "                                 [&#x27;traffic&#x27;, &#x27;distance_type&#x27;])],\n",
       "                  verbose_feature_names_out=False)</pre><b>In a Jupyter environment, please rerun this cell to show the HTML representation or trust the notebook. <br />On GitHub, the HTML representation is unable to render, please try loading this page with nbviewer.org.</b></div><div class=\"sk-container\" hidden><div class=\"sk-item sk-dashed-wrapped\"><div class=\"sk-label-container\"><div class=\"sk-label  sk-toggleable\"><input class=\"sk-toggleable__control sk-hidden--visually\" id=\"sk-estimator-id-1\" type=\"checkbox\" ><label for=\"sk-estimator-id-1\" class=\"sk-toggleable__label  sk-toggleable__label-arrow \">&nbsp;&nbsp;ColumnTransformer<a class=\"sk-estimator-doc-link \" rel=\"noreferrer\" target=\"_blank\" href=\"https://scikit-learn.org/1.5/modules/generated/sklearn.compose.ColumnTransformer.html\">?<span>Documentation for ColumnTransformer</span></a><span class=\"sk-estimator-doc-link \">i<span>Not fitted</span></span></label><div class=\"sk-toggleable__content \"><pre>ColumnTransformer(force_int_remainder_cols=False, n_jobs=-1,\n",
       "                  remainder=&#x27;passthrough&#x27;,\n",
       "                  transformers=[(&#x27;scale&#x27;, MinMaxScaler(),\n",
       "                                 [&#x27;age&#x27;, &#x27;ratings&#x27;, &#x27;pickup_time_minutes&#x27;,\n",
       "                                  &#x27;distance&#x27;]),\n",
       "                                (&#x27;nominal_encode&#x27;,\n",
       "                                 OneHotEncoder(drop=&#x27;first&#x27;,\n",
       "                                               handle_unknown=&#x27;ignore&#x27;,\n",
       "                                               sparse_output=False),\n",
       "                                 [&#x27;weather&#x27;, &#x27;type_of_order&#x27;, &#x27;type_of_vehicle&#x27;,\n",
       "                                  &#x27;festival&#x27;, &#x27;city_type&#x27;, &#x27;is_weekend&#x27;,\n",
       "                                  &#x27;order_time_of_day&#x27;]),\n",
       "                                (&#x27;ordinal_encode&#x27;,\n",
       "                                 OrdinalEncoder(categories=[[&#x27;low&#x27;, &#x27;medium&#x27;,\n",
       "                                                             &#x27;high&#x27;, &#x27;jam&#x27;],\n",
       "                                                            [&#x27;short&#x27;, &#x27;medium&#x27;,\n",
       "                                                             &#x27;long&#x27;,\n",
       "                                                             &#x27;very_long&#x27;]],\n",
       "                                                encoded_missing_value=-999,\n",
       "                                                handle_unknown=&#x27;use_encoded_value&#x27;,\n",
       "                                                unknown_value=-1),\n",
       "                                 [&#x27;traffic&#x27;, &#x27;distance_type&#x27;])],\n",
       "                  verbose_feature_names_out=False)</pre></div> </div></div><div class=\"sk-parallel\"><div class=\"sk-parallel-item\"><div class=\"sk-item\"><div class=\"sk-label-container\"><div class=\"sk-label  sk-toggleable\"><input class=\"sk-toggleable__control sk-hidden--visually\" id=\"sk-estimator-id-2\" type=\"checkbox\" ><label for=\"sk-estimator-id-2\" class=\"sk-toggleable__label  sk-toggleable__label-arrow \">scale</label><div class=\"sk-toggleable__content \"><pre>[&#x27;age&#x27;, &#x27;ratings&#x27;, &#x27;pickup_time_minutes&#x27;, &#x27;distance&#x27;]</pre></div> </div></div><div class=\"sk-serial\"><div class=\"sk-item\"><div class=\"sk-estimator  sk-toggleable\"><input class=\"sk-toggleable__control sk-hidden--visually\" id=\"sk-estimator-id-3\" type=\"checkbox\" ><label for=\"sk-estimator-id-3\" class=\"sk-toggleable__label  sk-toggleable__label-arrow \">&nbsp;MinMaxScaler<a class=\"sk-estimator-doc-link \" rel=\"noreferrer\" target=\"_blank\" href=\"https://scikit-learn.org/1.5/modules/generated/sklearn.preprocessing.MinMaxScaler.html\">?<span>Documentation for MinMaxScaler</span></a></label><div class=\"sk-toggleable__content \"><pre>MinMaxScaler()</pre></div> </div></div></div></div></div><div class=\"sk-parallel-item\"><div class=\"sk-item\"><div class=\"sk-label-container\"><div class=\"sk-label  sk-toggleable\"><input class=\"sk-toggleable__control sk-hidden--visually\" id=\"sk-estimator-id-4\" type=\"checkbox\" ><label for=\"sk-estimator-id-4\" class=\"sk-toggleable__label  sk-toggleable__label-arrow \">nominal_encode</label><div class=\"sk-toggleable__content \"><pre>[&#x27;weather&#x27;, &#x27;type_of_order&#x27;, &#x27;type_of_vehicle&#x27;, &#x27;festival&#x27;, &#x27;city_type&#x27;, &#x27;is_weekend&#x27;, &#x27;order_time_of_day&#x27;]</pre></div> </div></div><div class=\"sk-serial\"><div class=\"sk-item\"><div class=\"sk-estimator  sk-toggleable\"><input class=\"sk-toggleable__control sk-hidden--visually\" id=\"sk-estimator-id-5\" type=\"checkbox\" ><label for=\"sk-estimator-id-5\" class=\"sk-toggleable__label  sk-toggleable__label-arrow \">&nbsp;OneHotEncoder<a class=\"sk-estimator-doc-link \" rel=\"noreferrer\" target=\"_blank\" href=\"https://scikit-learn.org/1.5/modules/generated/sklearn.preprocessing.OneHotEncoder.html\">?<span>Documentation for OneHotEncoder</span></a></label><div class=\"sk-toggleable__content \"><pre>OneHotEncoder(drop=&#x27;first&#x27;, handle_unknown=&#x27;ignore&#x27;, sparse_output=False)</pre></div> </div></div></div></div></div><div class=\"sk-parallel-item\"><div class=\"sk-item\"><div class=\"sk-label-container\"><div class=\"sk-label  sk-toggleable\"><input class=\"sk-toggleable__control sk-hidden--visually\" id=\"sk-estimator-id-6\" type=\"checkbox\" ><label for=\"sk-estimator-id-6\" class=\"sk-toggleable__label  sk-toggleable__label-arrow \">ordinal_encode</label><div class=\"sk-toggleable__content \"><pre>[&#x27;traffic&#x27;, &#x27;distance_type&#x27;]</pre></div> </div></div><div class=\"sk-serial\"><div class=\"sk-item\"><div class=\"sk-estimator  sk-toggleable\"><input class=\"sk-toggleable__control sk-hidden--visually\" id=\"sk-estimator-id-7\" type=\"checkbox\" ><label for=\"sk-estimator-id-7\" class=\"sk-toggleable__label  sk-toggleable__label-arrow \">&nbsp;OrdinalEncoder<a class=\"sk-estimator-doc-link \" rel=\"noreferrer\" target=\"_blank\" href=\"https://scikit-learn.org/1.5/modules/generated/sklearn.preprocessing.OrdinalEncoder.html\">?<span>Documentation for OrdinalEncoder</span></a></label><div class=\"sk-toggleable__content \"><pre>OrdinalEncoder(categories=[[&#x27;low&#x27;, &#x27;medium&#x27;, &#x27;high&#x27;, &#x27;jam&#x27;],\n",
       "                           [&#x27;short&#x27;, &#x27;medium&#x27;, &#x27;long&#x27;, &#x27;very_long&#x27;]],\n",
       "               encoded_missing_value=-999, handle_unknown=&#x27;use_encoded_value&#x27;,\n",
       "               unknown_value=-1)</pre></div> </div></div></div></div></div><div class=\"sk-parallel-item\"><div class=\"sk-item\"><div class=\"sk-label-container\"><div class=\"sk-label  sk-toggleable\"><input class=\"sk-toggleable__control sk-hidden--visually\" id=\"sk-estimator-id-8\" type=\"checkbox\" ><label for=\"sk-estimator-id-8\" class=\"sk-toggleable__label  sk-toggleable__label-arrow \">remainder</label><div class=\"sk-toggleable__content \"><pre></pre></div> </div></div><div class=\"sk-serial\"><div class=\"sk-item\"><div class=\"sk-estimator  sk-toggleable\"><input class=\"sk-toggleable__control sk-hidden--visually\" id=\"sk-estimator-id-9\" type=\"checkbox\" ><label for=\"sk-estimator-id-9\" class=\"sk-toggleable__label  sk-toggleable__label-arrow \">passthrough</label><div class=\"sk-toggleable__content \"><pre>passthrough</pre></div> </div></div></div></div></div></div></div></div></div>"
      ],
      "text/plain": [
       "ColumnTransformer(force_int_remainder_cols=False, n_jobs=-1,\n",
       "                  remainder='passthrough',\n",
       "                  transformers=[('scale', MinMaxScaler(),\n",
       "                                 ['age', 'ratings', 'pickup_time_minutes',\n",
       "                                  'distance']),\n",
       "                                ('nominal_encode',\n",
       "                                 OneHotEncoder(drop='first',\n",
       "                                               handle_unknown='ignore',\n",
       "                                               sparse_output=False),\n",
       "                                 ['weather', 'type_of_order', 'type_of_vehicle',\n",
       "                                  'festival', 'city_type', 'is_weekend',\n",
       "                                  'order_time_of_day']),\n",
       "                                ('ordinal_encode',\n",
       "                                 OrdinalEncoder(categories=[['low', 'medium',\n",
       "                                                             'high', 'jam'],\n",
       "                                                            ['short', 'medium',\n",
       "                                                             'long',\n",
       "                                                             'very_long']],\n",
       "                                                encoded_missing_value=-999,\n",
       "                                                handle_unknown='use_encoded_value',\n",
       "                                                unknown_value=-1),\n",
       "                                 ['traffic', 'distance_type'])],\n",
       "                  verbose_feature_names_out=False)"
      ]
     },
     "execution_count": 31,
     "metadata": {},
     "output_type": "execute_result"
    }
   ],
   "source": [
    "# build a preprocessor\n",
    "\n",
    "preprocessor = ColumnTransformer(transformers=[\n",
    "    (\"scale\", MinMaxScaler(), num_cols),\n",
    "    (\"nominal_encode\", OneHotEncoder(drop=\"first\",handle_unknown=\"ignore\",\n",
    "                                     sparse_output=False), nominal_cat_cols),\n",
    "    (\"ordinal_encode\", OrdinalEncoder(categories=[traffic_order,distance_type_order],\n",
    "                                      encoded_missing_value=-999,\n",
    "                                      handle_unknown=\"use_encoded_value\",\n",
    "                                      unknown_value=-1), ordinal_cat_cols)\n",
    "],remainder=\"passthrough\",n_jobs=-1,force_int_remainder_cols=False,verbose_feature_names_out=False)\n",
    "\n",
    "\n",
    "preprocessor"
   ]
  },
  {
   "cell_type": "code",
   "execution_count": 32,
   "metadata": {
    "colab": {
     "base_uri": "https://localhost:8080/",
     "height": 180
    },
    "executionInfo": {
     "elapsed": 87,
     "status": "ok",
     "timestamp": 1732873526490,
     "user": {
      "displayName": "Himanshu Arora",
      "userId": "03026800847751892488"
     },
     "user_tz": -330
    },
    "id": "n7uZVB6seYc_",
    "outputId": "9a65666b-752a-473c-cf92-dc52361825a3"
   },
   "outputs": [
    {
     "data": {
      "text/html": [
       "<style>#sk-container-id-2 {\n",
       "  /* Definition of color scheme common for light and dark mode */\n",
       "  --sklearn-color-text: black;\n",
       "  --sklearn-color-line: gray;\n",
       "  /* Definition of color scheme for unfitted estimators */\n",
       "  --sklearn-color-unfitted-level-0: #fff5e6;\n",
       "  --sklearn-color-unfitted-level-1: #f6e4d2;\n",
       "  --sklearn-color-unfitted-level-2: #ffe0b3;\n",
       "  --sklearn-color-unfitted-level-3: chocolate;\n",
       "  /* Definition of color scheme for fitted estimators */\n",
       "  --sklearn-color-fitted-level-0: #f0f8ff;\n",
       "  --sklearn-color-fitted-level-1: #d4ebff;\n",
       "  --sklearn-color-fitted-level-2: #b3dbfd;\n",
       "  --sklearn-color-fitted-level-3: cornflowerblue;\n",
       "\n",
       "  /* Specific color for light theme */\n",
       "  --sklearn-color-text-on-default-background: var(--sg-text-color, var(--theme-code-foreground, var(--jp-content-font-color1, black)));\n",
       "  --sklearn-color-background: var(--sg-background-color, var(--theme-background, var(--jp-layout-color0, white)));\n",
       "  --sklearn-color-border-box: var(--sg-text-color, var(--theme-code-foreground, var(--jp-content-font-color1, black)));\n",
       "  --sklearn-color-icon: #696969;\n",
       "\n",
       "  @media (prefers-color-scheme: dark) {\n",
       "    /* Redefinition of color scheme for dark theme */\n",
       "    --sklearn-color-text-on-default-background: var(--sg-text-color, var(--theme-code-foreground, var(--jp-content-font-color1, white)));\n",
       "    --sklearn-color-background: var(--sg-background-color, var(--theme-background, var(--jp-layout-color0, #111)));\n",
       "    --sklearn-color-border-box: var(--sg-text-color, var(--theme-code-foreground, var(--jp-content-font-color1, white)));\n",
       "    --sklearn-color-icon: #878787;\n",
       "  }\n",
       "}\n",
       "\n",
       "#sk-container-id-2 {\n",
       "  color: var(--sklearn-color-text);\n",
       "}\n",
       "\n",
       "#sk-container-id-2 pre {\n",
       "  padding: 0;\n",
       "}\n",
       "\n",
       "#sk-container-id-2 input.sk-hidden--visually {\n",
       "  border: 0;\n",
       "  clip: rect(1px 1px 1px 1px);\n",
       "  clip: rect(1px, 1px, 1px, 1px);\n",
       "  height: 1px;\n",
       "  margin: -1px;\n",
       "  overflow: hidden;\n",
       "  padding: 0;\n",
       "  position: absolute;\n",
       "  width: 1px;\n",
       "}\n",
       "\n",
       "#sk-container-id-2 div.sk-dashed-wrapped {\n",
       "  border: 1px dashed var(--sklearn-color-line);\n",
       "  margin: 0 0.4em 0.5em 0.4em;\n",
       "  box-sizing: border-box;\n",
       "  padding-bottom: 0.4em;\n",
       "  background-color: var(--sklearn-color-background);\n",
       "}\n",
       "\n",
       "#sk-container-id-2 div.sk-container {\n",
       "  /* jupyter's `normalize.less` sets `[hidden] { display: none; }`\n",
       "     but bootstrap.min.css set `[hidden] { display: none !important; }`\n",
       "     so we also need the `!important` here to be able to override the\n",
       "     default hidden behavior on the sphinx rendered scikit-learn.org.\n",
       "     See: https://github.com/scikit-learn/scikit-learn/issues/21755 */\n",
       "  display: inline-block !important;\n",
       "  position: relative;\n",
       "}\n",
       "\n",
       "#sk-container-id-2 div.sk-text-repr-fallback {\n",
       "  display: none;\n",
       "}\n",
       "\n",
       "div.sk-parallel-item,\n",
       "div.sk-serial,\n",
       "div.sk-item {\n",
       "  /* draw centered vertical line to link estimators */\n",
       "  background-image: linear-gradient(var(--sklearn-color-text-on-default-background), var(--sklearn-color-text-on-default-background));\n",
       "  background-size: 2px 100%;\n",
       "  background-repeat: no-repeat;\n",
       "  background-position: center center;\n",
       "}\n",
       "\n",
       "/* Parallel-specific style estimator block */\n",
       "\n",
       "#sk-container-id-2 div.sk-parallel-item::after {\n",
       "  content: \"\";\n",
       "  width: 100%;\n",
       "  border-bottom: 2px solid var(--sklearn-color-text-on-default-background);\n",
       "  flex-grow: 1;\n",
       "}\n",
       "\n",
       "#sk-container-id-2 div.sk-parallel {\n",
       "  display: flex;\n",
       "  align-items: stretch;\n",
       "  justify-content: center;\n",
       "  background-color: var(--sklearn-color-background);\n",
       "  position: relative;\n",
       "}\n",
       "\n",
       "#sk-container-id-2 div.sk-parallel-item {\n",
       "  display: flex;\n",
       "  flex-direction: column;\n",
       "}\n",
       "\n",
       "#sk-container-id-2 div.sk-parallel-item:first-child::after {\n",
       "  align-self: flex-end;\n",
       "  width: 50%;\n",
       "}\n",
       "\n",
       "#sk-container-id-2 div.sk-parallel-item:last-child::after {\n",
       "  align-self: flex-start;\n",
       "  width: 50%;\n",
       "}\n",
       "\n",
       "#sk-container-id-2 div.sk-parallel-item:only-child::after {\n",
       "  width: 0;\n",
       "}\n",
       "\n",
       "/* Serial-specific style estimator block */\n",
       "\n",
       "#sk-container-id-2 div.sk-serial {\n",
       "  display: flex;\n",
       "  flex-direction: column;\n",
       "  align-items: center;\n",
       "  background-color: var(--sklearn-color-background);\n",
       "  padding-right: 1em;\n",
       "  padding-left: 1em;\n",
       "}\n",
       "\n",
       "\n",
       "/* Toggleable style: style used for estimator/Pipeline/ColumnTransformer box that is\n",
       "clickable and can be expanded/collapsed.\n",
       "- Pipeline and ColumnTransformer use this feature and define the default style\n",
       "- Estimators will overwrite some part of the style using the `sk-estimator` class\n",
       "*/\n",
       "\n",
       "/* Pipeline and ColumnTransformer style (default) */\n",
       "\n",
       "#sk-container-id-2 div.sk-toggleable {\n",
       "  /* Default theme specific background. It is overwritten whether we have a\n",
       "  specific estimator or a Pipeline/ColumnTransformer */\n",
       "  background-color: var(--sklearn-color-background);\n",
       "}\n",
       "\n",
       "/* Toggleable label */\n",
       "#sk-container-id-2 label.sk-toggleable__label {\n",
       "  cursor: pointer;\n",
       "  display: block;\n",
       "  width: 100%;\n",
       "  margin-bottom: 0;\n",
       "  padding: 0.5em;\n",
       "  box-sizing: border-box;\n",
       "  text-align: center;\n",
       "}\n",
       "\n",
       "#sk-container-id-2 label.sk-toggleable__label-arrow:before {\n",
       "  /* Arrow on the left of the label */\n",
       "  content: \"▸\";\n",
       "  float: left;\n",
       "  margin-right: 0.25em;\n",
       "  color: var(--sklearn-color-icon);\n",
       "}\n",
       "\n",
       "#sk-container-id-2 label.sk-toggleable__label-arrow:hover:before {\n",
       "  color: var(--sklearn-color-text);\n",
       "}\n",
       "\n",
       "/* Toggleable content - dropdown */\n",
       "\n",
       "#sk-container-id-2 div.sk-toggleable__content {\n",
       "  max-height: 0;\n",
       "  max-width: 0;\n",
       "  overflow: hidden;\n",
       "  text-align: left;\n",
       "  /* unfitted */\n",
       "  background-color: var(--sklearn-color-unfitted-level-0);\n",
       "}\n",
       "\n",
       "#sk-container-id-2 div.sk-toggleable__content.fitted {\n",
       "  /* fitted */\n",
       "  background-color: var(--sklearn-color-fitted-level-0);\n",
       "}\n",
       "\n",
       "#sk-container-id-2 div.sk-toggleable__content pre {\n",
       "  margin: 0.2em;\n",
       "  border-radius: 0.25em;\n",
       "  color: var(--sklearn-color-text);\n",
       "  /* unfitted */\n",
       "  background-color: var(--sklearn-color-unfitted-level-0);\n",
       "}\n",
       "\n",
       "#sk-container-id-2 div.sk-toggleable__content.fitted pre {\n",
       "  /* unfitted */\n",
       "  background-color: var(--sklearn-color-fitted-level-0);\n",
       "}\n",
       "\n",
       "#sk-container-id-2 input.sk-toggleable__control:checked~div.sk-toggleable__content {\n",
       "  /* Expand drop-down */\n",
       "  max-height: 200px;\n",
       "  max-width: 100%;\n",
       "  overflow: auto;\n",
       "}\n",
       "\n",
       "#sk-container-id-2 input.sk-toggleable__control:checked~label.sk-toggleable__label-arrow:before {\n",
       "  content: \"▾\";\n",
       "}\n",
       "\n",
       "/* Pipeline/ColumnTransformer-specific style */\n",
       "\n",
       "#sk-container-id-2 div.sk-label input.sk-toggleable__control:checked~label.sk-toggleable__label {\n",
       "  color: var(--sklearn-color-text);\n",
       "  background-color: var(--sklearn-color-unfitted-level-2);\n",
       "}\n",
       "\n",
       "#sk-container-id-2 div.sk-label.fitted input.sk-toggleable__control:checked~label.sk-toggleable__label {\n",
       "  background-color: var(--sklearn-color-fitted-level-2);\n",
       "}\n",
       "\n",
       "/* Estimator-specific style */\n",
       "\n",
       "/* Colorize estimator box */\n",
       "#sk-container-id-2 div.sk-estimator input.sk-toggleable__control:checked~label.sk-toggleable__label {\n",
       "  /* unfitted */\n",
       "  background-color: var(--sklearn-color-unfitted-level-2);\n",
       "}\n",
       "\n",
       "#sk-container-id-2 div.sk-estimator.fitted input.sk-toggleable__control:checked~label.sk-toggleable__label {\n",
       "  /* fitted */\n",
       "  background-color: var(--sklearn-color-fitted-level-2);\n",
       "}\n",
       "\n",
       "#sk-container-id-2 div.sk-label label.sk-toggleable__label,\n",
       "#sk-container-id-2 div.sk-label label {\n",
       "  /* The background is the default theme color */\n",
       "  color: var(--sklearn-color-text-on-default-background);\n",
       "}\n",
       "\n",
       "/* On hover, darken the color of the background */\n",
       "#sk-container-id-2 div.sk-label:hover label.sk-toggleable__label {\n",
       "  color: var(--sklearn-color-text);\n",
       "  background-color: var(--sklearn-color-unfitted-level-2);\n",
       "}\n",
       "\n",
       "/* Label box, darken color on hover, fitted */\n",
       "#sk-container-id-2 div.sk-label.fitted:hover label.sk-toggleable__label.fitted {\n",
       "  color: var(--sklearn-color-text);\n",
       "  background-color: var(--sklearn-color-fitted-level-2);\n",
       "}\n",
       "\n",
       "/* Estimator label */\n",
       "\n",
       "#sk-container-id-2 div.sk-label label {\n",
       "  font-family: monospace;\n",
       "  font-weight: bold;\n",
       "  display: inline-block;\n",
       "  line-height: 1.2em;\n",
       "}\n",
       "\n",
       "#sk-container-id-2 div.sk-label-container {\n",
       "  text-align: center;\n",
       "}\n",
       "\n",
       "/* Estimator-specific */\n",
       "#sk-container-id-2 div.sk-estimator {\n",
       "  font-family: monospace;\n",
       "  border: 1px dotted var(--sklearn-color-border-box);\n",
       "  border-radius: 0.25em;\n",
       "  box-sizing: border-box;\n",
       "  margin-bottom: 0.5em;\n",
       "  /* unfitted */\n",
       "  background-color: var(--sklearn-color-unfitted-level-0);\n",
       "}\n",
       "\n",
       "#sk-container-id-2 div.sk-estimator.fitted {\n",
       "  /* fitted */\n",
       "  background-color: var(--sklearn-color-fitted-level-0);\n",
       "}\n",
       "\n",
       "/* on hover */\n",
       "#sk-container-id-2 div.sk-estimator:hover {\n",
       "  /* unfitted */\n",
       "  background-color: var(--sklearn-color-unfitted-level-2);\n",
       "}\n",
       "\n",
       "#sk-container-id-2 div.sk-estimator.fitted:hover {\n",
       "  /* fitted */\n",
       "  background-color: var(--sklearn-color-fitted-level-2);\n",
       "}\n",
       "\n",
       "/* Specification for estimator info (e.g. \"i\" and \"?\") */\n",
       "\n",
       "/* Common style for \"i\" and \"?\" */\n",
       "\n",
       ".sk-estimator-doc-link,\n",
       "a:link.sk-estimator-doc-link,\n",
       "a:visited.sk-estimator-doc-link {\n",
       "  float: right;\n",
       "  font-size: smaller;\n",
       "  line-height: 1em;\n",
       "  font-family: monospace;\n",
       "  background-color: var(--sklearn-color-background);\n",
       "  border-radius: 1em;\n",
       "  height: 1em;\n",
       "  width: 1em;\n",
       "  text-decoration: none !important;\n",
       "  margin-left: 1ex;\n",
       "  /* unfitted */\n",
       "  border: var(--sklearn-color-unfitted-level-1) 1pt solid;\n",
       "  color: var(--sklearn-color-unfitted-level-1);\n",
       "}\n",
       "\n",
       ".sk-estimator-doc-link.fitted,\n",
       "a:link.sk-estimator-doc-link.fitted,\n",
       "a:visited.sk-estimator-doc-link.fitted {\n",
       "  /* fitted */\n",
       "  border: var(--sklearn-color-fitted-level-1) 1pt solid;\n",
       "  color: var(--sklearn-color-fitted-level-1);\n",
       "}\n",
       "\n",
       "/* On hover */\n",
       "div.sk-estimator:hover .sk-estimator-doc-link:hover,\n",
       ".sk-estimator-doc-link:hover,\n",
       "div.sk-label-container:hover .sk-estimator-doc-link:hover,\n",
       ".sk-estimator-doc-link:hover {\n",
       "  /* unfitted */\n",
       "  background-color: var(--sklearn-color-unfitted-level-3);\n",
       "  color: var(--sklearn-color-background);\n",
       "  text-decoration: none;\n",
       "}\n",
       "\n",
       "div.sk-estimator.fitted:hover .sk-estimator-doc-link.fitted:hover,\n",
       ".sk-estimator-doc-link.fitted:hover,\n",
       "div.sk-label-container:hover .sk-estimator-doc-link.fitted:hover,\n",
       ".sk-estimator-doc-link.fitted:hover {\n",
       "  /* fitted */\n",
       "  background-color: var(--sklearn-color-fitted-level-3);\n",
       "  color: var(--sklearn-color-background);\n",
       "  text-decoration: none;\n",
       "}\n",
       "\n",
       "/* Span, style for the box shown on hovering the info icon */\n",
       ".sk-estimator-doc-link span {\n",
       "  display: none;\n",
       "  z-index: 9999;\n",
       "  position: relative;\n",
       "  font-weight: normal;\n",
       "  right: .2ex;\n",
       "  padding: .5ex;\n",
       "  margin: .5ex;\n",
       "  width: min-content;\n",
       "  min-width: 20ex;\n",
       "  max-width: 50ex;\n",
       "  color: var(--sklearn-color-text);\n",
       "  box-shadow: 2pt 2pt 4pt #999;\n",
       "  /* unfitted */\n",
       "  background: var(--sklearn-color-unfitted-level-0);\n",
       "  border: .5pt solid var(--sklearn-color-unfitted-level-3);\n",
       "}\n",
       "\n",
       ".sk-estimator-doc-link.fitted span {\n",
       "  /* fitted */\n",
       "  background: var(--sklearn-color-fitted-level-0);\n",
       "  border: var(--sklearn-color-fitted-level-3);\n",
       "}\n",
       "\n",
       ".sk-estimator-doc-link:hover span {\n",
       "  display: block;\n",
       "}\n",
       "\n",
       "/* \"?\"-specific style due to the `<a>` HTML tag */\n",
       "\n",
       "#sk-container-id-2 a.estimator_doc_link {\n",
       "  float: right;\n",
       "  font-size: 1rem;\n",
       "  line-height: 1em;\n",
       "  font-family: monospace;\n",
       "  background-color: var(--sklearn-color-background);\n",
       "  border-radius: 1rem;\n",
       "  height: 1rem;\n",
       "  width: 1rem;\n",
       "  text-decoration: none;\n",
       "  /* unfitted */\n",
       "  color: var(--sklearn-color-unfitted-level-1);\n",
       "  border: var(--sklearn-color-unfitted-level-1) 1pt solid;\n",
       "}\n",
       "\n",
       "#sk-container-id-2 a.estimator_doc_link.fitted {\n",
       "  /* fitted */\n",
       "  border: var(--sklearn-color-fitted-level-1) 1pt solid;\n",
       "  color: var(--sklearn-color-fitted-level-1);\n",
       "}\n",
       "\n",
       "/* On hover */\n",
       "#sk-container-id-2 a.estimator_doc_link:hover {\n",
       "  /* unfitted */\n",
       "  background-color: var(--sklearn-color-unfitted-level-3);\n",
       "  color: var(--sklearn-color-background);\n",
       "  text-decoration: none;\n",
       "}\n",
       "\n",
       "#sk-container-id-2 a.estimator_doc_link.fitted:hover {\n",
       "  /* fitted */\n",
       "  background-color: var(--sklearn-color-fitted-level-3);\n",
       "}\n",
       "</style><div id=\"sk-container-id-2\" class=\"sk-top-container\"><div class=\"sk-text-repr-fallback\"><pre>Pipeline(steps=[(&#x27;preprocess&#x27;,\n",
       "                 ColumnTransformer(force_int_remainder_cols=False, n_jobs=-1,\n",
       "                                   remainder=&#x27;passthrough&#x27;,\n",
       "                                   transformers=[(&#x27;scale&#x27;, MinMaxScaler(),\n",
       "                                                  [&#x27;age&#x27;, &#x27;ratings&#x27;,\n",
       "                                                   &#x27;pickup_time_minutes&#x27;,\n",
       "                                                   &#x27;distance&#x27;]),\n",
       "                                                 (&#x27;nominal_encode&#x27;,\n",
       "                                                  OneHotEncoder(drop=&#x27;first&#x27;,\n",
       "                                                                handle_unknown=&#x27;ignore&#x27;,\n",
       "                                                                sparse_output=False),\n",
       "                                                  [&#x27;weather&#x27;, &#x27;type_of_order&#x27;,\n",
       "                                                   &#x27;type_of_vehicle&#x27;,\n",
       "                                                   &#x27;festival&#x27;, &#x27;city_type&#x27;,\n",
       "                                                   &#x27;is_weekend&#x27;,\n",
       "                                                   &#x27;order_time_of_day&#x27;]),\n",
       "                                                 (&#x27;ordinal_encode&#x27;,\n",
       "                                                  OrdinalEncoder(categories=[[&#x27;low&#x27;,\n",
       "                                                                              &#x27;medium&#x27;,\n",
       "                                                                              &#x27;high&#x27;,\n",
       "                                                                              &#x27;jam&#x27;],\n",
       "                                                                             [&#x27;short&#x27;,\n",
       "                                                                              &#x27;medium&#x27;,\n",
       "                                                                              &#x27;long&#x27;,\n",
       "                                                                              &#x27;very_long&#x27;]],\n",
       "                                                                 encoded_missing_value=-999,\n",
       "                                                                 handle_unknown=&#x27;use_encoded_value&#x27;,\n",
       "                                                                 unknown_value=-1),\n",
       "                                                  [&#x27;traffic&#x27;,\n",
       "                                                   &#x27;distance_type&#x27;])],\n",
       "                                   verbose_feature_names_out=False))])</pre><b>In a Jupyter environment, please rerun this cell to show the HTML representation or trust the notebook. <br />On GitHub, the HTML representation is unable to render, please try loading this page with nbviewer.org.</b></div><div class=\"sk-container\" hidden><div class=\"sk-item sk-dashed-wrapped\"><div class=\"sk-label-container\"><div class=\"sk-label  sk-toggleable\"><input class=\"sk-toggleable__control sk-hidden--visually\" id=\"sk-estimator-id-10\" type=\"checkbox\" ><label for=\"sk-estimator-id-10\" class=\"sk-toggleable__label  sk-toggleable__label-arrow \">&nbsp;&nbsp;Pipeline<a class=\"sk-estimator-doc-link \" rel=\"noreferrer\" target=\"_blank\" href=\"https://scikit-learn.org/1.5/modules/generated/sklearn.pipeline.Pipeline.html\">?<span>Documentation for Pipeline</span></a><span class=\"sk-estimator-doc-link \">i<span>Not fitted</span></span></label><div class=\"sk-toggleable__content \"><pre>Pipeline(steps=[(&#x27;preprocess&#x27;,\n",
       "                 ColumnTransformer(force_int_remainder_cols=False, n_jobs=-1,\n",
       "                                   remainder=&#x27;passthrough&#x27;,\n",
       "                                   transformers=[(&#x27;scale&#x27;, MinMaxScaler(),\n",
       "                                                  [&#x27;age&#x27;, &#x27;ratings&#x27;,\n",
       "                                                   &#x27;pickup_time_minutes&#x27;,\n",
       "                                                   &#x27;distance&#x27;]),\n",
       "                                                 (&#x27;nominal_encode&#x27;,\n",
       "                                                  OneHotEncoder(drop=&#x27;first&#x27;,\n",
       "                                                                handle_unknown=&#x27;ignore&#x27;,\n",
       "                                                                sparse_output=False),\n",
       "                                                  [&#x27;weather&#x27;, &#x27;type_of_order&#x27;,\n",
       "                                                   &#x27;type_of_vehicle&#x27;,\n",
       "                                                   &#x27;festival&#x27;, &#x27;city_type&#x27;,\n",
       "                                                   &#x27;is_weekend&#x27;,\n",
       "                                                   &#x27;order_time_of_day&#x27;]),\n",
       "                                                 (&#x27;ordinal_encode&#x27;,\n",
       "                                                  OrdinalEncoder(categories=[[&#x27;low&#x27;,\n",
       "                                                                              &#x27;medium&#x27;,\n",
       "                                                                              &#x27;high&#x27;,\n",
       "                                                                              &#x27;jam&#x27;],\n",
       "                                                                             [&#x27;short&#x27;,\n",
       "                                                                              &#x27;medium&#x27;,\n",
       "                                                                              &#x27;long&#x27;,\n",
       "                                                                              &#x27;very_long&#x27;]],\n",
       "                                                                 encoded_missing_value=-999,\n",
       "                                                                 handle_unknown=&#x27;use_encoded_value&#x27;,\n",
       "                                                                 unknown_value=-1),\n",
       "                                                  [&#x27;traffic&#x27;,\n",
       "                                                   &#x27;distance_type&#x27;])],\n",
       "                                   verbose_feature_names_out=False))])</pre></div> </div></div><div class=\"sk-serial\"><div class=\"sk-item sk-dashed-wrapped\"><div class=\"sk-label-container\"><div class=\"sk-label  sk-toggleable\"><input class=\"sk-toggleable__control sk-hidden--visually\" id=\"sk-estimator-id-11\" type=\"checkbox\" ><label for=\"sk-estimator-id-11\" class=\"sk-toggleable__label  sk-toggleable__label-arrow \">&nbsp;preprocess: ColumnTransformer<a class=\"sk-estimator-doc-link \" rel=\"noreferrer\" target=\"_blank\" href=\"https://scikit-learn.org/1.5/modules/generated/sklearn.compose.ColumnTransformer.html\">?<span>Documentation for preprocess: ColumnTransformer</span></a></label><div class=\"sk-toggleable__content \"><pre>ColumnTransformer(force_int_remainder_cols=False, n_jobs=-1,\n",
       "                  remainder=&#x27;passthrough&#x27;,\n",
       "                  transformers=[(&#x27;scale&#x27;, MinMaxScaler(),\n",
       "                                 [&#x27;age&#x27;, &#x27;ratings&#x27;, &#x27;pickup_time_minutes&#x27;,\n",
       "                                  &#x27;distance&#x27;]),\n",
       "                                (&#x27;nominal_encode&#x27;,\n",
       "                                 OneHotEncoder(drop=&#x27;first&#x27;,\n",
       "                                               handle_unknown=&#x27;ignore&#x27;,\n",
       "                                               sparse_output=False),\n",
       "                                 [&#x27;weather&#x27;, &#x27;type_of_order&#x27;, &#x27;type_of_vehicle&#x27;,\n",
       "                                  &#x27;festival&#x27;, &#x27;city_type&#x27;, &#x27;is_weekend&#x27;,\n",
       "                                  &#x27;order_time_of_day&#x27;]),\n",
       "                                (&#x27;ordinal_encode&#x27;,\n",
       "                                 OrdinalEncoder(categories=[[&#x27;low&#x27;, &#x27;medium&#x27;,\n",
       "                                                             &#x27;high&#x27;, &#x27;jam&#x27;],\n",
       "                                                            [&#x27;short&#x27;, &#x27;medium&#x27;,\n",
       "                                                             &#x27;long&#x27;,\n",
       "                                                             &#x27;very_long&#x27;]],\n",
       "                                                encoded_missing_value=-999,\n",
       "                                                handle_unknown=&#x27;use_encoded_value&#x27;,\n",
       "                                                unknown_value=-1),\n",
       "                                 [&#x27;traffic&#x27;, &#x27;distance_type&#x27;])],\n",
       "                  verbose_feature_names_out=False)</pre></div> </div></div><div class=\"sk-parallel\"><div class=\"sk-parallel-item\"><div class=\"sk-item\"><div class=\"sk-label-container\"><div class=\"sk-label  sk-toggleable\"><input class=\"sk-toggleable__control sk-hidden--visually\" id=\"sk-estimator-id-12\" type=\"checkbox\" ><label for=\"sk-estimator-id-12\" class=\"sk-toggleable__label  sk-toggleable__label-arrow \">scale</label><div class=\"sk-toggleable__content \"><pre>[&#x27;age&#x27;, &#x27;ratings&#x27;, &#x27;pickup_time_minutes&#x27;, &#x27;distance&#x27;]</pre></div> </div></div><div class=\"sk-serial\"><div class=\"sk-item\"><div class=\"sk-estimator  sk-toggleable\"><input class=\"sk-toggleable__control sk-hidden--visually\" id=\"sk-estimator-id-13\" type=\"checkbox\" ><label for=\"sk-estimator-id-13\" class=\"sk-toggleable__label  sk-toggleable__label-arrow \">&nbsp;MinMaxScaler<a class=\"sk-estimator-doc-link \" rel=\"noreferrer\" target=\"_blank\" href=\"https://scikit-learn.org/1.5/modules/generated/sklearn.preprocessing.MinMaxScaler.html\">?<span>Documentation for MinMaxScaler</span></a></label><div class=\"sk-toggleable__content \"><pre>MinMaxScaler()</pre></div> </div></div></div></div></div><div class=\"sk-parallel-item\"><div class=\"sk-item\"><div class=\"sk-label-container\"><div class=\"sk-label  sk-toggleable\"><input class=\"sk-toggleable__control sk-hidden--visually\" id=\"sk-estimator-id-14\" type=\"checkbox\" ><label for=\"sk-estimator-id-14\" class=\"sk-toggleable__label  sk-toggleable__label-arrow \">nominal_encode</label><div class=\"sk-toggleable__content \"><pre>[&#x27;weather&#x27;, &#x27;type_of_order&#x27;, &#x27;type_of_vehicle&#x27;, &#x27;festival&#x27;, &#x27;city_type&#x27;, &#x27;is_weekend&#x27;, &#x27;order_time_of_day&#x27;]</pre></div> </div></div><div class=\"sk-serial\"><div class=\"sk-item\"><div class=\"sk-estimator  sk-toggleable\"><input class=\"sk-toggleable__control sk-hidden--visually\" id=\"sk-estimator-id-15\" type=\"checkbox\" ><label for=\"sk-estimator-id-15\" class=\"sk-toggleable__label  sk-toggleable__label-arrow \">&nbsp;OneHotEncoder<a class=\"sk-estimator-doc-link \" rel=\"noreferrer\" target=\"_blank\" href=\"https://scikit-learn.org/1.5/modules/generated/sklearn.preprocessing.OneHotEncoder.html\">?<span>Documentation for OneHotEncoder</span></a></label><div class=\"sk-toggleable__content \"><pre>OneHotEncoder(drop=&#x27;first&#x27;, handle_unknown=&#x27;ignore&#x27;, sparse_output=False)</pre></div> </div></div></div></div></div><div class=\"sk-parallel-item\"><div class=\"sk-item\"><div class=\"sk-label-container\"><div class=\"sk-label  sk-toggleable\"><input class=\"sk-toggleable__control sk-hidden--visually\" id=\"sk-estimator-id-16\" type=\"checkbox\" ><label for=\"sk-estimator-id-16\" class=\"sk-toggleable__label  sk-toggleable__label-arrow \">ordinal_encode</label><div class=\"sk-toggleable__content \"><pre>[&#x27;traffic&#x27;, &#x27;distance_type&#x27;]</pre></div> </div></div><div class=\"sk-serial\"><div class=\"sk-item\"><div class=\"sk-estimator  sk-toggleable\"><input class=\"sk-toggleable__control sk-hidden--visually\" id=\"sk-estimator-id-17\" type=\"checkbox\" ><label for=\"sk-estimator-id-17\" class=\"sk-toggleable__label  sk-toggleable__label-arrow \">&nbsp;OrdinalEncoder<a class=\"sk-estimator-doc-link \" rel=\"noreferrer\" target=\"_blank\" href=\"https://scikit-learn.org/1.5/modules/generated/sklearn.preprocessing.OrdinalEncoder.html\">?<span>Documentation for OrdinalEncoder</span></a></label><div class=\"sk-toggleable__content \"><pre>OrdinalEncoder(categories=[[&#x27;low&#x27;, &#x27;medium&#x27;, &#x27;high&#x27;, &#x27;jam&#x27;],\n",
       "                           [&#x27;short&#x27;, &#x27;medium&#x27;, &#x27;long&#x27;, &#x27;very_long&#x27;]],\n",
       "               encoded_missing_value=-999, handle_unknown=&#x27;use_encoded_value&#x27;,\n",
       "               unknown_value=-1)</pre></div> </div></div></div></div></div><div class=\"sk-parallel-item\"><div class=\"sk-item\"><div class=\"sk-label-container\"><div class=\"sk-label  sk-toggleable\"><input class=\"sk-toggleable__control sk-hidden--visually\" id=\"sk-estimator-id-18\" type=\"checkbox\" ><label for=\"sk-estimator-id-18\" class=\"sk-toggleable__label  sk-toggleable__label-arrow \">remainder</label><div class=\"sk-toggleable__content \"><pre></pre></div> </div></div><div class=\"sk-serial\"><div class=\"sk-item\"><div class=\"sk-estimator  sk-toggleable\"><input class=\"sk-toggleable__control sk-hidden--visually\" id=\"sk-estimator-id-19\" type=\"checkbox\" ><label for=\"sk-estimator-id-19\" class=\"sk-toggleable__label  sk-toggleable__label-arrow \">passthrough</label><div class=\"sk-toggleable__content \"><pre>passthrough</pre></div> </div></div></div></div></div></div></div></div></div></div></div>"
      ],
      "text/plain": [
       "Pipeline(steps=[('preprocess',\n",
       "                 ColumnTransformer(force_int_remainder_cols=False, n_jobs=-1,\n",
       "                                   remainder='passthrough',\n",
       "                                   transformers=[('scale', MinMaxScaler(),\n",
       "                                                  ['age', 'ratings',\n",
       "                                                   'pickup_time_minutes',\n",
       "                                                   'distance']),\n",
       "                                                 ('nominal_encode',\n",
       "                                                  OneHotEncoder(drop='first',\n",
       "                                                                handle_unknown='ignore',\n",
       "                                                                sparse_output=False),\n",
       "                                                  ['weather', 'type_of_order',\n",
       "                                                   'type_of_vehicle',\n",
       "                                                   'festival', 'city_type',\n",
       "                                                   'is_weekend',\n",
       "                                                   'order_time_of_day']),\n",
       "                                                 ('ordinal_encode',\n",
       "                                                  OrdinalEncoder(categories=[['low',\n",
       "                                                                              'medium',\n",
       "                                                                              'high',\n",
       "                                                                              'jam'],\n",
       "                                                                             ['short',\n",
       "                                                                              'medium',\n",
       "                                                                              'long',\n",
       "                                                                              'very_long']],\n",
       "                                                                 encoded_missing_value=-999,\n",
       "                                                                 handle_unknown='use_encoded_value',\n",
       "                                                                 unknown_value=-1),\n",
       "                                                  ['traffic',\n",
       "                                                   'distance_type'])],\n",
       "                                   verbose_feature_names_out=False))])"
      ]
     },
     "execution_count": 32,
     "metadata": {},
     "output_type": "execute_result"
    }
   ],
   "source": [
    "# build the pipeline\n",
    "\n",
    "processing_pipeline = Pipeline(steps=[\n",
    "                                (\"preprocess\",preprocessor)\n",
    "                            ])\n",
    "\n",
    "processing_pipeline"
   ]
  },
  {
   "cell_type": "code",
   "execution_count": 33,
   "metadata": {
    "executionInfo": {
     "elapsed": 4374,
     "status": "ok",
     "timestamp": 1732873530779,
     "user": {
      "displayName": "Himanshu Arora",
      "userId": "03026800847751892488"
     },
     "user_tz": -330
    },
    "id": "tVRPCAe3NXfL"
   },
   "outputs": [],
   "source": [
    "# do data preprocessing\n",
    "\n",
    "X_train_trans = processing_pipeline.fit_transform(X_train)\n",
    "\n",
    "X_test_trans = processing_pipeline.transform(X_test)"
   ]
  },
  {
   "cell_type": "code",
   "execution_count": 34,
   "metadata": {
    "colab": {
     "base_uri": "https://localhost:8080/",
     "height": 461
    },
    "executionInfo": {
     "elapsed": 10,
     "status": "ok",
     "timestamp": 1732873530780,
     "user": {
      "displayName": "Himanshu Arora",
      "userId": "03026800847751892488"
     },
     "user_tz": -330
    },
    "id": "l2-_1Nsa6aVO",
    "outputId": "af155db8-93bf-4ad1-c0cb-3b8e48beb605"
   },
   "outputs": [
    {
     "data": {
      "text/html": [
       "<div>\n",
       "<style scoped>\n",
       "    .dataframe tbody tr th:only-of-type {\n",
       "        vertical-align: middle;\n",
       "    }\n",
       "\n",
       "    .dataframe tbody tr th {\n",
       "        vertical-align: top;\n",
       "    }\n",
       "\n",
       "    .dataframe thead th {\n",
       "        text-align: right;\n",
       "    }\n",
       "</style>\n",
       "<table border=\"1\" class=\"dataframe\">\n",
       "  <thead>\n",
       "    <tr style=\"text-align: right;\">\n",
       "      <th></th>\n",
       "      <th>age</th>\n",
       "      <th>ratings</th>\n",
       "      <th>pickup_time_minutes</th>\n",
       "      <th>distance</th>\n",
       "      <th>weather_fog</th>\n",
       "      <th>weather_sandstorms</th>\n",
       "      <th>weather_stormy</th>\n",
       "      <th>weather_sunny</th>\n",
       "      <th>weather_windy</th>\n",
       "      <th>type_of_order_drinks</th>\n",
       "      <th>...</th>\n",
       "      <th>city_type_semi-urban</th>\n",
       "      <th>city_type_urban</th>\n",
       "      <th>is_weekend_1</th>\n",
       "      <th>order_time_of_day_evening</th>\n",
       "      <th>order_time_of_day_morning</th>\n",
       "      <th>order_time_of_day_night</th>\n",
       "      <th>traffic</th>\n",
       "      <th>distance_type</th>\n",
       "      <th>vehicle_condition</th>\n",
       "      <th>multiple_deliveries</th>\n",
       "    </tr>\n",
       "  </thead>\n",
       "  <tbody>\n",
       "    <tr>\n",
       "      <th>8720</th>\n",
       "      <td>0.473684</td>\n",
       "      <td>0.56</td>\n",
       "      <td>1.0</td>\n",
       "      <td>0.404165</td>\n",
       "      <td>0.0</td>\n",
       "      <td>0.0</td>\n",
       "      <td>0.0</td>\n",
       "      <td>1.0</td>\n",
       "      <td>0.0</td>\n",
       "      <td>1.0</td>\n",
       "      <td>...</td>\n",
       "      <td>1.0</td>\n",
       "      <td>0.0</td>\n",
       "      <td>0.0</td>\n",
       "      <td>0.0</td>\n",
       "      <td>0.0</td>\n",
       "      <td>1.0</td>\n",
       "      <td>3.0</td>\n",
       "      <td>1.0</td>\n",
       "      <td>0</td>\n",
       "      <td>2.0</td>\n",
       "    </tr>\n",
       "    <tr>\n",
       "      <th>25245</th>\n",
       "      <td>1.000000</td>\n",
       "      <td>0.76</td>\n",
       "      <td>0.0</td>\n",
       "      <td>0.154044</td>\n",
       "      <td>0.0</td>\n",
       "      <td>1.0</td>\n",
       "      <td>0.0</td>\n",
       "      <td>0.0</td>\n",
       "      <td>0.0</td>\n",
       "      <td>0.0</td>\n",
       "      <td>...</td>\n",
       "      <td>0.0</td>\n",
       "      <td>0.0</td>\n",
       "      <td>1.0</td>\n",
       "      <td>0.0</td>\n",
       "      <td>0.0</td>\n",
       "      <td>0.0</td>\n",
       "      <td>1.0</td>\n",
       "      <td>0.0</td>\n",
       "      <td>0</td>\n",
       "      <td>1.0</td>\n",
       "    </tr>\n",
       "    <tr>\n",
       "      <th>34118</th>\n",
       "      <td>0.473684</td>\n",
       "      <td>0.80</td>\n",
       "      <td>0.5</td>\n",
       "      <td>0.002461</td>\n",
       "      <td>0.0</td>\n",
       "      <td>0.0</td>\n",
       "      <td>0.0</td>\n",
       "      <td>1.0</td>\n",
       "      <td>0.0</td>\n",
       "      <td>0.0</td>\n",
       "      <td>...</td>\n",
       "      <td>0.0</td>\n",
       "      <td>1.0</td>\n",
       "      <td>0.0</td>\n",
       "      <td>0.0</td>\n",
       "      <td>1.0</td>\n",
       "      <td>0.0</td>\n",
       "      <td>2.0</td>\n",
       "      <td>0.0</td>\n",
       "      <td>1</td>\n",
       "      <td>0.0</td>\n",
       "    </tr>\n",
       "    <tr>\n",
       "      <th>26036</th>\n",
       "      <td>1.000000</td>\n",
       "      <td>0.92</td>\n",
       "      <td>1.0</td>\n",
       "      <td>0.460411</td>\n",
       "      <td>0.0</td>\n",
       "      <td>1.0</td>\n",
       "      <td>0.0</td>\n",
       "      <td>0.0</td>\n",
       "      <td>0.0</td>\n",
       "      <td>0.0</td>\n",
       "      <td>...</td>\n",
       "      <td>0.0</td>\n",
       "      <td>0.0</td>\n",
       "      <td>1.0</td>\n",
       "      <td>0.0</td>\n",
       "      <td>0.0</td>\n",
       "      <td>1.0</td>\n",
       "      <td>0.0</td>\n",
       "      <td>2.0</td>\n",
       "      <td>0</td>\n",
       "      <td>1.0</td>\n",
       "    </tr>\n",
       "    <tr>\n",
       "      <th>37194</th>\n",
       "      <td>0.526316</td>\n",
       "      <td>0.76</td>\n",
       "      <td>0.5</td>\n",
       "      <td>0.243676</td>\n",
       "      <td>0.0</td>\n",
       "      <td>0.0</td>\n",
       "      <td>0.0</td>\n",
       "      <td>0.0</td>\n",
       "      <td>1.0</td>\n",
       "      <td>0.0</td>\n",
       "      <td>...</td>\n",
       "      <td>0.0</td>\n",
       "      <td>0.0</td>\n",
       "      <td>1.0</td>\n",
       "      <td>0.0</td>\n",
       "      <td>0.0</td>\n",
       "      <td>0.0</td>\n",
       "      <td>1.0</td>\n",
       "      <td>1.0</td>\n",
       "      <td>1</td>\n",
       "      <td>1.0</td>\n",
       "    </tr>\n",
       "    <tr>\n",
       "      <th>...</th>\n",
       "      <td>...</td>\n",
       "      <td>...</td>\n",
       "      <td>...</td>\n",
       "      <td>...</td>\n",
       "      <td>...</td>\n",
       "      <td>...</td>\n",
       "      <td>...</td>\n",
       "      <td>...</td>\n",
       "      <td>...</td>\n",
       "      <td>...</td>\n",
       "      <td>...</td>\n",
       "      <td>...</td>\n",
       "      <td>...</td>\n",
       "      <td>...</td>\n",
       "      <td>...</td>\n",
       "      <td>...</td>\n",
       "      <td>...</td>\n",
       "      <td>...</td>\n",
       "      <td>...</td>\n",
       "      <td>...</td>\n",
       "      <td>...</td>\n",
       "    </tr>\n",
       "    <tr>\n",
       "      <th>20275</th>\n",
       "      <td>0.578947</td>\n",
       "      <td>0.92</td>\n",
       "      <td>0.5</td>\n",
       "      <td>0.451895</td>\n",
       "      <td>0.0</td>\n",
       "      <td>0.0</td>\n",
       "      <td>0.0</td>\n",
       "      <td>1.0</td>\n",
       "      <td>0.0</td>\n",
       "      <td>0.0</td>\n",
       "      <td>...</td>\n",
       "      <td>0.0</td>\n",
       "      <td>0.0</td>\n",
       "      <td>1.0</td>\n",
       "      <td>1.0</td>\n",
       "      <td>0.0</td>\n",
       "      <td>0.0</td>\n",
       "      <td>3.0</td>\n",
       "      <td>2.0</td>\n",
       "      <td>0</td>\n",
       "      <td>0.0</td>\n",
       "    </tr>\n",
       "    <tr>\n",
       "      <th>7601</th>\n",
       "      <td>0.052632</td>\n",
       "      <td>1.00</td>\n",
       "      <td>1.0</td>\n",
       "      <td>0.612270</td>\n",
       "      <td>0.0</td>\n",
       "      <td>1.0</td>\n",
       "      <td>0.0</td>\n",
       "      <td>0.0</td>\n",
       "      <td>0.0</td>\n",
       "      <td>0.0</td>\n",
       "      <td>...</td>\n",
       "      <td>0.0</td>\n",
       "      <td>0.0</td>\n",
       "      <td>1.0</td>\n",
       "      <td>1.0</td>\n",
       "      <td>0.0</td>\n",
       "      <td>0.0</td>\n",
       "      <td>1.0</td>\n",
       "      <td>2.0</td>\n",
       "      <td>1</td>\n",
       "      <td>1.0</td>\n",
       "    </tr>\n",
       "    <tr>\n",
       "      <th>13632</th>\n",
       "      <td>0.526316</td>\n",
       "      <td>0.92</td>\n",
       "      <td>0.0</td>\n",
       "      <td>0.322877</td>\n",
       "      <td>0.0</td>\n",
       "      <td>0.0</td>\n",
       "      <td>0.0</td>\n",
       "      <td>0.0</td>\n",
       "      <td>0.0</td>\n",
       "      <td>0.0</td>\n",
       "      <td>...</td>\n",
       "      <td>0.0</td>\n",
       "      <td>0.0</td>\n",
       "      <td>1.0</td>\n",
       "      <td>0.0</td>\n",
       "      <td>0.0</td>\n",
       "      <td>0.0</td>\n",
       "      <td>1.0</td>\n",
       "      <td>1.0</td>\n",
       "      <td>1</td>\n",
       "      <td>0.0</td>\n",
       "    </tr>\n",
       "    <tr>\n",
       "      <th>1045</th>\n",
       "      <td>0.947368</td>\n",
       "      <td>0.96</td>\n",
       "      <td>0.5</td>\n",
       "      <td>0.004486</td>\n",
       "      <td>0.0</td>\n",
       "      <td>0.0</td>\n",
       "      <td>0.0</td>\n",
       "      <td>1.0</td>\n",
       "      <td>0.0</td>\n",
       "      <td>0.0</td>\n",
       "      <td>...</td>\n",
       "      <td>0.0</td>\n",
       "      <td>1.0</td>\n",
       "      <td>1.0</td>\n",
       "      <td>0.0</td>\n",
       "      <td>1.0</td>\n",
       "      <td>0.0</td>\n",
       "      <td>0.0</td>\n",
       "      <td>0.0</td>\n",
       "      <td>0</td>\n",
       "      <td>1.0</td>\n",
       "    </tr>\n",
       "    <tr>\n",
       "      <th>19002</th>\n",
       "      <td>0.684211</td>\n",
       "      <td>0.96</td>\n",
       "      <td>0.0</td>\n",
       "      <td>0.481978</td>\n",
       "      <td>0.0</td>\n",
       "      <td>0.0</td>\n",
       "      <td>0.0</td>\n",
       "      <td>0.0</td>\n",
       "      <td>1.0</td>\n",
       "      <td>0.0</td>\n",
       "      <td>...</td>\n",
       "      <td>0.0</td>\n",
       "      <td>1.0</td>\n",
       "      <td>0.0</td>\n",
       "      <td>0.0</td>\n",
       "      <td>0.0</td>\n",
       "      <td>1.0</td>\n",
       "      <td>0.0</td>\n",
       "      <td>2.0</td>\n",
       "      <td>2</td>\n",
       "      <td>1.0</td>\n",
       "    </tr>\n",
       "  </tbody>\n",
       "</table>\n",
       "<p>30156 rows × 25 columns</p>\n",
       "</div>"
      ],
      "text/plain": [
       "            age  ratings  pickup_time_minutes  distance  weather_fog  \\\n",
       "8720   0.473684     0.56                  1.0  0.404165          0.0   \n",
       "25245  1.000000     0.76                  0.0  0.154044          0.0   \n",
       "34118  0.473684     0.80                  0.5  0.002461          0.0   \n",
       "26036  1.000000     0.92                  1.0  0.460411          0.0   \n",
       "37194  0.526316     0.76                  0.5  0.243676          0.0   \n",
       "...         ...      ...                  ...       ...          ...   \n",
       "20275  0.578947     0.92                  0.5  0.451895          0.0   \n",
       "7601   0.052632     1.00                  1.0  0.612270          0.0   \n",
       "13632  0.526316     0.92                  0.0  0.322877          0.0   \n",
       "1045   0.947368     0.96                  0.5  0.004486          0.0   \n",
       "19002  0.684211     0.96                  0.0  0.481978          0.0   \n",
       "\n",
       "       weather_sandstorms  weather_stormy  weather_sunny  weather_windy  \\\n",
       "8720                  0.0             0.0            1.0            0.0   \n",
       "25245                 1.0             0.0            0.0            0.0   \n",
       "34118                 0.0             0.0            1.0            0.0   \n",
       "26036                 1.0             0.0            0.0            0.0   \n",
       "37194                 0.0             0.0            0.0            1.0   \n",
       "...                   ...             ...            ...            ...   \n",
       "20275                 0.0             0.0            1.0            0.0   \n",
       "7601                  1.0             0.0            0.0            0.0   \n",
       "13632                 0.0             0.0            0.0            0.0   \n",
       "1045                  0.0             0.0            1.0            0.0   \n",
       "19002                 0.0             0.0            0.0            1.0   \n",
       "\n",
       "       type_of_order_drinks  ...  city_type_semi-urban  city_type_urban  \\\n",
       "8720                    1.0  ...                   1.0              0.0   \n",
       "25245                   0.0  ...                   0.0              0.0   \n",
       "34118                   0.0  ...                   0.0              1.0   \n",
       "26036                   0.0  ...                   0.0              0.0   \n",
       "37194                   0.0  ...                   0.0              0.0   \n",
       "...                     ...  ...                   ...              ...   \n",
       "20275                   0.0  ...                   0.0              0.0   \n",
       "7601                    0.0  ...                   0.0              0.0   \n",
       "13632                   0.0  ...                   0.0              0.0   \n",
       "1045                    0.0  ...                   0.0              1.0   \n",
       "19002                   0.0  ...                   0.0              1.0   \n",
       "\n",
       "       is_weekend_1  order_time_of_day_evening  order_time_of_day_morning  \\\n",
       "8720            0.0                        0.0                        0.0   \n",
       "25245           1.0                        0.0                        0.0   \n",
       "34118           0.0                        0.0                        1.0   \n",
       "26036           1.0                        0.0                        0.0   \n",
       "37194           1.0                        0.0                        0.0   \n",
       "...             ...                        ...                        ...   \n",
       "20275           1.0                        1.0                        0.0   \n",
       "7601            1.0                        1.0                        0.0   \n",
       "13632           1.0                        0.0                        0.0   \n",
       "1045            1.0                        0.0                        1.0   \n",
       "19002           0.0                        0.0                        0.0   \n",
       "\n",
       "       order_time_of_day_night  traffic  distance_type  vehicle_condition  \\\n",
       "8720                       1.0      3.0            1.0                  0   \n",
       "25245                      0.0      1.0            0.0                  0   \n",
       "34118                      0.0      2.0            0.0                  1   \n",
       "26036                      1.0      0.0            2.0                  0   \n",
       "37194                      0.0      1.0            1.0                  1   \n",
       "...                        ...      ...            ...                ...   \n",
       "20275                      0.0      3.0            2.0                  0   \n",
       "7601                       0.0      1.0            2.0                  1   \n",
       "13632                      0.0      1.0            1.0                  1   \n",
       "1045                       0.0      0.0            0.0                  0   \n",
       "19002                      1.0      0.0            2.0                  2   \n",
       "\n",
       "       multiple_deliveries  \n",
       "8720                   2.0  \n",
       "25245                  1.0  \n",
       "34118                  0.0  \n",
       "26036                  1.0  \n",
       "37194                  1.0  \n",
       "...                    ...  \n",
       "20275                  0.0  \n",
       "7601                   1.0  \n",
       "13632                  0.0  \n",
       "1045                   1.0  \n",
       "19002                  1.0  \n",
       "\n",
       "[30156 rows x 25 columns]"
      ]
     },
     "execution_count": 34,
     "metadata": {},
     "output_type": "execute_result"
    }
   ],
   "source": [
    "X_train_trans"
   ]
  },
  {
   "cell_type": "code",
   "execution_count": 35,
   "metadata": {
    "colab": {
     "base_uri": "https://localhost:8080/"
    },
    "executionInfo": {
     "elapsed": 9854,
     "status": "ok",
     "timestamp": 1732873540626,
     "user": {
      "displayName": "Himanshu Arora",
      "userId": "03026800847751892488"
     },
     "user_tz": -330
    },
    "id": "jR-p4ReDqiqE",
    "outputId": "0dd0e426-915a-4419-fee5-71a79c4472e2"
   },
   "outputs": [
    {
     "name": "stdout",
     "output_type": "stream",
     "text": [
      "Requirement already satisfied: optuna in c:\\users\\admin\\anaconda3\\envs\\swiggy_project_env\\lib\\site-packages (4.5.0)\n",
      "Requirement already satisfied: alembic>=1.5.0 in c:\\users\\admin\\anaconda3\\envs\\swiggy_project_env\\lib\\site-packages (from optuna) (1.16.5)\n",
      "Requirement already satisfied: colorlog in c:\\users\\admin\\anaconda3\\envs\\swiggy_project_env\\lib\\site-packages (from optuna) (6.9.0)\n",
      "Requirement already satisfied: numpy in c:\\users\\admin\\anaconda3\\envs\\swiggy_project_env\\lib\\site-packages (from optuna) (2.2.6)\n",
      "Requirement already satisfied: packaging>=20.0 in c:\\users\\admin\\anaconda3\\envs\\swiggy_project_env\\lib\\site-packages (from optuna) (25.0)\n",
      "Requirement already satisfied: sqlalchemy>=1.4.2 in c:\\users\\admin\\anaconda3\\envs\\swiggy_project_env\\lib\\site-packages (from optuna) (2.0.43)\n",
      "Requirement already satisfied: tqdm in c:\\users\\admin\\anaconda3\\envs\\swiggy_project_env\\lib\\site-packages (from optuna) (4.67.1)\n",
      "Requirement already satisfied: PyYAML in c:\\users\\admin\\anaconda3\\envs\\swiggy_project_env\\lib\\site-packages (from optuna) (6.0.2)\n",
      "Requirement already satisfied: Mako in c:\\users\\admin\\anaconda3\\envs\\swiggy_project_env\\lib\\site-packages (from alembic>=1.5.0->optuna) (1.3.10)\n",
      "Requirement already satisfied: typing-extensions>=4.12 in c:\\users\\admin\\anaconda3\\envs\\swiggy_project_env\\lib\\site-packages (from alembic>=1.5.0->optuna) (4.15.0)\n",
      "Requirement already satisfied: tomli in c:\\users\\admin\\anaconda3\\envs\\swiggy_project_env\\lib\\site-packages (from alembic>=1.5.0->optuna) (2.2.1)\n",
      "Requirement already satisfied: greenlet>=1 in c:\\users\\admin\\anaconda3\\envs\\swiggy_project_env\\lib\\site-packages (from sqlalchemy>=1.4.2->optuna) (3.2.4)\n",
      "Requirement already satisfied: colorama in c:\\users\\admin\\anaconda3\\envs\\swiggy_project_env\\lib\\site-packages (from colorlog->optuna) (0.4.6)\n",
      "Requirement already satisfied: MarkupSafe>=0.9.2 in c:\\users\\admin\\anaconda3\\envs\\swiggy_project_env\\lib\\site-packages (from Mako->alembic>=1.5.0->optuna) (3.0.2)\n",
      "Note: you may need to restart the kernel to use updated packages.\n"
     ]
    }
   ],
   "source": [
    "%pip install optuna"
   ]
  },
  {
   "cell_type": "code",
   "execution_count": 36,
   "metadata": {
    "colab": {
     "base_uri": "https://localhost:8080/"
    },
    "executionInfo": {
     "elapsed": 687,
     "status": "ok",
     "timestamp": 1732873541311,
     "user": {
      "displayName": "Himanshu Arora",
      "userId": "03026800847751892488"
     },
     "user_tz": -330
    },
    "id": "vvAmK7Wfq8rV",
    "outputId": "f6ca85c4-d64b-4e5f-92e5-01b931519d7d"
   },
   "outputs": [
    {
     "name": "stderr",
     "output_type": "stream",
     "text": [
      "c:\\Users\\Admin\\anaconda3\\envs\\swiggy_project_env\\lib\\site-packages\\tqdm\\auto.py:21: TqdmWarning: IProgress not found. Please update jupyter and ipywidgets. See https://ipywidgets.readthedocs.io/en/stable/user_install.html\n",
      "  from .autonotebook import tqdm as notebook_tqdm\n"
     ]
    }
   ],
   "source": [
    "from lightgbm import LGBMRegressor\n",
    "import optuna"
   ]
  },
  {
   "cell_type": "code",
   "execution_count": 37,
   "metadata": {
    "executionInfo": {
     "elapsed": 9,
     "status": "ok",
     "timestamp": 1732873541312,
     "user": {
      "displayName": "Himanshu Arora",
      "userId": "03026800847751892488"
     },
     "user_tz": -330
    },
    "id": "7-i3qhXbteRD"
   },
   "outputs": [],
   "source": [
    "from sklearn.metrics import r2_score, mean_absolute_error\n",
    "from sklearn.model_selection import cross_val_score\n",
    "from sklearn.compose import TransformedTargetRegressor"
   ]
  },
  {
   "cell_type": "code",
   "execution_count": 38,
   "metadata": {
    "executionInfo": {
     "elapsed": 8,
     "status": "ok",
     "timestamp": 1732873541312,
     "user": {
      "displayName": "Himanshu Arora",
      "userId": "03026800847751892488"
     },
     "user_tz": -330
    },
    "id": "RvZDCzGZrGQK"
   },
   "outputs": [],
   "source": [
    "def objective(trial):\n",
    "    with mlflow.start_run(nested=True):\n",
    "        params = {\n",
    "            \"n_estimators\": trial.suggest_int(\"n_estimators\",10,200),\n",
    "            \"max_depth\": trial.suggest_int(\"max_depth\",1,40),\n",
    "            \"learning_rate\": trial.suggest_float(\"learning_rate\",0.1,0.8),\n",
    "            \"subsample\": trial.suggest_float(\"subsample\",0.5,1),\n",
    "            \"min_child_weight\": trial.suggest_int(\"min_child_weight\",5,20),\n",
    "            \"min_split_gain\": trial.suggest_float(\"min_split_gain\",0,10),\n",
    "            \"reg_lambda\": trial.suggest_float(\"reg_lambda\",0,100),\n",
    "            \"random_state\": 42,\n",
    "            \"n_jobs\": -1,\n",
    "        }\n",
    "\n",
    "        # log model parameters\n",
    "        mlflow.log_params(params)\n",
    "\n",
    "        xgb_reg = LGBMRegressor(**params)\n",
    "        model = TransformedTargetRegressor(regressor=xgb_reg,transformer=pt)\n",
    "\n",
    "        # train the model\n",
    "        model.fit(X_train_trans,y_train)\n",
    "\n",
    "        # get the predictions\n",
    "        y_pred_train = model.predict(X_train_trans)\n",
    "        y_pred_test = model.predict(X_test_trans)\n",
    "\n",
    "\n",
    "        # perform cross validation\n",
    "        cv_score = cross_val_score(model,\n",
    "                                X_train_trans,\n",
    "                                y_train,\n",
    "                                cv=5,\n",
    "                                scoring=\"neg_mean_absolute_error\",\n",
    "                                n_jobs=-1)\n",
    "\n",
    "        # mean score\n",
    "        mean_score = -(cv_score.mean())\n",
    "        # log avg cross val error\n",
    "        mlflow.log_metric(\"cross_val_error\",mean_score)\n",
    "\n",
    "        return mean_score"
   ]
  },
  {
   "cell_type": "code",
   "execution_count": 39,
   "metadata": {
    "colab": {
     "base_uri": "https://localhost:8080/",
     "height": 1000,
     "referenced_widgets": [
      "14627f1449e647f4a8459ae339341fdc",
      "b11d53c915b943769109b5434caff025",
      "6696e39c9ab34445be9ba6eb90c7c97c",
      "d226150fbddc4f6db9137b86aa7af126",
      "b07b24928c3547118da93ca8238f0e9c",
      "e004e7debe73442897d3998a69bc7733",
      "18c798948df24fa48ecc432febb1e17a",
      "fb48f714b7a046d9a082d2c481dbb0f8",
      "0978fc23aa244141a561e9d047cb4a6b",
      "95de1c008c9a4a22a265357f2ed35730",
      "00fb9cfc47754120bbd4f8baef0ab020"
     ]
    },
    "executionInfo": {
     "elapsed": 319728,
     "status": "ok",
     "timestamp": 1732873861600,
     "user": {
      "displayName": "Himanshu Arora",
      "userId": "03026800847751892488"
     },
     "user_tz": -330
    },
    "id": "yKs32EWWs42v",
    "outputId": "3d0e5e86-7588-4d01-b8e7-2f0f4e59a9f4"
   },
   "outputs": [
    {
     "name": "stderr",
     "output_type": "stream",
     "text": [
      "[I 2025-09-19 10:29:40,758] A new study created in memory with name: no-name-54e3e1fd-c0dd-4d2f-83e7-6b5974bd88a1\n",
      "  0%|          | 0/50 [00:00<?, ?it/s]"
     ]
    },
    {
     "name": "stdout",
     "output_type": "stream",
     "text": [
      "🏃 View run adaptable-rook-519 at: https://dagshub.com/Ranjeet-Kumar60/swiggy-delivery-time-prediction-project.mlflow/#/experiments/4/runs/30a862e7286b4f0c936d12217557b92a\n",
      "🧪 View experiment at: https://dagshub.com/Ranjeet-Kumar60/swiggy-delivery-time-prediction-project.mlflow/#/experiments/4\n",
      "🏃 View run luxuriant-pug-855 at: https://dagshub.com/Ranjeet-Kumar60/swiggy-delivery-time-prediction-project.mlflow/#/experiments/4/runs/ae46c534817e4173bebc099baece7514\n",
      "🧪 View experiment at: https://dagshub.com/Ranjeet-Kumar60/swiggy-delivery-time-prediction-project.mlflow/#/experiments/4\n",
      "🏃 View run omniscient-toad-327 at: https://dagshub.com/Ranjeet-Kumar60/swiggy-delivery-time-prediction-project.mlflow/#/experiments/4/runs/f1552cf12ed34dad8645ae7f62b5bc42\n",
      "🧪 View experiment at: https://dagshub.com/Ranjeet-Kumar60/swiggy-delivery-time-prediction-project.mlflow/#/experiments/4\n",
      "🏃 View run youthful-asp-644 at: https://dagshub.com/Ranjeet-Kumar60/swiggy-delivery-time-prediction-project.mlflow/#/experiments/4/runs/2734e6da755743d08e0733c919ec9daf\n",
      "🧪 View experiment at: https://dagshub.com/Ranjeet-Kumar60/swiggy-delivery-time-prediction-project.mlflow/#/experiments/4\n",
      "🏃 View run masked-gnu-986 at: https://dagshub.com/Ranjeet-Kumar60/swiggy-delivery-time-prediction-project.mlflow/#/experiments/4/runs/b60d0244598b42d193865e79b0a6e067\n",
      "🧪 View experiment at: https://dagshub.com/Ranjeet-Kumar60/swiggy-delivery-time-prediction-project.mlflow/#/experiments/4\n",
      "🏃 View run indecisive-ram-705 at: https://dagshub.com/Ranjeet-Kumar60/swiggy-delivery-time-prediction-project.mlflow/#/experiments/4/runs/d141af506bda492db138ca9c81b2761d\n",
      "🧪 View experiment at: https://dagshub.com/Ranjeet-Kumar60/swiggy-delivery-time-prediction-project.mlflow/#/experiments/4\n"
     ]
    },
    {
     "name": "stderr",
     "output_type": "stream",
     "text": [
      "Best trial: 0. Best value: 3.73211:   2%|▏         | 1/50 [00:55<45:30, 55.73s/it]"
     ]
    },
    {
     "name": "stdout",
     "output_type": "stream",
     "text": [
      "[I 2025-09-19 10:30:37,579] Trial 0 finished with value: 3.7321106281217 and parameters: {'n_estimators': 149, 'max_depth': 17, 'learning_rate': 0.1875336307228519, 'subsample': 0.8811070255306983, 'min_child_weight': 5, 'min_split_gain': 8.769899298621858, 'reg_lambda': 43.35846835270784}. Best is trial 0 with value: 3.7321106281217.\n"
     ]
    },
    {
     "name": "stderr",
     "output_type": "stream",
     "text": [
      "Best trial: 0. Best value: 3.73211:   4%|▍         | 2/50 [00:56<18:50, 23.56s/it]"
     ]
    },
    {
     "name": "stdout",
     "output_type": "stream",
     "text": [
      "[I 2025-09-19 10:30:38,611] Trial 5 finished with value: 4.3048873581602205 and parameters: {'n_estimators': 163, 'max_depth': 1, 'learning_rate': 0.4524432854349979, 'subsample': 0.9821146955781498, 'min_child_weight': 7, 'min_split_gain': 8.858613453828706, 'reg_lambda': 63.35721471393212}. Best is trial 0 with value: 3.7321106281217.\n",
      "🏃 View run charming-gnat-759 at: https://dagshub.com/Ranjeet-Kumar60/swiggy-delivery-time-prediction-project.mlflow/#/experiments/4/runs/0294d36d766d4b9e8c71bbbe68ee3002\n",
      "🧪 View experiment at: https://dagshub.com/Ranjeet-Kumar60/swiggy-delivery-time-prediction-project.mlflow/#/experiments/4\n",
      "🏃 View run colorful-koi-420 at: https://dagshub.com/Ranjeet-Kumar60/swiggy-delivery-time-prediction-project.mlflow/#/experiments/4/runs/41f578388f9d446db962fe4eab99488c\n",
      "🧪 View experiment at: https://dagshub.com/Ranjeet-Kumar60/swiggy-delivery-time-prediction-project.mlflow/#/experiments/4\n"
     ]
    },
    {
     "name": "stderr",
     "output_type": "stream",
     "text": [
      "Best trial: 0. Best value: 3.73211:   6%|▌         | 3/50 [00:59<11:09, 14.24s/it]"
     ]
    },
    {
     "name": "stdout",
     "output_type": "stream",
     "text": [
      "[I 2025-09-19 10:30:41,757] Trial 2 finished with value: 3.7462394780458874 and parameters: {'n_estimators': 115, 'max_depth': 37, 'learning_rate': 0.26784975300144787, 'subsample': 0.8609278321571137, 'min_child_weight': 12, 'min_split_gain': 9.086415170253542, 'reg_lambda': 39.93774290896641}. Best is trial 0 with value: 3.7321106281217.\n",
      "🏃 View run charming-fawn-977 at: https://dagshub.com/Ranjeet-Kumar60/swiggy-delivery-time-prediction-project.mlflow/#/experiments/4/runs/bd500f8054094a4d99948cf81e0d780b\n",
      "🧪 View experiment at: https://dagshub.com/Ranjeet-Kumar60/swiggy-delivery-time-prediction-project.mlflow/#/experiments/4\n",
      "🏃 View run likeable-koi-783 at: https://dagshub.com/Ranjeet-Kumar60/swiggy-delivery-time-prediction-project.mlflow/#/experiments/4/runs/ea1b525906644a9e98bee3f9bd447995\n",
      "🧪 View experiment at: https://dagshub.com/Ranjeet-Kumar60/swiggy-delivery-time-prediction-project.mlflow/#/experiments/4\n"
     ]
    },
    {
     "name": "stderr",
     "output_type": "stream",
     "text": [
      "Best trial: 4. Best value: 3.50591:   8%|▊         | 4/50 [01:02<07:26,  9.71s/it]"
     ]
    },
    {
     "name": "stdout",
     "output_type": "stream",
     "text": [
      "[I 2025-09-19 10:30:44,522] Trial 4 finished with value: 3.5059095094147295 and parameters: {'n_estimators': 111, 'max_depth': 37, 'learning_rate': 0.2775871985734035, 'subsample': 0.548226394335773, 'min_child_weight': 14, 'min_split_gain': 1.952321362593784, 'reg_lambda': 42.26398912338334}. Best is trial 4 with value: 3.5059095094147295.\n"
     ]
    },
    {
     "name": "stderr",
     "output_type": "stream",
     "text": [
      "Best trial: 4. Best value: 3.50591:  10%|█         | 5/50 [01:03<04:55,  6.58s/it]"
     ]
    },
    {
     "name": "stdout",
     "output_type": "stream",
     "text": [
      "[I 2025-09-19 10:30:45,534] Trial 6 finished with value: 3.758575384164218 and parameters: {'n_estimators': 27, 'max_depth': 9, 'learning_rate': 0.49225989644923285, 'subsample': 0.9049813557600279, 'min_child_weight': 11, 'min_split_gain': 8.320650558189687, 'reg_lambda': 12.842704247360647}. Best is trial 4 with value: 3.5059095094147295.\n",
      "🏃 View run rumbling-lynx-268 at: https://dagshub.com/Ranjeet-Kumar60/swiggy-delivery-time-prediction-project.mlflow/#/experiments/4/runs/fabe3fc111504720a1571184b6cf02c9\n",
      "🧪 View experiment at: https://dagshub.com/Ranjeet-Kumar60/swiggy-delivery-time-prediction-project.mlflow/#/experiments/4\n"
     ]
    },
    {
     "name": "stderr",
     "output_type": "stream",
     "text": [
      "Best trial: 4. Best value: 3.50591:  12%|█▏        | 6/50 [01:07<04:10,  5.70s/it]"
     ]
    },
    {
     "name": "stdout",
     "output_type": "stream",
     "text": [
      "[I 2025-09-19 10:30:49,540] Trial 11 finished with value: 3.585718791126098 and parameters: {'n_estimators': 195, 'max_depth': 32, 'learning_rate': 0.6060362150734886, 'subsample': 0.7749170113142394, 'min_child_weight': 18, 'min_split_gain': 2.6867026881153624, 'reg_lambda': 64.27717863606375}. Best is trial 4 with value: 3.5059095094147295.\n"
     ]
    },
    {
     "name": "stderr",
     "output_type": "stream",
     "text": [
      "Best trial: 1. Best value: 3.22841:  14%|█▍        | 7/50 [01:09<03:03,  4.27s/it]"
     ]
    },
    {
     "name": "stdout",
     "output_type": "stream",
     "text": [
      "[I 2025-09-19 10:30:50,868] Trial 1 finished with value: 3.2284107776258906 and parameters: {'n_estimators': 188, 'max_depth': 16, 'learning_rate': 0.23342208004307147, 'subsample': 0.7496174345149004, 'min_child_weight': 13, 'min_split_gain': 0.18628459953323961, 'reg_lambda': 42.05495482272581}. Best is trial 1 with value: 3.2284107776258906.\n"
     ]
    },
    {
     "name": "stderr",
     "output_type": "stream",
     "text": [
      "Best trial: 1. Best value: 3.22841:  16%|█▌        | 8/50 [01:10<02:25,  3.47s/it]"
     ]
    },
    {
     "name": "stdout",
     "output_type": "stream",
     "text": [
      "[I 2025-09-19 10:30:52,601] Trial 8 finished with value: 3.801688360055862 and parameters: {'n_estimators': 110, 'max_depth': 31, 'learning_rate': 0.7702373693154999, 'subsample': 0.9478694934438752, 'min_child_weight': 12, 'min_split_gain': 7.7540655997512165, 'reg_lambda': 76.80604332204318}. Best is trial 1 with value: 3.2284107776258906.\n"
     ]
    },
    {
     "name": "stderr",
     "output_type": "stream",
     "text": [
      "Best trial: 1. Best value: 3.22841:  18%|█▊        | 9/50 [01:14<02:28,  3.63s/it]"
     ]
    },
    {
     "name": "stdout",
     "output_type": "stream",
     "text": [
      "[I 2025-09-19 10:30:56,601] Trial 9 finished with value: 3.817075562411071 and parameters: {'n_estimators': 182, 'max_depth': 35, 'learning_rate': 0.7662701636850657, 'subsample': 0.6892316692177982, 'min_child_weight': 8, 'min_split_gain': 8.693018381047342, 'reg_lambda': 63.29418601414572}. Best is trial 1 with value: 3.2284107776258906.\n",
      "🏃 View run marvelous-panda-401 at: https://dagshub.com/Ranjeet-Kumar60/swiggy-delivery-time-prediction-project.mlflow/#/experiments/4/runs/1f4eaeac3dd34153b00b7e8937e14641\n",
      "🧪 View experiment at: https://dagshub.com/Ranjeet-Kumar60/swiggy-delivery-time-prediction-project.mlflow/#/experiments/4\n"
     ]
    },
    {
     "name": "stderr",
     "output_type": "stream",
     "text": [
      "Best trial: 1. Best value: 3.22841:  20%|██        | 10/50 [01:25<03:54,  5.86s/it]"
     ]
    },
    {
     "name": "stdout",
     "output_type": "stream",
     "text": [
      "[I 2025-09-19 10:31:07,435] Trial 10 finished with value: 3.6175084354182885 and parameters: {'n_estimators': 155, 'max_depth': 32, 'learning_rate': 0.30262313370751737, 'subsample': 0.6731689832433359, 'min_child_weight': 19, 'min_split_gain': 4.098418894934065, 'reg_lambda': 22.27706740114651}. Best is trial 1 with value: 3.2284107776258906.\n"
     ]
    },
    {
     "name": "stderr",
     "output_type": "stream",
     "text": [
      "Best trial: 1. Best value: 3.22841:  22%|██▏       | 11/50 [01:30<03:38,  5.60s/it]"
     ]
    },
    {
     "name": "stdout",
     "output_type": "stream",
     "text": [
      "[I 2025-09-19 10:31:12,481] Trial 7 finished with value: 3.3456279778429376 and parameters: {'n_estimators': 175, 'max_depth': 19, 'learning_rate': 0.1294493513762964, 'subsample': 0.8849228175795277, 'min_child_weight': 20, 'min_split_gain': 0.8459994680984606, 'reg_lambda': 7.214079753889536}. Best is trial 1 with value: 3.2284107776258906.\n",
      "🏃 View run legendary-trout-416 at: https://dagshub.com/Ranjeet-Kumar60/swiggy-delivery-time-prediction-project.mlflow/#/experiments/4/runs/9c5383411396468a860f134d3276a6da\n",
      "🧪 View experiment at: https://dagshub.com/Ranjeet-Kumar60/swiggy-delivery-time-prediction-project.mlflow/#/experiments/4\n",
      "🏃 View run bold-whale-120 at: https://dagshub.com/Ranjeet-Kumar60/swiggy-delivery-time-prediction-project.mlflow/#/experiments/4/runs/9b0266980b2d46099323845feb0975eb\n",
      "🧪 View experiment at: https://dagshub.com/Ranjeet-Kumar60/swiggy-delivery-time-prediction-project.mlflow/#/experiments/4\n",
      "🏃 View run nervous-crow-824 at: https://dagshub.com/Ranjeet-Kumar60/swiggy-delivery-time-prediction-project.mlflow/#/experiments/4/runs/15081a31b8834552b7cf598aaecb8461\n",
      "🧪 View experiment at: https://dagshub.com/Ranjeet-Kumar60/swiggy-delivery-time-prediction-project.mlflow/#/experiments/4\n",
      "🏃 View run vaunted-hen-32 at: https://dagshub.com/Ranjeet-Kumar60/swiggy-delivery-time-prediction-project.mlflow/#/experiments/4/runs/3646f83cdd914b6797d7fcd2b069ec60\n",
      "🧪 View experiment at: https://dagshub.com/Ranjeet-Kumar60/swiggy-delivery-time-prediction-project.mlflow/#/experiments/4\n",
      "🏃 View run intrigued-squid-177 at: https://dagshub.com/Ranjeet-Kumar60/swiggy-delivery-time-prediction-project.mlflow/#/experiments/4/runs/8dbe491bc603453a9621f0b631075e1d\n",
      "🧪 View experiment at: https://dagshub.com/Ranjeet-Kumar60/swiggy-delivery-time-prediction-project.mlflow/#/experiments/4\n"
     ]
    },
    {
     "name": "stderr",
     "output_type": "stream",
     "text": [
      "Best trial: 1. Best value: 3.22841:  24%|██▍       | 12/50 [02:08<09:49, 15.52s/it]"
     ]
    },
    {
     "name": "stdout",
     "output_type": "stream",
     "text": [
      "[I 2025-09-19 10:31:50,673] Trial 13 finished with value: 3.7515791616525282 and parameters: {'n_estimators': 106, 'max_depth': 40, 'learning_rate': 0.5717692252461652, 'subsample': 0.9919822252915258, 'min_child_weight': 19, 'min_split_gain': 9.492812112051576, 'reg_lambda': 65.3965611828246}. Best is trial 1 with value: 3.2284107776258906.\n",
      "🏃 View run omniscient-gnu-268 at: https://dagshub.com/Ranjeet-Kumar60/swiggy-delivery-time-prediction-project.mlflow/#/experiments/4/runs/afc30085ff954313b4e2a65863f04151\n",
      "🧪 View experiment at: https://dagshub.com/Ranjeet-Kumar60/swiggy-delivery-time-prediction-project.mlflow/#/experiments/4\n",
      "🏃 View run illustrious-bass-60 at: https://dagshub.com/Ranjeet-Kumar60/swiggy-delivery-time-prediction-project.mlflow/#/experiments/4/runs/c839f30e6a464841986085f9571622a5\n",
      "🧪 View experiment at: https://dagshub.com/Ranjeet-Kumar60/swiggy-delivery-time-prediction-project.mlflow/#/experiments/4\n"
     ]
    },
    {
     "name": "stderr",
     "output_type": "stream",
     "text": [
      "Best trial: 1. Best value: 3.22841:  26%|██▌       | 13/50 [02:12<07:26, 12.06s/it]"
     ]
    },
    {
     "name": "stdout",
     "output_type": "stream",
     "text": [
      "[I 2025-09-19 10:31:54,767] Trial 12 finished with value: 3.7351594882619366 and parameters: {'n_estimators': 81, 'max_depth': 33, 'learning_rate': 0.11825717583402565, 'subsample': 0.8174335224542184, 'min_child_weight': 8, 'min_split_gain': 7.019331902355183, 'reg_lambda': 89.21491487588752}. Best is trial 1 with value: 3.2284107776258906.\n",
      "🏃 View run stylish-frog-275 at: https://dagshub.com/Ranjeet-Kumar60/swiggy-delivery-time-prediction-project.mlflow/#/experiments/4/runs/503071c9d30d45ab85f63f1867de4561\n",
      "🧪 View experiment at: https://dagshub.com/Ranjeet-Kumar60/swiggy-delivery-time-prediction-project.mlflow/#/experiments/4\n"
     ]
    },
    {
     "name": "stderr",
     "output_type": "stream",
     "text": [
      "Best trial: 15. Best value: 3.20118:  28%|██▊       | 14/50 [02:15<05:34,  9.28s/it]"
     ]
    },
    {
     "name": "stdout",
     "output_type": "stream",
     "text": [
      "[I 2025-09-19 10:31:57,634] Trial 15 finished with value: 3.2011820206155726 and parameters: {'n_estimators': 123, 'max_depth': 15, 'learning_rate': 0.24074734589178723, 'subsample': 0.822004671882997, 'min_child_weight': 14, 'min_split_gain': 0.22077563567689418, 'reg_lambda': 1.44147272448244}. Best is trial 15 with value: 3.2011820206155726.\n"
     ]
    },
    {
     "name": "stderr",
     "output_type": "stream",
     "text": [
      "Best trial: 15. Best value: 3.20118:  30%|███       | 15/50 [02:16<03:57,  6.79s/it]"
     ]
    },
    {
     "name": "stdout",
     "output_type": "stream",
     "text": [
      "[I 2025-09-19 10:31:58,659] Trial 14 finished with value: 3.77162019962158 and parameters: {'n_estimators': 176, 'max_depth': 40, 'learning_rate': 0.633451501615435, 'subsample': 0.5366333769973975, 'min_child_weight': 18, 'min_split_gain': 7.474282874512161, 'reg_lambda': 3.5359147048161343}. Best is trial 15 with value: 3.2011820206155726.\n",
      "🏃 View run adaptable-bird-163 at: https://dagshub.com/Ranjeet-Kumar60/swiggy-delivery-time-prediction-project.mlflow/#/experiments/4/runs/8a0fdbb66f6f485388e30432b93fe74e\n",
      "🧪 View experiment at: https://dagshub.com/Ranjeet-Kumar60/swiggy-delivery-time-prediction-project.mlflow/#/experiments/4\n"
     ]
    },
    {
     "name": "stderr",
     "output_type": "stream",
     "text": [
      "Best trial: 15. Best value: 3.20118:  32%|███▏      | 16/50 [02:21<03:31,  6.23s/it]"
     ]
    },
    {
     "name": "stdout",
     "output_type": "stream",
     "text": [
      "[I 2025-09-19 10:32:03,574] Trial 18 finished with value: 3.2966741575908407 and parameters: {'n_estimators': 138, 'max_depth': 30, 'learning_rate': 0.518065874679286, 'subsample': 0.5327166236968669, 'min_child_weight': 10, 'min_split_gain': 0.15656268989153288, 'reg_lambda': 65.84429780692474}. Best is trial 15 with value: 3.2011820206155726.\n",
      "[I 2025-09-19 10:32:03,578] Trial 19 finished with value: 3.6795454432876413 and parameters: {'n_estimators': 146, 'max_depth': 10, 'learning_rate': 0.6369169653705666, 'subsample': 0.942372090508818, 'min_child_weight': 7, 'min_split_gain': 4.019950749803502, 'reg_lambda': 41.6214445293268}. Best is trial 15 with value: 3.2011820206155726.\n"
     ]
    },
    {
     "name": "stderr",
     "output_type": "stream",
     "text": [
      "Best trial: 15. Best value: 3.20118:  36%|███▌      | 18/50 [02:24<02:09,  4.06s/it]"
     ]
    },
    {
     "name": "stdout",
     "output_type": "stream",
     "text": [
      "[I 2025-09-19 10:32:06,648] Trial 17 finished with value: 3.7956658046427405 and parameters: {'n_estimators': 24, 'max_depth': 31, 'learning_rate': 0.12138734377814399, 'subsample': 0.822941269506944, 'min_child_weight': 7, 'min_split_gain': 8.018994136832928, 'reg_lambda': 33.734105416719075}. Best is trial 15 with value: 3.2011820206155726.\n"
     ]
    },
    {
     "name": "stderr",
     "output_type": "stream",
     "text": [
      "Best trial: 15. Best value: 3.20118:  38%|███▊      | 19/50 [02:29<02:12,  4.26s/it]"
     ]
    },
    {
     "name": "stdout",
     "output_type": "stream",
     "text": [
      "[I 2025-09-19 10:32:11,518] Trial 20 finished with value: 3.27776595920801 and parameters: {'n_estimators': 57, 'max_depth': 29, 'learning_rate': 0.5492892956621016, 'subsample': 0.7497894101827777, 'min_child_weight': 11, 'min_split_gain': 0.23277367087037648, 'reg_lambda': 21.236776319232774}. Best is trial 15 with value: 3.2011820206155726.\n",
      "🏃 View run enchanting-stork-802 at: https://dagshub.com/Ranjeet-Kumar60/swiggy-delivery-time-prediction-project.mlflow/#/experiments/4/runs/103886eb655b4745aa0995905d71e8bc\n",
      "🧪 View experiment at: https://dagshub.com/Ranjeet-Kumar60/swiggy-delivery-time-prediction-project.mlflow/#/experiments/4\n",
      "🏃 View run funny-owl-162 at: https://dagshub.com/Ranjeet-Kumar60/swiggy-delivery-time-prediction-project.mlflow/#/experiments/4/runs/42996979108440918e86d3cb9646782b\n",
      "🧪 View experiment at: https://dagshub.com/Ranjeet-Kumar60/swiggy-delivery-time-prediction-project.mlflow/#/experiments/4\n"
     ]
    },
    {
     "name": "stderr",
     "output_type": "stream",
     "text": [
      "Best trial: 21. Best value: 3.13843:  40%|████      | 20/50 [02:43<03:24,  6.80s/it]"
     ]
    },
    {
     "name": "stdout",
     "output_type": "stream",
     "text": [
      "[I 2025-09-19 10:32:25,485] Trial 21 finished with value: 3.138432718419238 and parameters: {'n_estimators': 54, 'max_depth': 21, 'learning_rate': 0.10045076208349206, 'subsample': 0.7910179518697267, 'min_child_weight': 16, 'min_split_gain': 0.04405242736408824, 'reg_lambda': 2.1513555963199087}. Best is trial 21 with value: 3.138432718419238.\n"
     ]
    },
    {
     "name": "stderr",
     "output_type": "stream",
     "text": [
      "Best trial: 21. Best value: 3.13843:  42%|████▏     | 21/50 [02:46<02:47,  5.79s/it]"
     ]
    },
    {
     "name": "stdout",
     "output_type": "stream",
     "text": [
      "[I 2025-09-19 10:32:28,562] Trial 16 finished with value: 3.4894026091844665 and parameters: {'n_estimators': 78, 'max_depth': 17, 'learning_rate': 0.1888714147765908, 'subsample': 0.6282008917336723, 'min_child_weight': 19, 'min_split_gain': 1.3027416847219009, 'reg_lambda': 96.2229098814699}. Best is trial 21 with value: 3.138432718419238.\n"
     ]
    },
    {
     "name": "stderr",
     "output_type": "stream",
     "text": [
      "Best trial: 21. Best value: 3.13843:  44%|████▍     | 22/50 [02:48<02:14,  4.80s/it]"
     ]
    },
    {
     "name": "stdout",
     "output_type": "stream",
     "text": [
      "[I 2025-09-19 10:32:30,807] Trial 22 finished with value: 3.1530485494387035 and parameters: {'n_estimators': 46, 'max_depth': 22, 'learning_rate': 0.1050273667665137, 'subsample': 0.7907028367613821, 'min_child_weight': 16, 'min_split_gain': 0.01275748699756607, 'reg_lambda': 5.368430167921119}. Best is trial 21 with value: 3.138432718419238.\n",
      "🏃 View run welcoming-stoat-783 at: https://dagshub.com/Ranjeet-Kumar60/swiggy-delivery-time-prediction-project.mlflow/#/experiments/4/runs/d7021bfc9093485eb1c726b3ce736f0f\n",
      "🧪 View experiment at: https://dagshub.com/Ranjeet-Kumar60/swiggy-delivery-time-prediction-project.mlflow/#/experiments/4\n",
      "🏃 View run thundering-horse-133 at: https://dagshub.com/Ranjeet-Kumar60/swiggy-delivery-time-prediction-project.mlflow/#/experiments/4/runs/9bce7e47e1564515b5d0b27347969240\n",
      "🧪 View experiment at: https://dagshub.com/Ranjeet-Kumar60/swiggy-delivery-time-prediction-project.mlflow/#/experiments/4\n",
      "🏃 View run flawless-deer-153 at: https://dagshub.com/Ranjeet-Kumar60/swiggy-delivery-time-prediction-project.mlflow/#/experiments/4/runs/b8256f4769f247eea7a08552baf5dc57\n",
      "🧪 View experiment at: https://dagshub.com/Ranjeet-Kumar60/swiggy-delivery-time-prediction-project.mlflow/#/experiments/4\n"
     ]
    },
    {
     "name": "stderr",
     "output_type": "stream",
     "text": [
      "Best trial: 21. Best value: 3.13843:  46%|████▌     | 23/50 [04:45<16:32, 36.75s/it]"
     ]
    },
    {
     "name": "stdout",
     "output_type": "stream",
     "text": [
      "[I 2025-09-19 10:34:27,434] Trial 24 finished with value: 3.5135163845643858 and parameters: {'n_estimators': 71, 'max_depth': 24, 'learning_rate': 0.3306625138048701, 'subsample': 0.6943815099469747, 'min_child_weight': 15, 'min_split_gain': 1.6940425859331976, 'reg_lambda': 23.830546659711437}. Best is trial 21 with value: 3.138432718419238.\n",
      "🏃 View run serious-wolf-109 at: https://dagshub.com/Ranjeet-Kumar60/swiggy-delivery-time-prediction-project.mlflow/#/experiments/4/runs/e289fd46d1a9403c928c7a9bd2618aee\n",
      "🧪 View experiment at: https://dagshub.com/Ranjeet-Kumar60/swiggy-delivery-time-prediction-project.mlflow/#/experiments/4\n"
     ]
    },
    {
     "name": "stderr",
     "output_type": "stream",
     "text": [
      "Best trial: 21. Best value: 3.13843:  48%|████▊     | 24/50 [04:48<11:42, 27.02s/it]"
     ]
    },
    {
     "name": "stdout",
     "output_type": "stream",
     "text": [
      "[I 2025-09-19 10:34:30,614] Trial 26 finished with value: 3.515930995594881 and parameters: {'n_estimators': 76, 'max_depth': 25, 'learning_rate': 0.369345705389773, 'subsample': 0.7059738053247182, 'min_child_weight': 15, 'min_split_gain': 1.5953291746284448, 'reg_lambda': 21.776585626324284}. Best is trial 21 with value: 3.138432718419238.\n"
     ]
    },
    {
     "name": "stderr",
     "output_type": "stream",
     "text": [
      "Best trial: 21. Best value: 3.13843:  50%|█████     | 25/50 [04:50<08:11, 19.67s/it]"
     ]
    },
    {
     "name": "stdout",
     "output_type": "stream",
     "text": [
      "[I 2025-09-19 10:34:32,547] Trial 29 finished with value: 3.674668277270571 and parameters: {'n_estimators': 80, 'max_depth': 25, 'learning_rate': 0.3634561526436354, 'subsample': 0.6442012634039228, 'min_child_weight': 15, 'min_split_gain': 6.015463619969885, 'reg_lambda': 98.21773936444487}. Best is trial 21 with value: 3.138432718419238.\n",
      "🏃 View run gentle-loon-158 at: https://dagshub.com/Ranjeet-Kumar60/swiggy-delivery-time-prediction-project.mlflow/#/experiments/4/runs/3fac37c4025649d2b0de73013fe57a36\n",
      "🧪 View experiment at: https://dagshub.com/Ranjeet-Kumar60/swiggy-delivery-time-prediction-project.mlflow/#/experiments/4\n"
     ]
    },
    {
     "name": "stderr",
     "output_type": "stream",
     "text": [
      "Best trial: 21. Best value: 3.13843:  52%|█████▏    | 26/50 [04:54<06:01, 15.06s/it]"
     ]
    },
    {
     "name": "stdout",
     "output_type": "stream",
     "text": [
      "[I 2025-09-19 10:34:36,573] Trial 3 finished with value: 3.723281787394744 and parameters: {'n_estimators': 184, 'max_depth': 11, 'learning_rate': 0.7868144986468796, 'subsample': 0.6595002663090894, 'min_child_weight': 9, 'min_split_gain': 5.203076986902163, 'reg_lambda': 13.841302434672576}. Best is trial 21 with value: 3.138432718419238.\n"
     ]
    },
    {
     "name": "stderr",
     "output_type": "stream",
     "text": [
      "Best trial: 21. Best value: 3.13843:  54%|█████▍    | 27/50 [04:57<04:22, 11.43s/it]"
     ]
    },
    {
     "name": "stdout",
     "output_type": "stream",
     "text": [
      "[I 2025-09-19 10:34:39,386] Trial 27 finished with value: 3.6816558889684443 and parameters: {'n_estimators': 75, 'max_depth': 24, 'learning_rate': 0.3672490478351833, 'subsample': 0.6359433284632569, 'min_child_weight': 15, 'min_split_gain': 5.8341011887283445, 'reg_lambda': 25.369041398774268}. Best is trial 21 with value: 3.138432718419238.\n"
     ]
    },
    {
     "name": "stderr",
     "output_type": "stream",
     "text": [
      "Best trial: 21. Best value: 3.13843:  56%|█████▌    | 28/50 [05:01<03:23,  9.25s/it]"
     ]
    },
    {
     "name": "stdout",
     "output_type": "stream",
     "text": [
      "[I 2025-09-19 10:34:43,485] Trial 30 finished with value: 3.684875542241668 and parameters: {'n_estimators': 127, 'max_depth': 24, 'learning_rate': 0.3416382157158658, 'subsample': 0.6257414751189734, 'min_child_weight': 15, 'min_split_gain': 5.909785535693484, 'reg_lambda': 96.34969699889271}. Best is trial 21 with value: 3.138432718419238.\n",
      "🏃 View run unique-ant-525 at: https://dagshub.com/Ranjeet-Kumar60/swiggy-delivery-time-prediction-project.mlflow/#/experiments/4/runs/77fc498052d440c7aa273f50f1f39ecc\n",
      "🧪 View experiment at: https://dagshub.com/Ranjeet-Kumar60/swiggy-delivery-time-prediction-project.mlflow/#/experiments/4\n",
      "🏃 View run abundant-gnu-885 at: https://dagshub.com/Ranjeet-Kumar60/swiggy-delivery-time-prediction-project.mlflow/#/experiments/4/runs/28dcf42a801640358a548f9b945d3716\n",
      "🧪 View experiment at: https://dagshub.com/Ranjeet-Kumar60/swiggy-delivery-time-prediction-project.mlflow/#/experiments/4\n"
     ]
    },
    {
     "name": "stderr",
     "output_type": "stream",
     "text": [
      "Best trial: 21. Best value: 3.13843:  58%|█████▊    | 29/50 [05:19<04:09, 11.87s/it]"
     ]
    },
    {
     "name": "stdout",
     "output_type": "stream",
     "text": [
      "[I 2025-09-19 10:35:01,533] Trial 25 finished with value: 3.5265175075920183 and parameters: {'n_estimators': 73, 'max_depth': 24, 'learning_rate': 0.33614986173730554, 'subsample': 0.7066724075188322, 'min_child_weight': 15, 'min_split_gain': 2.1985805267855394, 'reg_lambda': 22.259641371129806}. Best is trial 21 with value: 3.138432718419238.\n",
      "🏃 View run thundering-gnat-571 at: https://dagshub.com/Ranjeet-Kumar60/swiggy-delivery-time-prediction-project.mlflow/#/experiments/4/runs/f2a517fc169546dbb5986f87fafc2fb6\n",
      "🧪 View experiment at: https://dagshub.com/Ranjeet-Kumar60/swiggy-delivery-time-prediction-project.mlflow/#/experiments/4\n",
      "🏃 View run defiant-dove-789 at: https://dagshub.com/Ranjeet-Kumar60/swiggy-delivery-time-prediction-project.mlflow/#/experiments/4/runs/83de5c0dfd6c45bea8261ed18fbbeb31\n",
      "🧪 View experiment at: https://dagshub.com/Ranjeet-Kumar60/swiggy-delivery-time-prediction-project.mlflow/#/experiments/4\n"
     ]
    },
    {
     "name": "stderr",
     "output_type": "stream",
     "text": [
      "Best trial: 21. Best value: 3.13843:  60%|██████    | 30/50 [05:28<03:40, 11.00s/it]"
     ]
    },
    {
     "name": "stdout",
     "output_type": "stream",
     "text": [
      "[I 2025-09-19 10:35:10,503] Trial 28 finished with value: 3.4848467450992766 and parameters: {'n_estimators': 80, 'max_depth': 24, 'learning_rate': 0.36266253053029285, 'subsample': 0.6539757493580208, 'min_child_weight': 15, 'min_split_gain': 1.7889557778670757, 'reg_lambda': 23.77954127761363}. Best is trial 21 with value: 3.138432718419238.\n"
     ]
    },
    {
     "name": "stderr",
     "output_type": "stream",
     "text": [
      "Best trial: 21. Best value: 3.13843:  62%|██████▏   | 31/50 [05:31<02:43,  8.58s/it]"
     ]
    },
    {
     "name": "stdout",
     "output_type": "stream",
     "text": [
      "[I 2025-09-19 10:35:13,415] Trial 33 finished with value: 3.537977369988181 and parameters: {'n_estimators': 42, 'max_depth': 24, 'learning_rate': 0.36303868575228143, 'subsample': 0.8055843073948986, 'min_child_weight': 15, 'min_split_gain': 2.212620759665537, 'reg_lambda': 16.827453851785375}. Best is trial 21 with value: 3.138432718419238.\n"
     ]
    },
    {
     "name": "stderr",
     "output_type": "stream",
     "text": [
      "Best trial: 21. Best value: 3.13843:  64%|██████▍   | 32/50 [05:38<02:26,  8.16s/it]"
     ]
    },
    {
     "name": "stdout",
     "output_type": "stream",
     "text": [
      "[I 2025-09-19 10:35:20,588] Trial 32 finished with value: 3.5353491261923 and parameters: {'n_estimators': 48, 'max_depth': 24, 'learning_rate': 0.3907338158746808, 'subsample': 0.7945471816937775, 'min_child_weight': 15, 'min_split_gain': 2.350070136109122, 'reg_lambda': 16.522848149787507}. Best is trial 21 with value: 3.138432718419238.\n",
      "🏃 View run respected-foal-860 at: https://dagshub.com/Ranjeet-Kumar60/swiggy-delivery-time-prediction-project.mlflow/#/experiments/4/runs/1d7cce5e379f4252a10d2f5a0c4b0f76\n",
      "🧪 View experiment at: https://dagshub.com/Ranjeet-Kumar60/swiggy-delivery-time-prediction-project.mlflow/#/experiments/4\n",
      "🏃 View run sneaky-seal-451 at: https://dagshub.com/Ranjeet-Kumar60/swiggy-delivery-time-prediction-project.mlflow/#/experiments/4/runs/57cec5973c62423cb5fa39edb90672bc\n",
      "🧪 View experiment at: https://dagshub.com/Ranjeet-Kumar60/swiggy-delivery-time-prediction-project.mlflow/#/experiments/4\n",
      "🏃 View run unruly-grub-22 at: https://dagshub.com/Ranjeet-Kumar60/swiggy-delivery-time-prediction-project.mlflow/#/experiments/4/runs/895724504ca949ae9cde2c83d2df0301\n",
      "🧪 View experiment at: https://dagshub.com/Ranjeet-Kumar60/swiggy-delivery-time-prediction-project.mlflow/#/experiments/4\n",
      "🏃 View run learned-eel-69 at: https://dagshub.com/Ranjeet-Kumar60/swiggy-delivery-time-prediction-project.mlflow/#/experiments/4/runs/ec0b8985acd34a129ae17feb215ff766\n",
      "🧪 View experiment at: https://dagshub.com/Ranjeet-Kumar60/swiggy-delivery-time-prediction-project.mlflow/#/experiments/4\n"
     ]
    },
    {
     "name": "stderr",
     "output_type": "stream",
     "text": [
      "Best trial: 21. Best value: 3.13843:  66%|██████▌   | 33/50 [05:56<03:07, 11.05s/it]"
     ]
    },
    {
     "name": "stdout",
     "output_type": "stream",
     "text": [
      "[I 2025-09-19 10:35:38,399] Trial 31 finished with value: 3.497603384517658 and parameters: {'n_estimators': 45, 'max_depth': 25, 'learning_rate': 0.3451910039810137, 'subsample': 0.8015515888780544, 'min_child_weight': 15, 'min_split_gain': 2.5555352518148338, 'reg_lambda': 0.9382228544079467}. Best is trial 21 with value: 3.138432718419238.\n",
      "🏃 View run bittersweet-mare-987 at: https://dagshub.com/Ranjeet-Kumar60/swiggy-delivery-time-prediction-project.mlflow/#/experiments/4/runs/aaf92c202b564dd58805616345d08260\n",
      "🧪 View experiment at: https://dagshub.com/Ranjeet-Kumar60/swiggy-delivery-time-prediction-project.mlflow/#/experiments/4\n"
     ]
    },
    {
     "name": "stderr",
     "output_type": "stream",
     "text": [
      "Best trial: 21. Best value: 3.13843:  68%|██████▊   | 34/50 [06:00<02:24,  9.03s/it]"
     ]
    },
    {
     "name": "stdout",
     "output_type": "stream",
     "text": [
      "[I 2025-09-19 10:35:42,703] Trial 34 finished with value: 3.4796210895245125 and parameters: {'n_estimators': 45, 'max_depth': 13, 'learning_rate': 0.18034329276048755, 'subsample': 0.8310703481638259, 'min_child_weight': 17, 'min_split_gain': 2.742721589626208, 'reg_lambda': 0.36230774838551927}. Best is trial 21 with value: 3.138432718419238.\n",
      "🏃 View run persistent-croc-309 at: https://dagshub.com/Ranjeet-Kumar60/swiggy-delivery-time-prediction-project.mlflow/#/experiments/4/runs/6ac2a37f70cd4f159bb8d2f8e0cef315\n",
      "🧪 View experiment at: https://dagshub.com/Ranjeet-Kumar60/swiggy-delivery-time-prediction-project.mlflow/#/experiments/4\n"
     ]
    },
    {
     "name": "stderr",
     "output_type": "stream",
     "text": [
      "Best trial: 21. Best value: 3.13843:  70%|███████   | 35/50 [06:04<01:52,  7.49s/it]"
     ]
    },
    {
     "name": "stdout",
     "output_type": "stream",
     "text": [
      "[I 2025-09-19 10:35:46,599] Trial 35 finished with value: 3.476474086240768 and parameters: {'n_estimators': 45, 'max_depth': 13, 'learning_rate': 0.1889096757638183, 'subsample': 0.8137308375793402, 'min_child_weight': 17, 'min_split_gain': 2.518242069536935, 'reg_lambda': 2.837725180467233}. Best is trial 21 with value: 3.138432718419238.\n"
     ]
    },
    {
     "name": "stderr",
     "output_type": "stream",
     "text": [
      "Best trial: 21. Best value: 3.13843:  72%|███████▏  | 36/50 [06:05<01:16,  5.49s/it]"
     ]
    },
    {
     "name": "stdout",
     "output_type": "stream",
     "text": [
      "[I 2025-09-19 10:35:47,421] Trial 37 finished with value: 3.51318554619966 and parameters: {'n_estimators': 40, 'max_depth': 13, 'learning_rate': 0.19321252945589978, 'subsample': 0.794371739108528, 'min_child_weight': 17, 'min_split_gain': 2.9119548632616423, 'reg_lambda': 2.4011336710630786}. Best is trial 21 with value: 3.138432718419238.\n"
     ]
    },
    {
     "name": "stderr",
     "output_type": "stream",
     "text": [
      "Best trial: 21. Best value: 3.13843:  74%|███████▍  | 37/50 [06:07<00:57,  4.45s/it]"
     ]
    },
    {
     "name": "stdout",
     "output_type": "stream",
     "text": [
      "[I 2025-09-19 10:35:49,434] Trial 36 finished with value: 3.4967218061395116 and parameters: {'n_estimators': 50, 'max_depth': 13, 'learning_rate': 0.18218499053028164, 'subsample': 0.8062229917144621, 'min_child_weight': 17, 'min_split_gain': 2.481216082744562, 'reg_lambda': 2.1264672991240383}. Best is trial 21 with value: 3.138432718419238.\n"
     ]
    },
    {
     "name": "stderr",
     "output_type": "stream",
     "text": [
      "Best trial: 21. Best value: 3.13843:  76%|███████▌  | 38/50 [06:13<00:59,  4.92s/it]"
     ]
    },
    {
     "name": "stdout",
     "output_type": "stream",
     "text": [
      "[I 2025-09-19 10:35:55,465] Trial 38 finished with value: 3.778429433820129 and parameters: {'n_estimators': 11, 'max_depth': 13, 'learning_rate': 0.1701447614201273, 'subsample': 0.8015021253668926, 'min_child_weight': 17, 'min_split_gain': 2.697817539449407, 'reg_lambda': 1.4112909137693137}. Best is trial 21 with value: 3.138432718419238.\n",
      "🏃 View run legendary-hound-439 at: https://dagshub.com/Ranjeet-Kumar60/swiggy-delivery-time-prediction-project.mlflow/#/experiments/4/runs/47cb83c52be74d5488579b8ce2432790\n",
      "🧪 View experiment at: https://dagshub.com/Ranjeet-Kumar60/swiggy-delivery-time-prediction-project.mlflow/#/experiments/4\n",
      "🏃 View run languid-sow-29 at: https://dagshub.com/Ranjeet-Kumar60/swiggy-delivery-time-prediction-project.mlflow/#/experiments/4/runs/3a7e034b22c84e81b0a98df0b91c99fe\n",
      "🧪 View experiment at: https://dagshub.com/Ranjeet-Kumar60/swiggy-delivery-time-prediction-project.mlflow/#/experiments/4\n"
     ]
    },
    {
     "name": "stderr",
     "output_type": "stream",
     "text": [
      "Best trial: 21. Best value: 3.13843:  78%|███████▊  | 39/50 [06:29<01:30,  8.25s/it]"
     ]
    },
    {
     "name": "stdout",
     "output_type": "stream",
     "text": [
      "[I 2025-09-19 10:36:11,480] Trial 40 finished with value: 3.4837124903322945 and parameters: {'n_estimators': 36, 'max_depth': 14, 'learning_rate': 0.17765437349002602, 'subsample': 0.7979825937846035, 'min_child_weight': 17, 'min_split_gain': 2.7127143668333553, 'reg_lambda': 0.7251249589006941}. Best is trial 21 with value: 3.138432718419238.\n",
      "🏃 View run treasured-slug-178 at: https://dagshub.com/Ranjeet-Kumar60/swiggy-delivery-time-prediction-project.mlflow/#/experiments/4/runs/ab546ec759fc48f28932b4941d352411\n",
      "🧪 View experiment at: https://dagshub.com/Ranjeet-Kumar60/swiggy-delivery-time-prediction-project.mlflow/#/experiments/4\n"
     ]
    },
    {
     "name": "stderr",
     "output_type": "stream",
     "text": [
      "Best trial: 21. Best value: 3.13843:  80%|████████  | 40/50 [06:33<01:09,  6.97s/it]"
     ]
    },
    {
     "name": "stdout",
     "output_type": "stream",
     "text": [
      "[I 2025-09-19 10:36:15,471] Trial 39 finished with value: 3.5055190506756375 and parameters: {'n_estimators': 46, 'max_depth': 13, 'learning_rate': 0.1868130234778813, 'subsample': 0.7934963284362404, 'min_child_weight': 17, 'min_split_gain': 2.6126133632700785, 'reg_lambda': 2.025563118687968}. Best is trial 21 with value: 3.138432718419238.\n",
      "🏃 View run defiant-flea-218 at: https://dagshub.com/Ranjeet-Kumar60/swiggy-delivery-time-prediction-project.mlflow/#/experiments/4/runs/97af12e2f23946619156eeb3fc4e9f38\n",
      "🧪 View experiment at: https://dagshub.com/Ranjeet-Kumar60/swiggy-delivery-time-prediction-project.mlflow/#/experiments/4\n"
     ]
    },
    {
     "name": "stderr",
     "output_type": "stream",
     "text": [
      "Best trial: 21. Best value: 3.13843:  82%|████████▏ | 41/50 [06:40<01:02,  6.99s/it]"
     ]
    },
    {
     "name": "stdout",
     "output_type": "stream",
     "text": [
      "[I 2025-09-19 10:36:22,485] Trial 23 finished with value: 3.308065626547821 and parameters: {'n_estimators': 67, 'max_depth': 25, 'learning_rate': 0.3500164093754858, 'subsample': 0.7042636154092572, 'min_child_weight': 16, 'min_split_gain': 0.43440438190897346, 'reg_lambda': 25.863450933781724}. Best is trial 21 with value: 3.138432718419238.\n",
      "🏃 View run trusting-shark-151 at: https://dagshub.com/Ranjeet-Kumar60/swiggy-delivery-time-prediction-project.mlflow/#/experiments/4/runs/3519879502724dadbb88875b740654b4\n",
      "🧪 View experiment at: https://dagshub.com/Ranjeet-Kumar60/swiggy-delivery-time-prediction-project.mlflow/#/experiments/4\n"
     ]
    },
    {
     "name": "stderr",
     "output_type": "stream",
     "text": [
      "Best trial: 21. Best value: 3.13843:  84%|████████▍ | 42/50 [06:47<00:56,  7.03s/it]"
     ]
    },
    {
     "name": "stdout",
     "output_type": "stream",
     "text": [
      "[I 2025-09-19 10:36:29,605] Trial 43 finished with value: 3.310282215168416 and parameters: {'n_estimators': 40, 'max_depth': 15, 'learning_rate': 0.20979967657059095, 'subsample': 0.7416484677548211, 'min_child_weight': 17, 'min_split_gain': 0.679209164143588, 'reg_lambda': 2.8796065885279014}. Best is trial 21 with value: 3.138432718419238.\n",
      "🏃 View run resilient-shark-212 at: https://dagshub.com/Ranjeet-Kumar60/swiggy-delivery-time-prediction-project.mlflow/#/experiments/4/runs/63246124ca5a4f838d7187197cbc815c\n",
      "🧪 View experiment at: https://dagshub.com/Ranjeet-Kumar60/swiggy-delivery-time-prediction-project.mlflow/#/experiments/4\n"
     ]
    },
    {
     "name": "stderr",
     "output_type": "stream",
     "text": [
      "Best trial: 21. Best value: 3.13843:  86%|████████▌ | 43/50 [06:52<00:45,  6.45s/it]"
     ]
    },
    {
     "name": "stdout",
     "output_type": "stream",
     "text": [
      "[I 2025-09-19 10:36:34,716] Trial 41 finished with value: 3.317112222203625 and parameters: {'n_estimators': 36, 'max_depth': 15, 'learning_rate': 0.19827468483563945, 'subsample': 0.7426233908393778, 'min_child_weight': 17, 'min_split_gain': 0.8955131521032061, 'reg_lambda': 0.964857104914608}. Best is trial 21 with value: 3.138432718419238.\n"
     ]
    },
    {
     "name": "stderr",
     "output_type": "stream",
     "text": [
      "Best trial: 21. Best value: 3.13843:  88%|████████▊ | 44/50 [06:56<00:33,  5.63s/it]"
     ]
    },
    {
     "name": "stdout",
     "output_type": "stream",
     "text": [
      "[I 2025-09-19 10:36:38,447] Trial 42 finished with value: 3.548788549601904 and parameters: {'n_estimators': 10, 'max_depth': 15, 'learning_rate': 0.20821854859920916, 'subsample': 0.7453457536097928, 'min_child_weight': 17, 'min_split_gain': 0.7400583048818005, 'reg_lambda': 1.8090887340688528}. Best is trial 21 with value: 3.138432718419238.\n",
      "🏃 View run loud-hawk-66 at: https://dagshub.com/Ranjeet-Kumar60/swiggy-delivery-time-prediction-project.mlflow/#/experiments/4/runs/c9b8ceec4add46d38aa7fcc1bcd713ee\n",
      "🧪 View experiment at: https://dagshub.com/Ranjeet-Kumar60/swiggy-delivery-time-prediction-project.mlflow/#/experiments/4\n",
      "🏃 View run ambitious-colt-333 at: https://dagshub.com/Ranjeet-Kumar60/swiggy-delivery-time-prediction-project.mlflow/#/experiments/4/runs/9d22b258952c49abbf6b6cb373b49261\n",
      "🧪 View experiment at: https://dagshub.com/Ranjeet-Kumar60/swiggy-delivery-time-prediction-project.mlflow/#/experiments/4\n",
      "🏃 View run skittish-shrimp-865 at: https://dagshub.com/Ranjeet-Kumar60/swiggy-delivery-time-prediction-project.mlflow/#/experiments/4/runs/a24f113e9eb947e79e18c5296a933557\n",
      "🧪 View experiment at: https://dagshub.com/Ranjeet-Kumar60/swiggy-delivery-time-prediction-project.mlflow/#/experiments/4\n",
      "🏃 View run respected-cat-91 at: https://dagshub.com/Ranjeet-Kumar60/swiggy-delivery-time-prediction-project.mlflow/#/experiments/4/runs/91a57aa995954e659686878cf9b234f7\n",
      "🧪 View experiment at: https://dagshub.com/Ranjeet-Kumar60/swiggy-delivery-time-prediction-project.mlflow/#/experiments/4\n",
      "🏃 View run grandiose-fly-717 at: https://dagshub.com/Ranjeet-Kumar60/swiggy-delivery-time-prediction-project.mlflow/#/experiments/4/runs/2ab97c03eb5b4b26aec198f320c4ca7f\n",
      "🧪 View experiment at: https://dagshub.com/Ranjeet-Kumar60/swiggy-delivery-time-prediction-project.mlflow/#/experiments/4\n"
     ]
    },
    {
     "name": "stderr",
     "output_type": "stream",
     "text": [
      "Best trial: 21. Best value: 3.13843:  90%|█████████ | 45/50 [07:05<00:33,  6.63s/it]"
     ]
    },
    {
     "name": "stdout",
     "output_type": "stream",
     "text": [
      "[I 2025-09-19 10:36:47,398] Trial 45 finished with value: 3.3449598360956116 and parameters: {'n_estimators': 121, 'max_depth': 18, 'learning_rate': 0.24125794940394568, 'subsample': 0.7433200636507752, 'min_child_weight': 13, 'min_split_gain': 0.8706586406223045, 'reg_lambda': 10.269196501102945}. Best is trial 21 with value: 3.138432718419238.\n"
     ]
    },
    {
     "name": "stderr",
     "output_type": "stream",
     "text": [
      "Best trial: 21. Best value: 3.13843:  92%|█████████▏| 46/50 [07:06<00:19,  4.95s/it]"
     ]
    },
    {
     "name": "stdout",
     "output_type": "stream",
     "text": [
      "[I 2025-09-19 10:36:48,446] Trial 44 finished with value: 3.400021559162218 and parameters: {'n_estimators': 96, 'max_depth': 17, 'learning_rate': 0.24111974601214445, 'subsample': 0.7337525893411632, 'min_child_weight': 13, 'min_split_gain': 0.7344008113891874, 'reg_lambda': 50.595534899002736}. Best is trial 21 with value: 3.138432718419238.\n"
     ]
    },
    {
     "name": "stderr",
     "output_type": "stream",
     "text": [
      "Best trial: 21. Best value: 3.13843:  94%|█████████▍| 47/50 [07:07<00:11,  3.77s/it]"
     ]
    },
    {
     "name": "stdout",
     "output_type": "stream",
     "text": [
      "[I 2025-09-19 10:36:49,453] Trial 46 finished with value: 3.340915168438701 and parameters: {'n_estimators': 90, 'max_depth': 20, 'learning_rate': 0.24304894961576393, 'subsample': 0.7372830073757061, 'min_child_weight': 13, 'min_split_gain': 0.7013056216622008, 'reg_lambda': 10.791653742984558}. Best is trial 21 with value: 3.138432718419238.\n"
     ]
    },
    {
     "name": "stderr",
     "output_type": "stream",
     "text": [
      "Best trial: 21. Best value: 3.13843:  96%|█████████▌| 48/50 [07:08<00:05,  2.95s/it]"
     ]
    },
    {
     "name": "stdout",
     "output_type": "stream",
     "text": [
      "[I 2025-09-19 10:36:50,482] Trial 48 finished with value: 3.3896621118859636 and parameters: {'n_estimators': 92, 'max_depth': 19, 'learning_rate': 0.23835466479874803, 'subsample': 0.754612014375832, 'min_child_weight': 13, 'min_split_gain': 0.8148357921841292, 'reg_lambda': 49.52733487929291}. Best is trial 21 with value: 3.138432718419238.\n",
      "🏃 View run caring-boar-370 at: https://dagshub.com/Ranjeet-Kumar60/swiggy-delivery-time-prediction-project.mlflow/#/experiments/4/runs/245e4e47808448fba74a43a6900d29cd\n",
      "🧪 View experiment at: https://dagshub.com/Ranjeet-Kumar60/swiggy-delivery-time-prediction-project.mlflow/#/experiments/4\n"
     ]
    },
    {
     "name": "stderr",
     "output_type": "stream",
     "text": [
      "Best trial: 21. Best value: 3.13843:  98%|█████████▊| 49/50 [07:10<00:02,  2.68s/it]"
     ]
    },
    {
     "name": "stdout",
     "output_type": "stream",
     "text": [
      "[I 2025-09-19 10:36:52,547] Trial 49 finished with value: 3.362274348034133 and parameters: {'n_estimators': 93, 'max_depth': 20, 'learning_rate': 0.23336371860082716, 'subsample': 0.7479628717234892, 'min_child_weight': 13, 'min_split_gain': 0.8042265509185871, 'reg_lambda': 35.010775034386015}. Best is trial 21 with value: 3.138432718419238.\n"
     ]
    },
    {
     "name": "stderr",
     "output_type": "stream",
     "text": [
      "Best trial: 21. Best value: 3.13843: 100%|██████████| 50/50 [07:11<00:00,  8.63s/it]\n"
     ]
    },
    {
     "name": "stdout",
     "output_type": "stream",
     "text": [
      "[I 2025-09-19 10:36:53,555] Trial 47 finished with value: 3.340668685703007 and parameters: {'n_estimators': 95, 'max_depth': 20, 'learning_rate': 0.2475895905165242, 'subsample': 0.739871823527354, 'min_child_weight': 13, 'min_split_gain': 0.8273626923493994, 'reg_lambda': 10.106219788467968}. Best is trial 21 with value: 3.138432718419238.\n",
      "[LightGBM] [Info] Auto-choosing row-wise multi-threading, the overhead of testing was 0.001781 seconds.\n",
      "You can set `force_row_wise=true` to remove the overhead.\n",
      "And if memory is not enough, you can set `force_col_wise=true`.\n",
      "[LightGBM] [Info] Total Bins 352\n",
      "[LightGBM] [Info] Number of data points in the train set: 30156, number of used features: 25\n",
      "[LightGBM] [Info] Start training from score -0.000000\n",
      "🏃 View run best_model at: https://dagshub.com/Ranjeet-Kumar60/swiggy-delivery-time-prediction-project.mlflow/#/experiments/4/runs/45dacad7249a4492b387a9439e1db71e\n",
      "🧪 View experiment at: https://dagshub.com/Ranjeet-Kumar60/swiggy-delivery-time-prediction-project.mlflow/#/experiments/4\n"
     ]
    }
   ],
   "source": [
    "# create optuna study\n",
    "study = optuna.create_study(direction=\"minimize\")\n",
    "\n",
    "with mlflow.start_run(run_name=\"best_model\"):\n",
    "    # optimize the objective function\n",
    "    study.optimize(objective, n_trials=50, n_jobs=-1, show_progress_bar=True)\n",
    "\n",
    "    # log the best parameters\n",
    "    mlflow.log_params(study.best_params)\n",
    "\n",
    "    # log the best score\n",
    "    mlflow.log_metric(\"best_score\", study.best_value)\n",
    "\n",
    "    # train the model on best parameters\n",
    "    best_lgbm = LGBMRegressor(**study.best_params)\n",
    "    best_lgbm.fit(X_train_trans, y_train_pt.values.ravel())\n",
    "\n",
    "    # get the predictions\n",
    "    y_pred_train = best_lgbm.predict(X_train_trans)\n",
    "    y_pred_test = best_lgbm.predict(X_test_trans)\n",
    "\n",
    "    # get the actual predictions values\n",
    "    y_pred_train_org = pt.inverse_transform(y_pred_train.reshape(-1, 1))\n",
    "    y_pred_test_org = pt.inverse_transform(y_pred_test.reshape(-1, 1))\n",
    "\n",
    "    # perform cross validation\n",
    "    model = TransformedTargetRegressor(regressor=best_lgbm,\n",
    "                                       transformer=pt)\n",
    "\n",
    "    scores = cross_val_score(model,\n",
    "                             X_train_trans,\n",
    "                             y_train,\n",
    "                             scoring=\"neg_mean_absolute_error\",\n",
    "                             cv=5, n_jobs=-1)\n",
    "\n",
    "    # log metrics\n",
    "    mlflow.log_metric(\"training_error\", mean_absolute_error(y_train, y_pred_train_org))\n",
    "    mlflow.log_metric(\"test_error\", mean_absolute_error(y_test, y_pred_test_org))\n",
    "    mlflow.log_metric(\"training_r2\", r2_score(y_train, y_pred_train_org))\n",
    "    mlflow.log_metric(\"test_r2\", r2_score(y_test, y_pred_test_org))\n",
    "    mlflow.log_metric(\"cross_val\", -scores.mean())\n",
    "\n",
    "    # ---- FIXED PART ----\n",
    "    # save model locally\n",
    "    model_path = \"best_lgbm.pkl\"\n",
    "    joblib.dump(best_lgbm, model_path)\n",
    "\n",
    "    # log as artifact (works with DagsHub MLflow)\n",
    "    mlflow.log_artifact(model_path, artifact_path=\"model\")"
   ]
  },
  {
   "cell_type": "code",
   "execution_count": 40,
   "metadata": {
    "colab": {
     "base_uri": "https://localhost:8080/"
    },
    "executionInfo": {
     "elapsed": 667,
     "status": "ok",
     "timestamp": 1732873900732,
     "user": {
      "displayName": "Himanshu Arora",
      "userId": "03026800847751892488"
     },
     "user_tz": -330
    },
    "id": "HikKyacTVS51",
    "outputId": "a6fa9051-4149-44f3-9474-2243f238ddc6"
   },
   "outputs": [
    {
     "data": {
      "text/plain": [
       "{'n_estimators': 54,\n",
       " 'max_depth': 21,\n",
       " 'learning_rate': 0.10045076208349206,\n",
       " 'subsample': 0.7910179518697267,\n",
       " 'min_child_weight': 16,\n",
       " 'min_split_gain': 0.04405242736408824,\n",
       " 'reg_lambda': 2.1513555963199087}"
      ]
     },
     "execution_count": 40,
     "metadata": {},
     "output_type": "execute_result"
    }
   ],
   "source": [
    "study.best_params"
   ]
  },
  {
   "cell_type": "code",
   "execution_count": 41,
   "metadata": {
    "colab": {
     "base_uri": "https://localhost:8080/"
    },
    "executionInfo": {
     "elapsed": 638,
     "status": "ok",
     "timestamp": 1732873933034,
     "user": {
      "displayName": "Himanshu Arora",
      "userId": "03026800847751892488"
     },
     "user_tz": -330
    },
    "id": "clMfQZNVVV5J",
    "outputId": "116f9de6-195e-4b4a-8297-f21a4011d1a7"
   },
   "outputs": [
    {
     "data": {
      "text/plain": [
       "3.138432718419238"
      ]
     },
     "execution_count": 41,
     "metadata": {},
     "output_type": "execute_result"
    }
   ],
   "source": [
    "study.best_value"
   ]
  },
  {
   "cell_type": "code",
   "execution_count": 42,
   "metadata": {
    "colab": {
     "base_uri": "https://localhost:8080/",
     "height": 542
    },
    "executionInfo": {
     "elapsed": 718,
     "status": "ok",
     "timestamp": 1732873862980,
     "user": {
      "displayName": "Himanshu Arora",
      "userId": "03026800847751892488"
     },
     "user_tz": -330
    },
    "id": "uL7mOakfC77H",
    "outputId": "e96fe789-d41f-4394-98a7-025b78a6ac6d"
   },
   "outputs": [
    {
     "name": "stderr",
     "output_type": "stream",
     "text": [
      "C:\\Users\\Admin\\AppData\\Local\\Temp\\ipykernel_2816\\819877658.py:3: ExperimentalWarning: optuna.visualization.matplotlib._optimization_history.plot_optimization_history is experimental (supported from v2.2.0). The interface can change in the future.\n",
      "  plot_optimization_history(study)\n"
     ]
    },
    {
     "data": {
      "text/plain": [
       "<Axes: title={'center': 'Optimization History Plot'}, xlabel='Trial', ylabel='Objective Value'>"
      ]
     },
     "execution_count": 42,
     "metadata": {},
     "output_type": "execute_result"
    },
    {
     "data": {
      "image/png": "[encoded data removed]",
      "text/plain": [
       "<Figure size 640x480 with 1 Axes>"
      ]
     },
     "metadata": {},
     "output_type": "display_data"
    }
   ],
   "source": [
    "from optuna.visualization.matplotlib import plot_optimization_history\n",
    "\n",
    "plot_optimization_history(study)\n"
   ]
  }
 ],
 "metadata": {
  "colab": {
   "authorship_tag": "ABX9TyMsL+bArNqMSOXNuNidDvJE",
   "provenance": [
    {
     "file_id": "1M8R39bCnlLPkeXdaWwYMNDhscz6ggBCr",
     "timestamp": 1732816919042
    }
   ]
  },
  "kernelspec": {
   "display_name": "swiggy_project_env",
   "language": "python",
   "name": "python3"
  },
  "language_info": {
   "codemirror_mode": {
    "name": "ipython",
    "version": 3
   },
   "file_extension": ".py",
   "mimetype": "text/x-python",
   "name": "python",
   "nbconvert_exporter": "python",
   "pygments_lexer": "ipython3",
   "version": "3.10.18"
  },
  "widgets": {
   "application/vnd.jupyter.widget-state+json": {
    "00fb9cfc47754120bbd4f8baef0ab020": {
     "model_module": "@jupyter-widgets/controls",
     "model_module_version": "1.5.0",
     "model_name": "DescriptionStyleModel",
     "state": {
      "_model_module": "@jupyter-widgets/controls",
      "_model_module_version": "1.5.0",
      "_model_name": "DescriptionStyleModel",
      "_view_count": null,
      "_view_module": "@jupyter-widgets/base",
      "_view_module_version": "1.2.0",
      "_view_name": "StyleView",
      "description_width": ""
     }
    },
    "0978fc23aa244141a561e9d047cb4a6b": {
     "model_module": "@jupyter-widgets/controls",
     "model_module_version": "1.5.0",
     "model_name": "ProgressStyleModel",
     "state": {
      "_model_module": "@jupyter-widgets/controls",
      "_model_module_version": "1.5.0",
      "_model_name": "ProgressStyleModel",
      "_view_count": null,
      "_view_module": "@jupyter-widgets/base",
      "_view_module_version": "1.2.0",
      "_view_name": "StyleView",
      "bar_color": null,
      "description_width": ""
     }
    },
    "14627f1449e647f4a8459ae339341fdc": {
     "model_module": "@jupyter-widgets/controls",
     "model_module_version": "1.5.0",
     "model_name": "HBoxModel",
     "state": {
      "_dom_classes": [],
      "_model_module": "@jupyter-widgets/controls",
      "_model_module_version": "1.5.0",
      "_model_name": "HBoxModel",
      "_view_count": null,
      "_view_module": "@jupyter-widgets/controls",
      "_view_module_version": "1.5.0",
      "_view_name": "HBoxView",
      "box_style": "",
      "children": [
       "IPY_MODEL_b11d53c915b943769109b5434caff025",
       "IPY_MODEL_6696e39c9ab34445be9ba6eb90c7c97c",
       "IPY_MODEL_d226150fbddc4f6db9137b86aa7af126"
      ],
      "layout": "IPY_MODEL_b07b24928c3547118da93ca8238f0e9c"
     }
    },
    "18c798948df24fa48ecc432febb1e17a": {
     "model_module": "@jupyter-widgets/controls",
     "model_module_version": "1.5.0",
     "model_name": "DescriptionStyleModel",
     "state": {
      "_model_module": "@jupyter-widgets/controls",
      "_model_module_version": "1.5.0",
      "_model_name": "DescriptionStyleModel",
      "_view_count": null,
      "_view_module": "@jupyter-widgets/base",
      "_view_module_version": "1.2.0",
      "_view_name": "StyleView",
      "description_width": ""
     }
    },
    "6696e39c9ab34445be9ba6eb90c7c97c": {
     "model_module": "@jupyter-widgets/controls",
     "model_module_version": "1.5.0",
     "model_name": "FloatProgressModel",
     "state": {
      "_dom_classes": [],
      "_model_module": "@jupyter-widgets/controls",
      "_model_module_version": "1.5.0",
      "_model_name": "FloatProgressModel",
      "_view_count": null,
      "_view_module": "@jupyter-widgets/controls",
      "_view_module_version": "1.5.0",
      "_view_name": "ProgressView",
      "bar_style": "success",
      "description": "",
      "description_tooltip": null,
      "layout": "IPY_MODEL_fb48f714b7a046d9a082d2c481dbb0f8",
      "max": 50,
      "min": 0,
      "orientation": "horizontal",
      "style": "IPY_MODEL_0978fc23aa244141a561e9d047cb4a6b",
      "value": 50
     }
    },
    "95de1c008c9a4a22a265357f2ed35730": {
     "model_module": "@jupyter-widgets/base",
     "model_module_version": "1.2.0",
     "model_name": "LayoutModel",
     "state": {
      "_model_module": "@jupyter-widgets/base",
      "_model_module_version": "1.2.0",
      "_model_name": "LayoutModel",
      "_view_count": null,
      "_view_module": "@jupyter-widgets/base",
      "_view_module_version": "1.2.0",
      "_view_name": "LayoutView",
      "align_content": null,
      "align_items": null,
      "align_self": null,
      "border": null,
      "bottom": null,
      "display": null,
      "flex": null,
      "flex_flow": null,
      "grid_area": null,
      "grid_auto_columns": null,
      "grid_auto_flow": null,
      "grid_auto_rows": null,
      "grid_column": null,
      "grid_gap": null,
      "grid_row": null,
      "grid_template_areas": null,
      "grid_template_columns": null,
      "grid_template_rows": null,
      "height": null,
      "justify_content": null,
      "justify_items": null,
      "left": null,
      "margin": null,
      "max_height": null,
      "max_width": null,
      "min_height": null,
      "min_width": null,
      "object_fit": null,
      "object_position": null,
      "order": null,
      "overflow": null,
      "overflow_x": null,
      "overflow_y": null,
      "padding": null,
      "right": null,
      "top": null,
      "visibility": null,
      "width": null
     }
    },
    "b07b24928c3547118da93ca8238f0e9c": {
     "model_module": "@jupyter-widgets/base",
     "model_module_version": "1.2.0",
     "model_name": "LayoutModel",
     "state": {
      "_model_module": "@jupyter-widgets/base",
      "_model_module_version": "1.2.0",
      "_model_name": "LayoutModel",
      "_view_count": null,
      "_view_module": "@jupyter-widgets/base",
      "_view_module_version": "1.2.0",
      "_view_name": "LayoutView",
      "align_content": null,
      "align_items": null,
      "align_self": null,
      "border": null,
      "bottom": null,
      "display": null,
      "flex": null,
      "flex_flow": null,
      "grid_area": null,
      "grid_auto_columns": null,
      "grid_auto_flow": null,
      "grid_auto_rows": null,
      "grid_column": null,
      "grid_gap": null,
      "grid_row": null,
      "grid_template_areas": null,
      "grid_template_columns": null,
      "grid_template_rows": null,
      "height": null,
      "justify_content": null,
      "justify_items": null,
      "left": null,
      "margin": null,
      "max_height": null,
      "max_width": null,
      "min_height": null,
      "min_width": null,
      "object_fit": null,
      "object_position": null,
      "order": null,
      "overflow": null,
      "overflow_x": null,
      "overflow_y": null,
      "padding": null,
      "right": null,
      "top": null,
      "visibility": null,
      "width": null
     }
    },
    "b11d53c915b943769109b5434caff025": {
     "model_module": "@jupyter-widgets/controls",
     "model_module_version": "1.5.0",
     "model_name": "HTMLModel",
     "state": {
      "_dom_classes": [],
      "_model_module": "@jupyter-widgets/controls",
      "_model_module_version": "1.5.0",
      "_model_name": "HTMLModel",
      "_view_count": null,
      "_view_module": "@jupyter-widgets/controls",
      "_view_module_version": "1.5.0",
      "_view_name": "HTMLView",
      "description": "",
      "description_tooltip": null,
      "layout": "IPY_MODEL_e004e7debe73442897d3998a69bc7733",
      "placeholder": "​",
      "style": "IPY_MODEL_18c798948df24fa48ecc432febb1e17a",
      "value": "Best trial: 40. Best value: 3.14517: 100%"
     }
    },
    "d226150fbddc4f6db9137b86aa7af126": {
     "model_module": "@jupyter-widgets/controls",
     "model_module_version": "1.5.0",
     "model_name": "HTMLModel",
     "state": {
      "_dom_classes": [],
      "_model_module": "@jupyter-widgets/controls",
      "_model_module_version": "1.5.0",
      "_model_name": "HTMLModel",
      "_view_count": null,
      "_view_module": "@jupyter-widgets/controls",
      "_view_module_version": "1.5.0",
      "_view_name": "HTMLView",
      "description": "",
      "description_tooltip": null,
      "layout": "IPY_MODEL_95de1c008c9a4a22a265357f2ed35730",
      "placeholder": "​",
      "style": "IPY_MODEL_00fb9cfc47754120bbd4f8baef0ab020",
      "value": " 50/50 [05:03&lt;00:00,  7.24s/it]"
     }
    },
    "e004e7debe73442897d3998a69bc7733": {
     "model_module": "@jupyter-widgets/base",
     "model_module_version": "1.2.0",
     "model_name": "LayoutModel",
     "state": {
      "_model_module": "@jupyter-widgets/base",
      "_model_module_version": "1.2.0",
      "_model_name": "LayoutModel",
      "_view_count": null,
      "_view_module": "@jupyter-widgets/base",
      "_view_module_version": "1.2.0",
      "_view_name": "LayoutView",
      "align_content": null,
      "align_items": null,
      "align_self": null,
      "border": null,
      "bottom": null,
      "display": null,
      "flex": null,
      "flex_flow": null,
      "grid_area": null,
      "grid_auto_columns": null,
      "grid_auto_flow": null,
      "grid_auto_rows": null,
      "grid_column": null,
      "grid_gap": null,
      "grid_row": null,
      "grid_template_areas": null,
      "grid_template_columns": null,
      "grid_template_rows": null,
      "height": null,
      "justify_content": null,
      "justify_items": null,
      "left": null,
      "margin": null,
      "max_height": null,
      "max_width": null,
      "min_height": null,
      "min_width": null,
      "object_fit": null,
      "object_position": null,
      "order": null,
      "overflow": null,
      "overflow_x": null,
      "overflow_y": null,
      "padding": null,
      "right": null,
      "top": null,
      "visibility": null,
      "width": null
     }
    },
    "fb48f714b7a046d9a082d2c481dbb0f8": {
     "model_module": "@jupyter-widgets/base",
     "model_module_version": "1.2.0",
     "model_name": "LayoutModel",
     "state": {
      "_model_module": "@jupyter-widgets/base",
      "_model_module_version": "1.2.0",
      "_model_name": "LayoutModel",
      "_view_count": null,
      "_view_module": "@jupyter-widgets/base",
      "_view_module_version": "1.2.0",
      "_view_name": "LayoutView",
      "align_content": null,
      "align_items": null,
      "align_self": null,
      "border": null,
      "bottom": null,
      "display": null,
      "flex": null,
      "flex_flow": null,
      "grid_area": null,
      "grid_auto_columns": null,
      "grid_auto_flow": null,
      "grid_auto_rows": null,
      "grid_column": null,
      "grid_gap": null,
      "grid_row": null,
      "grid_template_areas": null,
      "grid_template_columns": null,
      "grid_template_rows": null,
      "height": null,
      "justify_content": null,
      "justify_items": null,
      "left": null,
      "margin": null,
      "max_height": null,
      "max_width": null,
      "min_height": null,
      "min_width": null,
      "object_fit": null,
      "object_position": null,
      "order": null,
      "overflow": null,
      "overflow_x": null,
      "overflow_y": null,
      "padding": null,
      "right": null,
      "top": null,
      "visibility": null,
      "width": null
     }
    }
   }
  }
 },
 "nbformat": 4,
 "nbformat_minor": 0
}
